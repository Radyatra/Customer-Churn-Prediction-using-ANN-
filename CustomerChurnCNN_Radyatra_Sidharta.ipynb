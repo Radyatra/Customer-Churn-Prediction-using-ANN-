{
 "cells": [
  {
   "cell_type": "markdown",
   "metadata": {},
   "source": [
    "# **Customer Churn Prediction using Artificial Neural Networks**\n",
    "\n",
    "By Radyatra Sidharta"
   ]
  },
  {
   "cell_type": "markdown",
   "metadata": {},
   "source": [
    "## I. Introduction\n",
    "\n",
    "### a. Table of Content\n",
    "- I. Introduction\n",
    "    - a. Table of Content\n",
    "    - b. Objective\n",
    "\n",
    "- II. Library Import\n",
    "\n",
    "- III. Data Loading\n",
    "\n",
    "- IV. Exploratory Data Analysis (EDA)\n",
    "    - a. Dataset Summary\n",
    "    - b. Features Summary\n",
    "        - 1. Numerical Features\n",
    "        - 2. Categorical Features\n",
    "    - c. Class Balance\n",
    "\n",
    "- V. Data Preprocessing\n",
    "    - a. Feature Selection\n",
    "        - 1. Checking Correlation of Features to Target\n",
    "        - 2. Checking Multicollinearity between Features\n",
    "    - b. Splitting Dataset\n",
    "    - c. Outlier Handling\n",
    "    - d. Feature Scaling\n",
    "    - e. Feature Encoding\n",
    "    - f. Concat Numerical and Categorical Sets\n",
    "    - g. Class Balancing\n",
    "    - h. TensorFlow Pipeline\n",
    "        - 1. Sequential API\n",
    "        - 2. Functional API\n",
    "\n",
    "- VI. Model Definition\n",
    "    - a. Sequential API\n",
    "    - b. Functional API\n",
    "\n",
    "- VII. Model Training\n",
    "    - a. Sequential API\n",
    "    - b. Functional API\n",
    "\n",
    "- VIII. Model Evaluation\n",
    "    - a. Sequential API\n",
    "    - b. Functional API\n",
    "\n",
    "- IX. Model Improvement\n",
    "    - a. Model Definition\n",
    "        - 1. Sequential API\n",
    "        - 2. Functional API\n",
    "    - b. Model Training\n",
    "        - 1. Sequential API\n",
    "        - 2. Functional API\n",
    "    - c. Model Evaluation\n",
    "        - 1. Sequential API\n",
    "        - 2. Functional API\n",
    "- X. Model Inference\n",
    "- XI. Model Saving\n",
    "- XII. Conclusion\n",
    "\n",
    "### b. Objectives\n",
    "\n",
    "Create an Artificial Neural Network model to predict customer churn."
   ]
  },
  {
   "cell_type": "markdown",
   "metadata": {},
   "source": [
    "## II. Library Import"
   ]
  },
  {
   "cell_type": "code",
   "execution_count": 79,
   "metadata": {},
   "outputs": [],
   "source": [
    "# Define Libraries\n",
    "import pandas as pd\n",
    "import numpy as np\n",
    "import matplotlib.pyplot as plt\n",
    "%matplotlib inline\n",
    "import seaborn as sns\n",
    "from scipy import stats\n",
    "import phik\n",
    "import pickle\n",
    "import tensorflow as tf\n",
    "\n",
    "import warnings\n",
    "warnings.filterwarnings('ignore')\n",
    "\n",
    "# For EDA\n",
    "from statistics import mode\n",
    "\n",
    "# For Feature Selection\n",
    "from sklearn.feature_selection import chi2\n",
    "from sklearn.feature_selection import SelectKBest\n",
    "\n",
    "# For Data Balancing\n",
    "from imblearn.over_sampling import SMOTENC\n",
    "\n",
    "# For Feature Encoding\n",
    "from sklearn.preprocessing import OneHotEncoder,StandardScaler,MinMaxScaler,OrdinalEncoder\n",
    "\n",
    "# Handling Outlier\n",
    "from feature_engine.outliers import Winsorizer\n",
    "\n",
    "# For Feature Scaling\n",
    "from sklearn.preprocessing import MinMaxScaler\n",
    "\n",
    "# For Principal Component Analysis\n",
    "from sklearn.decomposition import PCA\n",
    "\n",
    "# For Pipeline\n",
    "from sklearn.pipeline import Pipeline, make_pipeline\n",
    "\n",
    "# For Model\n",
    "from tensorflow.keras.models import Sequential, Model, load_model\n",
    "from tensorflow.keras.layers import Input, Dense, Dropout\n",
    "from tensorflow.keras.callbacks import EarlyStopping,ModelCheckpoint\n",
    "\n",
    "# Calculate the Variance Inflation Factor\n",
    "from statsmodels.stats.outliers_influence import variance_inflation_factor\n",
    "\n",
    "# Split between Train-Set and Test-Set\n",
    "from sklearn.model_selection import train_test_split\n",
    "\n",
    "# To Evaluate and Improve Models\n",
    "from sklearn import metrics\n",
    "from sklearn.metrics import accuracy_score,classification_report,ConfusionMatrixDisplay,confusion_matrix, roc_auc_score, roc_curve,precision_score, recall_score, f1_score\n",
    "from sklearn.model_selection import cross_val_score\n",
    "from sklearn.model_selection import GridSearchCV\n",
    "\n",
    "from sklearn.impute import SimpleImputer\n",
    "from sklearn.compose import ColumnTransformer\n",
    "\n",
    "np.random.seed(20)\n",
    "tf.random.set_seed(20)"
   ]
  },
  {
   "cell_type": "markdown",
   "metadata": {},
   "source": [
    "## III. Data Loading"
   ]
  },
  {
   "cell_type": "code",
   "execution_count": 80,
   "metadata": {},
   "outputs": [
    {
     "data": {
      "text/html": [
       "<div>\n",
       "<style scoped>\n",
       "    .dataframe tbody tr th:only-of-type {\n",
       "        vertical-align: middle;\n",
       "    }\n",
       "\n",
       "    .dataframe tbody tr th {\n",
       "        vertical-align: top;\n",
       "    }\n",
       "\n",
       "    .dataframe thead th {\n",
       "        text-align: right;\n",
       "    }\n",
       "</style>\n",
       "<table border=\"1\" class=\"dataframe\">\n",
       "  <thead>\n",
       "    <tr style=\"text-align: right;\">\n",
       "      <th></th>\n",
       "      <th>customerID</th>\n",
       "      <th>gender</th>\n",
       "      <th>SeniorCitizen</th>\n",
       "      <th>Partner</th>\n",
       "      <th>Dependents</th>\n",
       "      <th>tenure</th>\n",
       "      <th>PhoneService</th>\n",
       "      <th>MultipleLines</th>\n",
       "      <th>InternetService</th>\n",
       "      <th>OnlineSecurity</th>\n",
       "      <th>...</th>\n",
       "      <th>DeviceProtection</th>\n",
       "      <th>TechSupport</th>\n",
       "      <th>StreamingTV</th>\n",
       "      <th>StreamingMovies</th>\n",
       "      <th>Contract</th>\n",
       "      <th>PaperlessBilling</th>\n",
       "      <th>PaymentMethod</th>\n",
       "      <th>MonthlyCharges</th>\n",
       "      <th>TotalCharges</th>\n",
       "      <th>Churn</th>\n",
       "    </tr>\n",
       "  </thead>\n",
       "  <tbody>\n",
       "    <tr>\n",
       "      <th>0</th>\n",
       "      <td>7590-VHVEG</td>\n",
       "      <td>Female</td>\n",
       "      <td>0</td>\n",
       "      <td>Yes</td>\n",
       "      <td>No</td>\n",
       "      <td>1</td>\n",
       "      <td>No</td>\n",
       "      <td>No phone service</td>\n",
       "      <td>DSL</td>\n",
       "      <td>No</td>\n",
       "      <td>...</td>\n",
       "      <td>No</td>\n",
       "      <td>No</td>\n",
       "      <td>No</td>\n",
       "      <td>No</td>\n",
       "      <td>Month-to-month</td>\n",
       "      <td>Yes</td>\n",
       "      <td>Electronic check</td>\n",
       "      <td>29.85</td>\n",
       "      <td>29.85</td>\n",
       "      <td>No</td>\n",
       "    </tr>\n",
       "    <tr>\n",
       "      <th>1</th>\n",
       "      <td>5575-GNVDE</td>\n",
       "      <td>Male</td>\n",
       "      <td>0</td>\n",
       "      <td>No</td>\n",
       "      <td>No</td>\n",
       "      <td>34</td>\n",
       "      <td>Yes</td>\n",
       "      <td>No</td>\n",
       "      <td>DSL</td>\n",
       "      <td>Yes</td>\n",
       "      <td>...</td>\n",
       "      <td>Yes</td>\n",
       "      <td>No</td>\n",
       "      <td>No</td>\n",
       "      <td>No</td>\n",
       "      <td>One year</td>\n",
       "      <td>No</td>\n",
       "      <td>Mailed check</td>\n",
       "      <td>56.95</td>\n",
       "      <td>1889.5</td>\n",
       "      <td>No</td>\n",
       "    </tr>\n",
       "    <tr>\n",
       "      <th>2</th>\n",
       "      <td>3668-QPYBK</td>\n",
       "      <td>Male</td>\n",
       "      <td>0</td>\n",
       "      <td>No</td>\n",
       "      <td>No</td>\n",
       "      <td>2</td>\n",
       "      <td>Yes</td>\n",
       "      <td>No</td>\n",
       "      <td>DSL</td>\n",
       "      <td>Yes</td>\n",
       "      <td>...</td>\n",
       "      <td>No</td>\n",
       "      <td>No</td>\n",
       "      <td>No</td>\n",
       "      <td>No</td>\n",
       "      <td>Month-to-month</td>\n",
       "      <td>Yes</td>\n",
       "      <td>Mailed check</td>\n",
       "      <td>53.85</td>\n",
       "      <td>108.15</td>\n",
       "      <td>Yes</td>\n",
       "    </tr>\n",
       "    <tr>\n",
       "      <th>3</th>\n",
       "      <td>7795-CFOCW</td>\n",
       "      <td>Male</td>\n",
       "      <td>0</td>\n",
       "      <td>No</td>\n",
       "      <td>No</td>\n",
       "      <td>45</td>\n",
       "      <td>No</td>\n",
       "      <td>No phone service</td>\n",
       "      <td>DSL</td>\n",
       "      <td>Yes</td>\n",
       "      <td>...</td>\n",
       "      <td>Yes</td>\n",
       "      <td>Yes</td>\n",
       "      <td>No</td>\n",
       "      <td>No</td>\n",
       "      <td>One year</td>\n",
       "      <td>No</td>\n",
       "      <td>Bank transfer (automatic)</td>\n",
       "      <td>42.30</td>\n",
       "      <td>1840.75</td>\n",
       "      <td>No</td>\n",
       "    </tr>\n",
       "    <tr>\n",
       "      <th>4</th>\n",
       "      <td>9237-HQITU</td>\n",
       "      <td>Female</td>\n",
       "      <td>0</td>\n",
       "      <td>No</td>\n",
       "      <td>No</td>\n",
       "      <td>2</td>\n",
       "      <td>Yes</td>\n",
       "      <td>No</td>\n",
       "      <td>Fiber optic</td>\n",
       "      <td>No</td>\n",
       "      <td>...</td>\n",
       "      <td>No</td>\n",
       "      <td>No</td>\n",
       "      <td>No</td>\n",
       "      <td>No</td>\n",
       "      <td>Month-to-month</td>\n",
       "      <td>Yes</td>\n",
       "      <td>Electronic check</td>\n",
       "      <td>70.70</td>\n",
       "      <td>151.65</td>\n",
       "      <td>Yes</td>\n",
       "    </tr>\n",
       "    <tr>\n",
       "      <th>...</th>\n",
       "      <td>...</td>\n",
       "      <td>...</td>\n",
       "      <td>...</td>\n",
       "      <td>...</td>\n",
       "      <td>...</td>\n",
       "      <td>...</td>\n",
       "      <td>...</td>\n",
       "      <td>...</td>\n",
       "      <td>...</td>\n",
       "      <td>...</td>\n",
       "      <td>...</td>\n",
       "      <td>...</td>\n",
       "      <td>...</td>\n",
       "      <td>...</td>\n",
       "      <td>...</td>\n",
       "      <td>...</td>\n",
       "      <td>...</td>\n",
       "      <td>...</td>\n",
       "      <td>...</td>\n",
       "      <td>...</td>\n",
       "      <td>...</td>\n",
       "    </tr>\n",
       "    <tr>\n",
       "      <th>7038</th>\n",
       "      <td>6840-RESVB</td>\n",
       "      <td>Male</td>\n",
       "      <td>0</td>\n",
       "      <td>Yes</td>\n",
       "      <td>Yes</td>\n",
       "      <td>24</td>\n",
       "      <td>Yes</td>\n",
       "      <td>Yes</td>\n",
       "      <td>DSL</td>\n",
       "      <td>Yes</td>\n",
       "      <td>...</td>\n",
       "      <td>Yes</td>\n",
       "      <td>Yes</td>\n",
       "      <td>Yes</td>\n",
       "      <td>Yes</td>\n",
       "      <td>One year</td>\n",
       "      <td>Yes</td>\n",
       "      <td>Mailed check</td>\n",
       "      <td>84.80</td>\n",
       "      <td>1990.5</td>\n",
       "      <td>No</td>\n",
       "    </tr>\n",
       "    <tr>\n",
       "      <th>7039</th>\n",
       "      <td>2234-XADUH</td>\n",
       "      <td>Female</td>\n",
       "      <td>0</td>\n",
       "      <td>Yes</td>\n",
       "      <td>Yes</td>\n",
       "      <td>72</td>\n",
       "      <td>Yes</td>\n",
       "      <td>Yes</td>\n",
       "      <td>Fiber optic</td>\n",
       "      <td>No</td>\n",
       "      <td>...</td>\n",
       "      <td>Yes</td>\n",
       "      <td>No</td>\n",
       "      <td>Yes</td>\n",
       "      <td>Yes</td>\n",
       "      <td>One year</td>\n",
       "      <td>Yes</td>\n",
       "      <td>Credit card (automatic)</td>\n",
       "      <td>103.20</td>\n",
       "      <td>7362.9</td>\n",
       "      <td>No</td>\n",
       "    </tr>\n",
       "    <tr>\n",
       "      <th>7040</th>\n",
       "      <td>4801-JZAZL</td>\n",
       "      <td>Female</td>\n",
       "      <td>0</td>\n",
       "      <td>Yes</td>\n",
       "      <td>Yes</td>\n",
       "      <td>11</td>\n",
       "      <td>No</td>\n",
       "      <td>No phone service</td>\n",
       "      <td>DSL</td>\n",
       "      <td>Yes</td>\n",
       "      <td>...</td>\n",
       "      <td>No</td>\n",
       "      <td>No</td>\n",
       "      <td>No</td>\n",
       "      <td>No</td>\n",
       "      <td>Month-to-month</td>\n",
       "      <td>Yes</td>\n",
       "      <td>Electronic check</td>\n",
       "      <td>29.60</td>\n",
       "      <td>346.45</td>\n",
       "      <td>No</td>\n",
       "    </tr>\n",
       "    <tr>\n",
       "      <th>7041</th>\n",
       "      <td>8361-LTMKD</td>\n",
       "      <td>Male</td>\n",
       "      <td>1</td>\n",
       "      <td>Yes</td>\n",
       "      <td>No</td>\n",
       "      <td>4</td>\n",
       "      <td>Yes</td>\n",
       "      <td>Yes</td>\n",
       "      <td>Fiber optic</td>\n",
       "      <td>No</td>\n",
       "      <td>...</td>\n",
       "      <td>No</td>\n",
       "      <td>No</td>\n",
       "      <td>No</td>\n",
       "      <td>No</td>\n",
       "      <td>Month-to-month</td>\n",
       "      <td>Yes</td>\n",
       "      <td>Mailed check</td>\n",
       "      <td>74.40</td>\n",
       "      <td>306.6</td>\n",
       "      <td>Yes</td>\n",
       "    </tr>\n",
       "    <tr>\n",
       "      <th>7042</th>\n",
       "      <td>3186-AJIEK</td>\n",
       "      <td>Male</td>\n",
       "      <td>0</td>\n",
       "      <td>No</td>\n",
       "      <td>No</td>\n",
       "      <td>66</td>\n",
       "      <td>Yes</td>\n",
       "      <td>No</td>\n",
       "      <td>Fiber optic</td>\n",
       "      <td>Yes</td>\n",
       "      <td>...</td>\n",
       "      <td>Yes</td>\n",
       "      <td>Yes</td>\n",
       "      <td>Yes</td>\n",
       "      <td>Yes</td>\n",
       "      <td>Two year</td>\n",
       "      <td>Yes</td>\n",
       "      <td>Bank transfer (automatic)</td>\n",
       "      <td>105.65</td>\n",
       "      <td>6844.5</td>\n",
       "      <td>No</td>\n",
       "    </tr>\n",
       "  </tbody>\n",
       "</table>\n",
       "<p>7043 rows × 21 columns</p>\n",
       "</div>"
      ],
      "text/plain": [
       "      customerID  gender  SeniorCitizen Partner Dependents  tenure  \\\n",
       "0     7590-VHVEG  Female              0     Yes         No       1   \n",
       "1     5575-GNVDE    Male              0      No         No      34   \n",
       "2     3668-QPYBK    Male              0      No         No       2   \n",
       "3     7795-CFOCW    Male              0      No         No      45   \n",
       "4     9237-HQITU  Female              0      No         No       2   \n",
       "...          ...     ...            ...     ...        ...     ...   \n",
       "7038  6840-RESVB    Male              0     Yes        Yes      24   \n",
       "7039  2234-XADUH  Female              0     Yes        Yes      72   \n",
       "7040  4801-JZAZL  Female              0     Yes        Yes      11   \n",
       "7041  8361-LTMKD    Male              1     Yes         No       4   \n",
       "7042  3186-AJIEK    Male              0      No         No      66   \n",
       "\n",
       "     PhoneService     MultipleLines InternetService OnlineSecurity  ...  \\\n",
       "0              No  No phone service             DSL             No  ...   \n",
       "1             Yes                No             DSL            Yes  ...   \n",
       "2             Yes                No             DSL            Yes  ...   \n",
       "3              No  No phone service             DSL            Yes  ...   \n",
       "4             Yes                No     Fiber optic             No  ...   \n",
       "...           ...               ...             ...            ...  ...   \n",
       "7038          Yes               Yes             DSL            Yes  ...   \n",
       "7039          Yes               Yes     Fiber optic             No  ...   \n",
       "7040           No  No phone service             DSL            Yes  ...   \n",
       "7041          Yes               Yes     Fiber optic             No  ...   \n",
       "7042          Yes                No     Fiber optic            Yes  ...   \n",
       "\n",
       "     DeviceProtection TechSupport StreamingTV StreamingMovies        Contract  \\\n",
       "0                  No          No          No              No  Month-to-month   \n",
       "1                 Yes          No          No              No        One year   \n",
       "2                  No          No          No              No  Month-to-month   \n",
       "3                 Yes         Yes          No              No        One year   \n",
       "4                  No          No          No              No  Month-to-month   \n",
       "...               ...         ...         ...             ...             ...   \n",
       "7038              Yes         Yes         Yes             Yes        One year   \n",
       "7039              Yes          No         Yes             Yes        One year   \n",
       "7040               No          No          No              No  Month-to-month   \n",
       "7041               No          No          No              No  Month-to-month   \n",
       "7042              Yes         Yes         Yes             Yes        Two year   \n",
       "\n",
       "     PaperlessBilling              PaymentMethod MonthlyCharges  TotalCharges  \\\n",
       "0                 Yes           Electronic check          29.85         29.85   \n",
       "1                  No               Mailed check          56.95        1889.5   \n",
       "2                 Yes               Mailed check          53.85        108.15   \n",
       "3                  No  Bank transfer (automatic)          42.30       1840.75   \n",
       "4                 Yes           Electronic check          70.70        151.65   \n",
       "...               ...                        ...            ...           ...   \n",
       "7038              Yes               Mailed check          84.80        1990.5   \n",
       "7039              Yes    Credit card (automatic)         103.20        7362.9   \n",
       "7040              Yes           Electronic check          29.60        346.45   \n",
       "7041              Yes               Mailed check          74.40         306.6   \n",
       "7042              Yes  Bank transfer (automatic)         105.65        6844.5   \n",
       "\n",
       "     Churn  \n",
       "0       No  \n",
       "1       No  \n",
       "2      Yes  \n",
       "3       No  \n",
       "4      Yes  \n",
       "...    ...  \n",
       "7038    No  \n",
       "7039    No  \n",
       "7040    No  \n",
       "7041   Yes  \n",
       "7042    No  \n",
       "\n",
       "[7043 rows x 21 columns]"
      ]
     },
     "execution_count": 80,
     "metadata": {},
     "output_type": "execute_result"
    }
   ],
   "source": [
    "# Loading the csv file using pd.read.\n",
    "df = pd.read_csv('WA_Fn-UseC_-Telco-Customer-Churn.csv')\n",
    "df"
   ]
  },
  {
   "cell_type": "markdown",
   "metadata": {},
   "source": [
    "The dataset above pertains information on the services customers in Telco subscribe to, as well as their personal information. These attributes are used to classify whether or not a customer will churn in a future time-period. This column \"Churn\" will henceforth be called \"Target\", whilst other columns affecting it will henceforth be called \"Features.\" Our target is binary, meaning that it can only have one of two outputs: \"No\" or \"Yes.\" Other details will be discussed in further chapters."
   ]
  },
  {
   "cell_type": "markdown",
   "metadata": {},
   "source": [
    "## IV. Exploratory Data Analysis (EDA)"
   ]
  },
  {
   "cell_type": "markdown",
   "metadata": {},
   "source": [
    "The first step into identifying the condition and trends of our dataset is by going through the Exploratory Data Analysis (EDA). Here, several assumptions can be made about the dataset and used to simplify the Data Preprocessing ahead. Steps done in the EDA process will refrain from manipulating the dataset and will focus on visualizing its original form as much as possible."
   ]
  },
  {
   "cell_type": "markdown",
   "metadata": {},
   "source": [
    "### a. Dataset Summary"
   ]
  },
  {
   "cell_type": "code",
   "execution_count": 81,
   "metadata": {},
   "outputs": [
    {
     "data": {
      "text/plain": [
       "customerID           object\n",
       "gender               object\n",
       "SeniorCitizen         int64\n",
       "Partner              object\n",
       "Dependents           object\n",
       "tenure                int64\n",
       "PhoneService         object\n",
       "MultipleLines        object\n",
       "InternetService      object\n",
       "OnlineSecurity       object\n",
       "OnlineBackup         object\n",
       "DeviceProtection     object\n",
       "TechSupport          object\n",
       "StreamingTV          object\n",
       "StreamingMovies      object\n",
       "Contract             object\n",
       "PaperlessBilling     object\n",
       "PaymentMethod        object\n",
       "MonthlyCharges      float64\n",
       "TotalCharges         object\n",
       "Churn                object\n",
       "dtype: object"
      ]
     },
     "execution_count": 81,
     "metadata": {},
     "output_type": "execute_result"
    }
   ],
   "source": [
    "# Identifying types of data for each column in our dataset.\n",
    "df.dtypes"
   ]
  },
  {
   "cell_type": "markdown",
   "metadata": {},
   "source": [
    "We can ascertain that we have different types of features, some that are numerical in form, and others non-numerical. These features may need to be seperated during the Data Preprocessing process for they will need specific conversion procedures before being inputted into the model (details discussed later on)."
   ]
  },
  {
   "cell_type": "code",
   "execution_count": 82,
   "metadata": {},
   "outputs": [
    {
     "data": {
      "text/plain": [
       "customerID          0\n",
       "gender              0\n",
       "SeniorCitizen       0\n",
       "Partner             0\n",
       "Dependents          0\n",
       "tenure              0\n",
       "PhoneService        0\n",
       "MultipleLines       0\n",
       "InternetService     0\n",
       "OnlineSecurity      0\n",
       "OnlineBackup        0\n",
       "DeviceProtection    0\n",
       "TechSupport         0\n",
       "StreamingTV         0\n",
       "StreamingMovies     0\n",
       "Contract            0\n",
       "PaperlessBilling    0\n",
       "PaymentMethod       0\n",
       "MonthlyCharges      0\n",
       "TotalCharges        0\n",
       "Churn               0\n",
       "dtype: int64"
      ]
     },
     "execution_count": 82,
     "metadata": {},
     "output_type": "execute_result"
    }
   ],
   "source": [
    "# Finding NaNs (Not a Number) / Nulls (Zeros) in our data.\n",
    "df.isnull().sum()"
   ]
  },
  {
   "cell_type": "markdown",
   "metadata": {},
   "source": [
    "Here, we can summarize that there are no NaNs / Nulls in our dataset which could effect the model performance / model as a whole. However, using the syntax above is not enough to detect anomalies in our data. For example, the syntax \".isnull()\" would only detect entries that are \"NaN\" or \"0\" in form. Therefore, we would need to use other methods to conclude whether or not our data contains any unneeded values."
   ]
  },
  {
   "cell_type": "code",
   "execution_count": 83,
   "metadata": {},
   "outputs": [
    {
     "data": {
      "text/plain": [
       "{'customerID': 0,\n",
       " 'gender': 0,\n",
       " 'SeniorCitizen': 0,\n",
       " 'Partner': 0,\n",
       " 'Dependents': 0,\n",
       " 'tenure': 0,\n",
       " 'PhoneService': 0,\n",
       " 'MultipleLines': 0,\n",
       " 'InternetService': 0,\n",
       " 'OnlineSecurity': 0,\n",
       " 'OnlineBackup': 0,\n",
       " 'DeviceProtection': 0,\n",
       " 'TechSupport': 0,\n",
       " 'StreamingTV': 0,\n",
       " 'StreamingMovies': 0,\n",
       " 'Contract': 0,\n",
       " 'PaperlessBilling': 0,\n",
       " 'PaymentMethod': 0,\n",
       " 'MonthlyCharges': 0,\n",
       " 'TotalCharges': 11,\n",
       " 'Churn': 0}"
      ]
     },
     "execution_count": 83,
     "metadata": {},
     "output_type": "execute_result"
    }
   ],
   "source": [
    "# Detecting other forms of anomalies in our dataset.\n",
    "anomalous_entries = {}\n",
    "\n",
    "for x in list(df.columns):\n",
    "    anomalous_entries[x] = 0\n",
    "    for y in df[x]:\n",
    "        if y in ['N/A', '--', '-', 'Null', '?', ' ']: # These are the specific NaN values we will be sweeping for.\n",
    "            anomalous_entries[x] = anomalous_entries[x] + 1\n",
    "\n",
    "anomalous_entries"
   ]
  },
  {
   "cell_type": "markdown",
   "metadata": {},
   "source": [
    "As we can see above, there are 11 anomalous values in the feature \"TotalCharges.\" However, from the syntax above, we are unable to ascertain which type of NaNs they are. Therefore, we would need to look at it with more specifically."
   ]
  },
  {
   "cell_type": "code",
   "execution_count": 84,
   "metadata": {},
   "outputs": [
    {
     "data": {
      "text/plain": [
       "customerID          0\n",
       "gender              0\n",
       "SeniorCitizen       0\n",
       "Partner             0\n",
       "Dependents          0\n",
       "tenure              0\n",
       "PhoneService        0\n",
       "MultipleLines       0\n",
       "InternetService     0\n",
       "OnlineSecurity      0\n",
       "OnlineBackup        0\n",
       "DeviceProtection    0\n",
       "TechSupport         0\n",
       "StreamingTV         0\n",
       "StreamingMovies     0\n",
       "Contract            0\n",
       "PaperlessBilling    0\n",
       "PaymentMethod       0\n",
       "MonthlyCharges      0\n",
       "TotalCharges        0\n",
       "Churn               0\n",
       "dtype: int64"
      ]
     },
     "execution_count": 84,
     "metadata": {},
     "output_type": "execute_result"
    }
   ],
   "source": [
    "# Detecting \"N/A\" in the feature \"TotalCharges.\"\n",
    "df.loc[df['TotalCharges'] == 'N/A'].count()"
   ]
  },
  {
   "cell_type": "code",
   "execution_count": 85,
   "metadata": {},
   "outputs": [
    {
     "data": {
      "text/plain": [
       "customerID          0\n",
       "gender              0\n",
       "SeniorCitizen       0\n",
       "Partner             0\n",
       "Dependents          0\n",
       "tenure              0\n",
       "PhoneService        0\n",
       "MultipleLines       0\n",
       "InternetService     0\n",
       "OnlineSecurity      0\n",
       "OnlineBackup        0\n",
       "DeviceProtection    0\n",
       "TechSupport         0\n",
       "StreamingTV         0\n",
       "StreamingMovies     0\n",
       "Contract            0\n",
       "PaperlessBilling    0\n",
       "PaymentMethod       0\n",
       "MonthlyCharges      0\n",
       "TotalCharges        0\n",
       "Churn               0\n",
       "dtype: int64"
      ]
     },
     "execution_count": 85,
     "metadata": {},
     "output_type": "execute_result"
    }
   ],
   "source": [
    "# Detecting \"-\" in the feature \"TotalCharges.\"\n",
    "df.loc[df['TotalCharges'] == '-'].count()"
   ]
  },
  {
   "cell_type": "code",
   "execution_count": 86,
   "metadata": {},
   "outputs": [
    {
     "data": {
      "text/plain": [
       "customerID          0\n",
       "gender              0\n",
       "SeniorCitizen       0\n",
       "Partner             0\n",
       "Dependents          0\n",
       "tenure              0\n",
       "PhoneService        0\n",
       "MultipleLines       0\n",
       "InternetService     0\n",
       "OnlineSecurity      0\n",
       "OnlineBackup        0\n",
       "DeviceProtection    0\n",
       "TechSupport         0\n",
       "StreamingTV         0\n",
       "StreamingMovies     0\n",
       "Contract            0\n",
       "PaperlessBilling    0\n",
       "PaymentMethod       0\n",
       "MonthlyCharges      0\n",
       "TotalCharges        0\n",
       "Churn               0\n",
       "dtype: int64"
      ]
     },
     "execution_count": 86,
     "metadata": {},
     "output_type": "execute_result"
    }
   ],
   "source": [
    "# Detecting \"?\" in the feature \"TotalCharges.\"\n",
    "df.loc[df['TotalCharges'] == '?'].count()"
   ]
  },
  {
   "cell_type": "code",
   "execution_count": 87,
   "metadata": {},
   "outputs": [
    {
     "data": {
      "text/plain": [
       "customerID          11\n",
       "gender              11\n",
       "SeniorCitizen       11\n",
       "Partner             11\n",
       "Dependents          11\n",
       "tenure              11\n",
       "PhoneService        11\n",
       "MultipleLines       11\n",
       "InternetService     11\n",
       "OnlineSecurity      11\n",
       "OnlineBackup        11\n",
       "DeviceProtection    11\n",
       "TechSupport         11\n",
       "StreamingTV         11\n",
       "StreamingMovies     11\n",
       "Contract            11\n",
       "PaperlessBilling    11\n",
       "PaymentMethod       11\n",
       "MonthlyCharges      11\n",
       "TotalCharges        11\n",
       "Churn               11\n",
       "dtype: int64"
      ]
     },
     "execution_count": 87,
     "metadata": {},
     "output_type": "execute_result"
    }
   ],
   "source": [
    "# Detecting any empty spaces in the feature \"TotalCharges.\"\n",
    "df.loc[df['TotalCharges'] == ' '].count()"
   ]
  },
  {
   "cell_type": "markdown",
   "metadata": {},
   "source": [
    "From what we gather above, we could ascertain that there are 11 entries in the feature \"TotalCharges\" that are just empty spaces. We will remove these entries after checking the dataset for duplicates."
   ]
  },
  {
   "cell_type": "code",
   "execution_count": 88,
   "metadata": {},
   "outputs": [
    {
     "data": {
      "text/plain": [
       "0       False\n",
       "4691    False\n",
       "4702    False\n",
       "4701    False\n",
       "4700    False\n",
       "        ...  \n",
       "2344    False\n",
       "2343    False\n",
       "2342    False\n",
       "2341    False\n",
       "7042    False\n",
       "Length: 7043, dtype: bool"
      ]
     },
     "execution_count": 88,
     "metadata": {},
     "output_type": "execute_result"
    }
   ],
   "source": [
    "# Finding duplicates in our data.\n",
    "df_dupl = df.duplicated()\n",
    "df_dupl.sort_values(ascending=False) "
   ]
  },
  {
   "cell_type": "markdown",
   "metadata": {},
   "source": [
    "According to the information above, there are no duplicates in our dataset. Duplicates are a nuisance for our models since it is just noise and creates larger error margins.\n",
    "\n",
    "We will now be removing the empty spaces in our feature \"TotalCharges.\""
   ]
  },
  {
   "cell_type": "code",
   "execution_count": 89,
   "metadata": {},
   "outputs": [
    {
     "data": {
      "text/plain": [
       "(7043, 21)"
      ]
     },
     "execution_count": 89,
     "metadata": {},
     "output_type": "execute_result"
    }
   ],
   "source": [
    "# Removing empty spaces in the feature \"TotalCharges.\"\n",
    "df.shape"
   ]
  },
  {
   "cell_type": "code",
   "execution_count": 91,
   "metadata": {},
   "outputs": [
    {
     "data": {
      "text/html": [
       "<div>\n",
       "<style scoped>\n",
       "    .dataframe tbody tr th:only-of-type {\n",
       "        vertical-align: middle;\n",
       "    }\n",
       "\n",
       "    .dataframe tbody tr th {\n",
       "        vertical-align: top;\n",
       "    }\n",
       "\n",
       "    .dataframe thead th {\n",
       "        text-align: right;\n",
       "    }\n",
       "</style>\n",
       "<table border=\"1\" class=\"dataframe\">\n",
       "  <thead>\n",
       "    <tr style=\"text-align: right;\">\n",
       "      <th></th>\n",
       "      <th>customerID</th>\n",
       "      <th>gender</th>\n",
       "      <th>SeniorCitizen</th>\n",
       "      <th>Partner</th>\n",
       "      <th>Dependents</th>\n",
       "      <th>tenure</th>\n",
       "      <th>PhoneService</th>\n",
       "      <th>MultipleLines</th>\n",
       "      <th>InternetService</th>\n",
       "      <th>OnlineSecurity</th>\n",
       "      <th>...</th>\n",
       "      <th>DeviceProtection</th>\n",
       "      <th>TechSupport</th>\n",
       "      <th>StreamingTV</th>\n",
       "      <th>StreamingMovies</th>\n",
       "      <th>Contract</th>\n",
       "      <th>PaperlessBilling</th>\n",
       "      <th>PaymentMethod</th>\n",
       "      <th>MonthlyCharges</th>\n",
       "      <th>TotalCharges</th>\n",
       "      <th>Churn</th>\n",
       "    </tr>\n",
       "  </thead>\n",
       "  <tbody>\n",
       "    <tr>\n",
       "      <th>488</th>\n",
       "      <td>4472-LVYGI</td>\n",
       "      <td>Female</td>\n",
       "      <td>0</td>\n",
       "      <td>Yes</td>\n",
       "      <td>Yes</td>\n",
       "      <td>0</td>\n",
       "      <td>No</td>\n",
       "      <td>No phone service</td>\n",
       "      <td>DSL</td>\n",
       "      <td>Yes</td>\n",
       "      <td>...</td>\n",
       "      <td>Yes</td>\n",
       "      <td>Yes</td>\n",
       "      <td>Yes</td>\n",
       "      <td>No</td>\n",
       "      <td>Two year</td>\n",
       "      <td>Yes</td>\n",
       "      <td>Bank transfer (automatic)</td>\n",
       "      <td>52.55</td>\n",
       "      <td></td>\n",
       "      <td>No</td>\n",
       "    </tr>\n",
       "    <tr>\n",
       "      <th>753</th>\n",
       "      <td>3115-CZMZD</td>\n",
       "      <td>Male</td>\n",
       "      <td>0</td>\n",
       "      <td>No</td>\n",
       "      <td>Yes</td>\n",
       "      <td>0</td>\n",
       "      <td>Yes</td>\n",
       "      <td>No</td>\n",
       "      <td>No</td>\n",
       "      <td>No internet service</td>\n",
       "      <td>...</td>\n",
       "      <td>No internet service</td>\n",
       "      <td>No internet service</td>\n",
       "      <td>No internet service</td>\n",
       "      <td>No internet service</td>\n",
       "      <td>Two year</td>\n",
       "      <td>No</td>\n",
       "      <td>Mailed check</td>\n",
       "      <td>20.25</td>\n",
       "      <td></td>\n",
       "      <td>No</td>\n",
       "    </tr>\n",
       "    <tr>\n",
       "      <th>936</th>\n",
       "      <td>5709-LVOEQ</td>\n",
       "      <td>Female</td>\n",
       "      <td>0</td>\n",
       "      <td>Yes</td>\n",
       "      <td>Yes</td>\n",
       "      <td>0</td>\n",
       "      <td>Yes</td>\n",
       "      <td>No</td>\n",
       "      <td>DSL</td>\n",
       "      <td>Yes</td>\n",
       "      <td>...</td>\n",
       "      <td>Yes</td>\n",
       "      <td>No</td>\n",
       "      <td>Yes</td>\n",
       "      <td>Yes</td>\n",
       "      <td>Two year</td>\n",
       "      <td>No</td>\n",
       "      <td>Mailed check</td>\n",
       "      <td>80.85</td>\n",
       "      <td></td>\n",
       "      <td>No</td>\n",
       "    </tr>\n",
       "    <tr>\n",
       "      <th>1082</th>\n",
       "      <td>4367-NUYAO</td>\n",
       "      <td>Male</td>\n",
       "      <td>0</td>\n",
       "      <td>Yes</td>\n",
       "      <td>Yes</td>\n",
       "      <td>0</td>\n",
       "      <td>Yes</td>\n",
       "      <td>Yes</td>\n",
       "      <td>No</td>\n",
       "      <td>No internet service</td>\n",
       "      <td>...</td>\n",
       "      <td>No internet service</td>\n",
       "      <td>No internet service</td>\n",
       "      <td>No internet service</td>\n",
       "      <td>No internet service</td>\n",
       "      <td>Two year</td>\n",
       "      <td>No</td>\n",
       "      <td>Mailed check</td>\n",
       "      <td>25.75</td>\n",
       "      <td></td>\n",
       "      <td>No</td>\n",
       "    </tr>\n",
       "    <tr>\n",
       "      <th>1340</th>\n",
       "      <td>1371-DWPAZ</td>\n",
       "      <td>Female</td>\n",
       "      <td>0</td>\n",
       "      <td>Yes</td>\n",
       "      <td>Yes</td>\n",
       "      <td>0</td>\n",
       "      <td>No</td>\n",
       "      <td>No phone service</td>\n",
       "      <td>DSL</td>\n",
       "      <td>Yes</td>\n",
       "      <td>...</td>\n",
       "      <td>Yes</td>\n",
       "      <td>Yes</td>\n",
       "      <td>Yes</td>\n",
       "      <td>No</td>\n",
       "      <td>Two year</td>\n",
       "      <td>No</td>\n",
       "      <td>Credit card (automatic)</td>\n",
       "      <td>56.05</td>\n",
       "      <td></td>\n",
       "      <td>No</td>\n",
       "    </tr>\n",
       "    <tr>\n",
       "      <th>3331</th>\n",
       "      <td>7644-OMVMY</td>\n",
       "      <td>Male</td>\n",
       "      <td>0</td>\n",
       "      <td>Yes</td>\n",
       "      <td>Yes</td>\n",
       "      <td>0</td>\n",
       "      <td>Yes</td>\n",
       "      <td>No</td>\n",
       "      <td>No</td>\n",
       "      <td>No internet service</td>\n",
       "      <td>...</td>\n",
       "      <td>No internet service</td>\n",
       "      <td>No internet service</td>\n",
       "      <td>No internet service</td>\n",
       "      <td>No internet service</td>\n",
       "      <td>Two year</td>\n",
       "      <td>No</td>\n",
       "      <td>Mailed check</td>\n",
       "      <td>19.85</td>\n",
       "      <td></td>\n",
       "      <td>No</td>\n",
       "    </tr>\n",
       "    <tr>\n",
       "      <th>3826</th>\n",
       "      <td>3213-VVOLG</td>\n",
       "      <td>Male</td>\n",
       "      <td>0</td>\n",
       "      <td>Yes</td>\n",
       "      <td>Yes</td>\n",
       "      <td>0</td>\n",
       "      <td>Yes</td>\n",
       "      <td>Yes</td>\n",
       "      <td>No</td>\n",
       "      <td>No internet service</td>\n",
       "      <td>...</td>\n",
       "      <td>No internet service</td>\n",
       "      <td>No internet service</td>\n",
       "      <td>No internet service</td>\n",
       "      <td>No internet service</td>\n",
       "      <td>Two year</td>\n",
       "      <td>No</td>\n",
       "      <td>Mailed check</td>\n",
       "      <td>25.35</td>\n",
       "      <td></td>\n",
       "      <td>No</td>\n",
       "    </tr>\n",
       "    <tr>\n",
       "      <th>4380</th>\n",
       "      <td>2520-SGTTA</td>\n",
       "      <td>Female</td>\n",
       "      <td>0</td>\n",
       "      <td>Yes</td>\n",
       "      <td>Yes</td>\n",
       "      <td>0</td>\n",
       "      <td>Yes</td>\n",
       "      <td>No</td>\n",
       "      <td>No</td>\n",
       "      <td>No internet service</td>\n",
       "      <td>...</td>\n",
       "      <td>No internet service</td>\n",
       "      <td>No internet service</td>\n",
       "      <td>No internet service</td>\n",
       "      <td>No internet service</td>\n",
       "      <td>Two year</td>\n",
       "      <td>No</td>\n",
       "      <td>Mailed check</td>\n",
       "      <td>20.00</td>\n",
       "      <td></td>\n",
       "      <td>No</td>\n",
       "    </tr>\n",
       "    <tr>\n",
       "      <th>5218</th>\n",
       "      <td>2923-ARZLG</td>\n",
       "      <td>Male</td>\n",
       "      <td>0</td>\n",
       "      <td>Yes</td>\n",
       "      <td>Yes</td>\n",
       "      <td>0</td>\n",
       "      <td>Yes</td>\n",
       "      <td>No</td>\n",
       "      <td>No</td>\n",
       "      <td>No internet service</td>\n",
       "      <td>...</td>\n",
       "      <td>No internet service</td>\n",
       "      <td>No internet service</td>\n",
       "      <td>No internet service</td>\n",
       "      <td>No internet service</td>\n",
       "      <td>One year</td>\n",
       "      <td>Yes</td>\n",
       "      <td>Mailed check</td>\n",
       "      <td>19.70</td>\n",
       "      <td></td>\n",
       "      <td>No</td>\n",
       "    </tr>\n",
       "    <tr>\n",
       "      <th>6670</th>\n",
       "      <td>4075-WKNIU</td>\n",
       "      <td>Female</td>\n",
       "      <td>0</td>\n",
       "      <td>Yes</td>\n",
       "      <td>Yes</td>\n",
       "      <td>0</td>\n",
       "      <td>Yes</td>\n",
       "      <td>Yes</td>\n",
       "      <td>DSL</td>\n",
       "      <td>No</td>\n",
       "      <td>...</td>\n",
       "      <td>Yes</td>\n",
       "      <td>Yes</td>\n",
       "      <td>Yes</td>\n",
       "      <td>No</td>\n",
       "      <td>Two year</td>\n",
       "      <td>No</td>\n",
       "      <td>Mailed check</td>\n",
       "      <td>73.35</td>\n",
       "      <td></td>\n",
       "      <td>No</td>\n",
       "    </tr>\n",
       "    <tr>\n",
       "      <th>6754</th>\n",
       "      <td>2775-SEFEE</td>\n",
       "      <td>Male</td>\n",
       "      <td>0</td>\n",
       "      <td>No</td>\n",
       "      <td>Yes</td>\n",
       "      <td>0</td>\n",
       "      <td>Yes</td>\n",
       "      <td>Yes</td>\n",
       "      <td>DSL</td>\n",
       "      <td>Yes</td>\n",
       "      <td>...</td>\n",
       "      <td>No</td>\n",
       "      <td>Yes</td>\n",
       "      <td>No</td>\n",
       "      <td>No</td>\n",
       "      <td>Two year</td>\n",
       "      <td>Yes</td>\n",
       "      <td>Bank transfer (automatic)</td>\n",
       "      <td>61.90</td>\n",
       "      <td></td>\n",
       "      <td>No</td>\n",
       "    </tr>\n",
       "  </tbody>\n",
       "</table>\n",
       "<p>11 rows × 21 columns</p>\n",
       "</div>"
      ],
      "text/plain": [
       "      customerID  gender  SeniorCitizen Partner Dependents  tenure  \\\n",
       "488   4472-LVYGI  Female              0     Yes        Yes       0   \n",
       "753   3115-CZMZD    Male              0      No        Yes       0   \n",
       "936   5709-LVOEQ  Female              0     Yes        Yes       0   \n",
       "1082  4367-NUYAO    Male              0     Yes        Yes       0   \n",
       "1340  1371-DWPAZ  Female              0     Yes        Yes       0   \n",
       "3331  7644-OMVMY    Male              0     Yes        Yes       0   \n",
       "3826  3213-VVOLG    Male              0     Yes        Yes       0   \n",
       "4380  2520-SGTTA  Female              0     Yes        Yes       0   \n",
       "5218  2923-ARZLG    Male              0     Yes        Yes       0   \n",
       "6670  4075-WKNIU  Female              0     Yes        Yes       0   \n",
       "6754  2775-SEFEE    Male              0      No        Yes       0   \n",
       "\n",
       "     PhoneService     MultipleLines InternetService       OnlineSecurity  ...  \\\n",
       "488            No  No phone service             DSL                  Yes  ...   \n",
       "753           Yes                No              No  No internet service  ...   \n",
       "936           Yes                No             DSL                  Yes  ...   \n",
       "1082          Yes               Yes              No  No internet service  ...   \n",
       "1340           No  No phone service             DSL                  Yes  ...   \n",
       "3331          Yes                No              No  No internet service  ...   \n",
       "3826          Yes               Yes              No  No internet service  ...   \n",
       "4380          Yes                No              No  No internet service  ...   \n",
       "5218          Yes                No              No  No internet service  ...   \n",
       "6670          Yes               Yes             DSL                   No  ...   \n",
       "6754          Yes               Yes             DSL                  Yes  ...   \n",
       "\n",
       "         DeviceProtection          TechSupport          StreamingTV  \\\n",
       "488                   Yes                  Yes                  Yes   \n",
       "753   No internet service  No internet service  No internet service   \n",
       "936                   Yes                   No                  Yes   \n",
       "1082  No internet service  No internet service  No internet service   \n",
       "1340                  Yes                  Yes                  Yes   \n",
       "3331  No internet service  No internet service  No internet service   \n",
       "3826  No internet service  No internet service  No internet service   \n",
       "4380  No internet service  No internet service  No internet service   \n",
       "5218  No internet service  No internet service  No internet service   \n",
       "6670                  Yes                  Yes                  Yes   \n",
       "6754                   No                  Yes                   No   \n",
       "\n",
       "          StreamingMovies  Contract PaperlessBilling  \\\n",
       "488                    No  Two year              Yes   \n",
       "753   No internet service  Two year               No   \n",
       "936                   Yes  Two year               No   \n",
       "1082  No internet service  Two year               No   \n",
       "1340                   No  Two year               No   \n",
       "3331  No internet service  Two year               No   \n",
       "3826  No internet service  Two year               No   \n",
       "4380  No internet service  Two year               No   \n",
       "5218  No internet service  One year              Yes   \n",
       "6670                   No  Two year               No   \n",
       "6754                   No  Two year              Yes   \n",
       "\n",
       "                  PaymentMethod MonthlyCharges  TotalCharges Churn  \n",
       "488   Bank transfer (automatic)          52.55                  No  \n",
       "753                Mailed check          20.25                  No  \n",
       "936                Mailed check          80.85                  No  \n",
       "1082               Mailed check          25.75                  No  \n",
       "1340    Credit card (automatic)          56.05                  No  \n",
       "3331               Mailed check          19.85                  No  \n",
       "3826               Mailed check          25.35                  No  \n",
       "4380               Mailed check          20.00                  No  \n",
       "5218               Mailed check          19.70                  No  \n",
       "6670               Mailed check          73.35                  No  \n",
       "6754  Bank transfer (automatic)          61.90                  No  \n",
       "\n",
       "[11 rows x 21 columns]"
      ]
     },
     "execution_count": 91,
     "metadata": {},
     "output_type": "execute_result"
    }
   ],
   "source": [
    "# Retaining dataset that are without the empty spaces in the Total Charges feature.\n",
    "df1 = df.loc[df['TotalCharges'] == ' ']\n",
    "df1"
   ]
  },
  {
   "cell_type": "code",
   "execution_count": 14,
   "metadata": {},
   "outputs": [
    {
     "data": {
      "text/plain": [
       "customerID           object\n",
       "gender               object\n",
       "SeniorCitizen         int64\n",
       "Partner              object\n",
       "Dependents           object\n",
       "tenure                int64\n",
       "PhoneService         object\n",
       "MultipleLines        object\n",
       "InternetService      object\n",
       "OnlineSecurity       object\n",
       "OnlineBackup         object\n",
       "DeviceProtection     object\n",
       "TechSupport          object\n",
       "StreamingTV          object\n",
       "StreamingMovies      object\n",
       "Contract             object\n",
       "PaperlessBilling     object\n",
       "PaymentMethod        object\n",
       "MonthlyCharges      float64\n",
       "TotalCharges         object\n",
       "Churn                object\n",
       "dtype: object"
      ]
     },
     "execution_count": 14,
     "metadata": {},
     "output_type": "execute_result"
    }
   ],
   "source": [
    "df1.dtypes"
   ]
  },
  {
   "cell_type": "markdown",
   "metadata": {},
   "source": [
    "From what we can gather, we could also understand that the feature \"TotalCharges\" is in string (or non-numerical) form even though its entries are numbers. Therefore, we will be converting these entries into numerical form. These entries will be converted to float since they are not round numbers."
   ]
  },
  {
   "cell_type": "code",
   "execution_count": 15,
   "metadata": {},
   "outputs": [],
   "source": [
    "# Converting string values to float.\n",
    "df1['TotalCharges'] = df1['TotalCharges'].astype(float)"
   ]
  },
  {
   "cell_type": "code",
   "execution_count": 16,
   "metadata": {},
   "outputs": [
    {
     "data": {
      "text/plain": [
       "customerID           object\n",
       "gender               object\n",
       "SeniorCitizen         int64\n",
       "Partner              object\n",
       "Dependents           object\n",
       "tenure                int64\n",
       "PhoneService         object\n",
       "MultipleLines        object\n",
       "InternetService      object\n",
       "OnlineSecurity       object\n",
       "OnlineBackup         object\n",
       "DeviceProtection     object\n",
       "TechSupport          object\n",
       "StreamingTV          object\n",
       "StreamingMovies      object\n",
       "Contract             object\n",
       "PaperlessBilling     object\n",
       "PaymentMethod        object\n",
       "MonthlyCharges      float64\n",
       "TotalCharges        float64\n",
       "Churn                object\n",
       "dtype: object"
      ]
     },
     "execution_count": 16,
     "metadata": {},
     "output_type": "execute_result"
    }
   ],
   "source": [
    "# Reconfirming whether or not \"TotalCharges\" has been successfully converted to float type.\n",
    "df1.dtypes"
   ]
  },
  {
   "cell_type": "markdown",
   "metadata": {},
   "source": [
    "With that, we have successfully converted the feature \"TotalCharges\" into float type."
   ]
  },
  {
   "cell_type": "markdown",
   "metadata": {},
   "source": [
    "### b. Features Summary"
   ]
  },
  {
   "cell_type": "markdown",
   "metadata": {},
   "source": [
    "The features summary will discuss how many of our data falls upon a certain class in our target. Here, we have two classes: Class 0 and Class 1, where Class 0 denotes target output of \"No\" and Class 1 denotes target output of \"Yes.\""
   ]
  },
  {
   "cell_type": "code",
   "execution_count": 17,
   "metadata": {},
   "outputs": [
    {
     "data": {
      "text/plain": [
       "Index(['customerID', 'gender', 'SeniorCitizen', 'Partner', 'Dependents',\n",
       "       'tenure', 'PhoneService', 'MultipleLines', 'InternetService',\n",
       "       'OnlineSecurity', 'OnlineBackup', 'DeviceProtection', 'TechSupport',\n",
       "       'StreamingTV', 'StreamingMovies', 'Contract', 'PaperlessBilling',\n",
       "       'PaymentMethod', 'MonthlyCharges', 'TotalCharges', 'Churn'],\n",
       "      dtype='object')"
      ]
     },
     "execution_count": 17,
     "metadata": {},
     "output_type": "execute_result"
    }
   ],
   "source": [
    "df1.columns"
   ]
  },
  {
   "cell_type": "markdown",
   "metadata": {},
   "source": [
    "#### 1. Numerical Features"
   ]
  },
  {
   "cell_type": "code",
   "execution_count": 18,
   "metadata": {},
   "outputs": [
    {
     "data": {
      "image/png": "[encoded data removed]",
      "text/plain": [
       "<Figure size 432x288 with 1 Axes>"
      ]
     },
     "metadata": {},
     "output_type": "display_data"
    }
   ],
   "source": [
    "fig, ax = plt.subplots()\n",
    "df1.groupby('Churn')['tenure'].sum().plot(kind='pie', y='Class', autopct='%1.0f%%')\n",
    "fig.patch.set_facecolor('xkcd:white')"
   ]
  },
  {
   "cell_type": "markdown",
   "metadata": {},
   "source": [
    "For the feature \"Tenure\", we can ascertain that 85% of the entries are categorized as customers that do not churn, whilst 15% are."
   ]
  },
  {
   "cell_type": "code",
   "execution_count": 19,
   "metadata": {},
   "outputs": [
    {
     "data": {
      "image/png": "[encoded data removed]",
      "text/plain": [
       "<Figure size 432x288 with 1 Axes>"
      ]
     },
     "metadata": {},
     "output_type": "display_data"
    }
   ],
   "source": [
    "fig, ax = plt.subplots()\n",
    "df1.groupby('Churn')['MonthlyCharges'].sum().plot(kind='pie', y='Class', autopct='%1.0f%%', ax=ax)\n",
    "fig.patch.set_facecolor('xkcd:white')"
   ]
  },
  {
   "cell_type": "markdown",
   "metadata": {},
   "source": [
    "For the feature \"MonthlyCharges\", 69% of the data entries are categorized as customers who do not churn, as opposed to the 31% who churn."
   ]
  },
  {
   "cell_type": "code",
   "execution_count": 20,
   "metadata": {},
   "outputs": [
    {
     "data": {
      "image/png": "[encoded data removed]",
      "text/plain": [
       "<Figure size 432x288 with 1 Axes>"
      ]
     },
     "metadata": {},
     "output_type": "display_data"
    }
   ],
   "source": [
    "fig, ax = plt.subplots()\n",
    "df1.groupby('Churn')['TotalCharges'].sum().plot(kind='pie', y='Class', autopct='%1.0f%%')\n",
    "fig.patch.set_facecolor('xkcd:white')"
   ]
  },
  {
   "cell_type": "markdown",
   "metadata": {},
   "source": [
    "The feature \"TotalCharges\" have 82% of its entries where the customers do not churn, whilst 18% churn."
   ]
  },
  {
   "cell_type": "markdown",
   "metadata": {},
   "source": [
    "#### 2. Categorical Features"
   ]
  },
  {
   "cell_type": "markdown",
   "metadata": {},
   "source": [
    "We now move on to check the count on which class our categorical features lie on."
   ]
  },
  {
   "cell_type": "code",
   "execution_count": 21,
   "metadata": {},
   "outputs": [
    {
     "data": {
      "image/png": "[encoded data removed]",
      "text/plain": [
       "<Figure size 1440x360 with 4 Axes>"
      ]
     },
     "metadata": {
      "needs_background": "light"
     },
     "output_type": "display_data"
    }
   ],
   "source": [
    "plt.figure(figsize=(20,5))\n",
    "plt.subplot(1,4,1)\n",
    "sns.countplot(hue = 'Churn', y = 'gender', data=df1, palette=\"tab10\")\n",
    "plt.title('Gender')\n",
    "\n",
    "plt.subplot(1,4,2)\n",
    "sns.countplot(hue = 'Churn', y = 'SeniorCitizen', data=df1, palette=\"tab10\")\n",
    "plt.title('Senior Citizen')\n",
    "\n",
    "plt.subplot(1,4,3)\n",
    "sns.countplot(hue = 'Churn', y = 'Partner', data=df1, palette=\"tab10\")\n",
    "plt.title('Partner')\n",
    "\n",
    "plt.subplot(1,4,4)\n",
    "sns.countplot(hue = 'Churn', y = 'Dependents', data=df1, palette=\"tab10\")\n",
    "plt.title('Dependents')\n",
    "\n",
    "plt.tight_layout()\n",
    "\n",
    "plt.show()"
   ]
  },
  {
   "cell_type": "markdown",
   "metadata": {},
   "source": [
    "Summary:\n",
    "- For Gender, we can observe that males are more susceptible to churning and not churning. The data count is similar.\n",
    "- For the classification of Senior Citizen, we can see that non-senior citizens are more susceptible to churning and not churning. However, the dataset contains more data on non-senior citizens than seniors.\n",
    "- For the Partner classification, we can see that those without a partner are more susceptible to churning, whilst those who have a partner are more susceptible to not churning.\n",
    "- For the Dependents classification, here we can observe that customers who are not financially dependent are more susceptible to churning and not churning. "
   ]
  },
  {
   "cell_type": "code",
   "execution_count": 22,
   "metadata": {},
   "outputs": [
    {
     "data": {
      "image/png": "[encoded data removed]",
      "text/plain": [
       "<Figure size 1440x360 with 4 Axes>"
      ]
     },
     "metadata": {
      "needs_background": "light"
     },
     "output_type": "display_data"
    }
   ],
   "source": [
    "plt.figure(figsize=(20,5))\n",
    "plt.subplot(1,4,1)\n",
    "sns.countplot(hue = 'Churn', y = 'PhoneService', data=df1, palette=\"tab10\")\n",
    "plt.title('Phone Service')\n",
    "\n",
    "plt.subplot(1,4,2)\n",
    "sns.countplot(hue = 'Churn', y = 'MultipleLines', data=df1, palette=\"tab10\")\n",
    "plt.title('Multiple Lines')\n",
    "\n",
    "plt.subplot(1,4,3)\n",
    "sns.countplot(hue = 'Churn', y = 'InternetService', data=df1, palette=\"tab10\")\n",
    "plt.title('Internet Service')\n",
    "\n",
    "plt.subplot(1,4,4)\n",
    "sns.countplot(hue = 'Churn', y = 'OnlineSecurity', data=df1, palette=\"tab10\")\n",
    "plt.title('Online Security')\n",
    "\n",
    "plt.tight_layout()\n",
    "\n",
    "plt.show()"
   ]
  },
  {
   "cell_type": "markdown",
   "metadata": {},
   "source": [
    "- For the Phone Service classification, we can ascertain that those with phone service are more susceptible to churning and not churning.\n",
    "- For the Multiple Lines classification, we can see that those with no multiple lines are more susceptible to churning and not churning.\n",
    "- For the Internet Service classification, we can understand that those with Fiber Optic service are more susceptible to churning, whilst those who use a DSL service are more susceptible to not churning.\n",
    "- For the Online Security classification, we can observe that customers who have no online security are more susceptible to churning and not churning. "
   ]
  },
  {
   "cell_type": "code",
   "execution_count": 23,
   "metadata": {},
   "outputs": [
    {
     "data": {
      "image/png": "[encoded data removed]",
      "text/plain": [
       "<Figure size 1440x360 with 4 Axes>"
      ]
     },
     "metadata": {
      "needs_background": "light"
     },
     "output_type": "display_data"
    }
   ],
   "source": [
    "plt.figure(figsize=(20,5))\n",
    "plt.subplot(1,4,1)\n",
    "sns.countplot(hue = 'Churn', y = 'OnlineBackup', data=df1, palette=\"tab10\")\n",
    "plt.title('Online Backup')\n",
    "\n",
    "plt.subplot(1,4,2)\n",
    "sns.countplot(hue = 'Churn', y = 'DeviceProtection', data=df1, palette=\"tab10\")\n",
    "plt.title('Device Protection')\n",
    "\n",
    "plt.subplot(1,4,3)\n",
    "sns.countplot(hue = 'Churn', y = 'TechSupport', data=df1, palette=\"tab10\")\n",
    "plt.title('Tech Support')\n",
    "\n",
    "plt.subplot(1,4,4)\n",
    "sns.countplot(hue = 'Churn', y = 'StreamingTV', data=df1, palette=\"tab10\")\n",
    "plt.title('Streaming TV')\n",
    "\n",
    "plt.tight_layout()\n",
    "\n",
    "plt.show()"
   ]
  },
  {
   "cell_type": "markdown",
   "metadata": {},
   "source": [
    "- For the Online Backup classification, we can ascertain that those without Online Backup are more susceptible to churning, whilst those with it are not.\n",
    "- For the Device Protection classification, we can see that those with no protection are more susceptible to churning and not churning.\n",
    "- For the Tech Support classification, we can understand that those without such service are more susceptible to churning and not churning.\n",
    "- For the Streaming TV classification, we can observe that customers who stream and do not stream tv are security are not susceptible to churning, with those who do not stream more susceptible to churning. "
   ]
  },
  {
   "cell_type": "code",
   "execution_count": 24,
   "metadata": {},
   "outputs": [
    {
     "data": {
      "image/png": "[encoded data removed]",
      "text/plain": [
       "<Figure size 1440x360 with 4 Axes>"
      ]
     },
     "metadata": {
      "needs_background": "light"
     },
     "output_type": "display_data"
    }
   ],
   "source": [
    "plt.figure(figsize=(20,5))\n",
    "plt.subplot(1,4,1)\n",
    "sns.countplot(hue = 'Churn', y = 'StreamingMovies', data=df1, palette=\"tab10\")\n",
    "plt.title('Streaming Movies')\n",
    "\n",
    "plt.subplot(1,4,2)\n",
    "sns.countplot(hue = 'Churn', y = 'Contract', data=df1, palette=\"tab10\")\n",
    "plt.title('Contract')\n",
    "\n",
    "plt.subplot(1,4,3)\n",
    "sns.countplot(hue = 'Churn', y = 'PaperlessBilling', data=df1, palette=\"tab10\")\n",
    "plt.title('Paperless Billing')\n",
    "\n",
    "plt.subplot(1,4,4)\n",
    "sns.countplot(hue = 'Churn', y = 'PaymentMethod', data=df1, palette=\"tab10\")\n",
    "plt.title('Payment Method')\n",
    "\n",
    "plt.tight_layout()\n",
    "\n",
    "plt.show()"
   ]
  },
  {
   "cell_type": "markdown",
   "metadata": {},
   "source": [
    "- For the Streaming Movies classification, we can ascertain that those who do not stream are more susceptible to churning, whilst those who do are not.\n",
    "- For the Contract classification, we can see that those with month-to-month contracts are more susceptible to churning and not churning.\n",
    "- For the Paperless Billing classification, we can understand that those who use paperless billing are more susceptible to churning and not churning.\n",
    "- For the Payment Method classification, we can observe that all categories have most customer count who do not churn, whilst only Electronic Check have most customers who are susceptible to churning.\n",
    "\n",
    "Overall, all our customers are not susceptible to churning in any category they fall into."
   ]
  },
  {
   "cell_type": "markdown",
   "metadata": {},
   "source": [
    "### c. Class Balance"
   ]
  },
  {
   "cell_type": "code",
   "execution_count": 25,
   "metadata": {},
   "outputs": [
    {
     "name": "stdout",
     "output_type": "stream",
     "text": [
      "Class Balance:  No     5163\n",
      "Yes    1869\n",
      "Name: Churn, dtype: int64\n"
     ]
    },
    {
     "data": {
      "image/png": "[encoded data removed]",
      "text/plain": [
       "<Figure size 432x288 with 1 Axes>"
      ]
     },
     "metadata": {
      "needs_background": "light"
     },
     "output_type": "display_data"
    }
   ],
   "source": [
    "df1['Churn'].value_counts().plot(kind='bar')\n",
    "print(\"Class Balance: \", df1['Churn'].value_counts())"
   ]
  },
  {
   "cell_type": "code",
   "execution_count": 26,
   "metadata": {},
   "outputs": [
    {
     "name": "stdout",
     "output_type": "stream",
     "text": [
      "26.578498293515356 %\n"
     ]
    }
   ],
   "source": [
    "print(1869/(5163+1869)*100, '%')"
   ]
  },
  {
   "cell_type": "markdown",
   "metadata": {},
   "source": [
    "The graph above describes that there is a Class Imbalance in the target of our dataset, where data entries for \"No\" is counted at 5163, whilst data entries for \"Yes\" is counted at only 1869. \n",
    "\n",
    "Data Imbalance Interpretation:\n",
    "\n",
    "- Ratio of 20 - 40% = Mild Imbalance \n",
    "\n",
    "- Ratio of 1 - 20% = Moderate Imbalance\n",
    "\n",
    "- Ratio of Below 1% = Extreme Imbalance\n",
    "\n",
    "Reference: https://bit.ly/3E2twQd\n",
    "\n",
    "In our case, the data entries for those with target outcome \"Yes\" (or Class 1) is only 26.57% of the dataset as a whole. Therefore, there is a mild imbalance in our data."
   ]
  },
  {
   "cell_type": "markdown",
   "metadata": {},
   "source": [
    "## V. Data Preprocessing"
   ]
  },
  {
   "cell_type": "code",
   "execution_count": 27,
   "metadata": {},
   "outputs": [
    {
     "data": {
      "text/plain": [
       "customerID           object\n",
       "gender               object\n",
       "SeniorCitizen         int64\n",
       "Partner              object\n",
       "Dependents           object\n",
       "tenure                int64\n",
       "PhoneService         object\n",
       "MultipleLines        object\n",
       "InternetService      object\n",
       "OnlineSecurity       object\n",
       "OnlineBackup         object\n",
       "DeviceProtection     object\n",
       "TechSupport          object\n",
       "StreamingTV          object\n",
       "StreamingMovies      object\n",
       "Contract             object\n",
       "PaperlessBilling     object\n",
       "PaymentMethod        object\n",
       "MonthlyCharges      float64\n",
       "TotalCharges        float64\n",
       "Churn                object\n",
       "dtype: object"
      ]
     },
     "execution_count": 27,
     "metadata": {},
     "output_type": "execute_result"
    }
   ],
   "source": [
    "df1.dtypes"
   ]
  },
  {
   "cell_type": "markdown",
   "metadata": {},
   "source": [
    "### a. Feature Selection"
   ]
  },
  {
   "cell_type": "markdown",
   "metadata": {},
   "source": [
    "Feature selection is mainly used as a neccesary step to reduce model training time and computer resource by limiting the features inputted into the model. In cases where features are low in number, this step is may be unnecessary. However, in large feature count cases, we may have to go through feature selection in accordance with the specific objective of the model creation."
   ]
  },
  {
   "cell_type": "code",
   "execution_count": 28,
   "metadata": {},
   "outputs": [],
   "source": [
    "# Defining new dataset in which only certain features and our target is retained.\n",
    "df2 = df1.drop(['customerID'], axis=1) "
   ]
  },
  {
   "cell_type": "markdown",
   "metadata": {},
   "source": [
    "#### 1. Correlation"
   ]
  },
  {
   "cell_type": "markdown",
   "metadata": {},
   "source": [
    "The first step in the feature selection will be to finding the correlation magnitude of our features to the target. Here, we will be using the K-Feature Value Chi-Square test and the Phik Matrix to do so. For the K-Feature Value test, we will be splitting the numerical and categorical data since the latter needs to be encoded beforehand."
   ]
  },
  {
   "cell_type": "code",
   "execution_count": 29,
   "metadata": {},
   "outputs": [],
   "source": [
    "# Splitting features from target \"Churn.\"\n",
    "df_chiN= df2[['SeniorCitizen', 'tenure', 'MonthlyCharges', 'TotalCharges']]\n",
    "df_chiC= df2.drop(['SeniorCitizen', 'tenure', 'MonthlyCharges', 'TotalCharges', 'Churn'], axis=1) \n",
    "df_chiT = df2[['Churn']]"
   ]
  },
  {
   "cell_type": "code",
   "execution_count": 30,
   "metadata": {},
   "outputs": [],
   "source": [
    "# Staging target from string (non-numerical) form to numerical form for conversion.\n",
    "df_chiT.loc[df_chiT['Churn']== 'No', 'Churn'] = 0\n",
    "df_chiT.loc[df_chiT['Churn']== 'Yes', 'Churn'] = 1"
   ]
  },
  {
   "cell_type": "code",
   "execution_count": 31,
   "metadata": {},
   "outputs": [],
   "source": [
    "# Converting target from string type to integer (numerical) form.\n",
    "df_chiT['Churn'] = df_chiT['Churn'].astype(int)\n",
    "df_chiT['Churn'] = df_chiT['Churn'].astype(int)"
   ]
  },
  {
   "cell_type": "code",
   "execution_count": 32,
   "metadata": {},
   "outputs": [
    {
     "data": {
      "text/plain": [
       "array([1.33482766e+02, 1.63773281e+04, 3.65307468e+03, 6.29630810e+05])"
      ]
     },
     "execution_count": 32,
     "metadata": {},
     "output_type": "execute_result"
    }
   ],
   "source": [
    "# K-Feature Values Chi-Square test syntax.\n",
    "chi_num = SelectKBest(score_func=chi2, k='all')\n",
    "fit_num = chi_num.fit(df_chiN, df_chiT)\n",
    "fit_num.scores_"
   ]
  },
  {
   "cell_type": "code",
   "execution_count": 33,
   "metadata": {},
   "outputs": [
    {
     "data": {
      "text/plain": [
       "array([1.33000e+02, 1.63770e+04, 3.65300e+03, 6.29631e+05])"
      ]
     },
     "execution_count": 33,
     "metadata": {},
     "output_type": "execute_result"
    }
   ],
   "source": [
    "# Rounding of results, which come out as K-Feature values.\n",
    "np.round_(fit_num.scores_)"
   ]
  },
  {
   "cell_type": "code",
   "execution_count": 34,
   "metadata": {},
   "outputs": [
    {
     "data": {
      "text/plain": [
       "TotalCharges      629630.810349\n",
       "tenure             16377.328093\n",
       "MonthlyCharges      3653.074681\n",
       "SeniorCitizen        133.482766\n",
       "dtype: float64"
      ]
     },
     "execution_count": 34,
     "metadata": {},
     "output_type": "execute_result"
    }
   ],
   "source": [
    "# Fitting (selecting) the rounded K-Feature values and sorting them.\n",
    "chi_n = pd.Series((fit_num.scores_))\n",
    "chi_n.index = df_chiN.columns\n",
    "chi_n.sort_values(ascending=False)"
   ]
  },
  {
   "cell_type": "markdown",
   "metadata": {},
   "source": [
    "The K-Feature values above only denotes how strongly correlated the features are to the target. As such, we can ascertain that \"TotalCharges\" has the biggest correlation to our target \"Churn.\" From this test alone, we will not be able to gather which features may be fit for use in our model. We will have to use the Phik Matrix for that."
   ]
  },
  {
   "cell_type": "code",
   "execution_count": 35,
   "metadata": {},
   "outputs": [],
   "source": [
    "# Encoder function to tranform categorical data (in string type) to numerical values.\n",
    "ord = OrdinalEncoder()\n",
    "\n",
    "# Fitting columns.\n",
    "ord.fit(df_chiC)\n",
    "\n",
    "# Transforming columns.\n",
    "chi_encoded = ord.transform(df_chiC)"
   ]
  },
  {
   "cell_type": "code",
   "execution_count": 36,
   "metadata": {},
   "outputs": [
    {
     "data": {
      "text/plain": [
       "array([2.54297062e-01, 8.18577694e+01, 1.31271509e+02, 9.29483891e-02,\n",
       "       9.73596015e+00, 9.71526930e+00, 5.50437364e+02, 2.29441123e+02,\n",
       "       1.90688004e+02, 5.22164716e+02, 7.37323437e+00, 8.35762354e+00,\n",
       "       1.11175905e+03, 1.04979224e+02, 5.92405068e+01])"
      ]
     },
     "execution_count": 36,
     "metadata": {},
     "output_type": "execute_result"
    }
   ],
   "source": [
    "# K-Feature Value test for categorical features.\n",
    "chi_cat = SelectKBest(score_func=chi2, k='all')\n",
    "fit_cat = chi_cat.fit(chi_encoded, df_chiT)\n",
    "fit_cat.scores_"
   ]
  },
  {
   "cell_type": "code",
   "execution_count": 37,
   "metadata": {},
   "outputs": [
    {
     "data": {
      "text/plain": [
       "array([   0.,   82.,  131.,    0.,   10.,   10.,  550.,  229.,  191.,\n",
       "        522.,    7.,    8., 1112.,  105.,   59.])"
      ]
     },
     "execution_count": 37,
     "metadata": {},
     "output_type": "execute_result"
    }
   ],
   "source": [
    "np.round_(fit_cat.scores_)"
   ]
  },
  {
   "cell_type": "code",
   "execution_count": 38,
   "metadata": {},
   "outputs": [
    {
     "data": {
      "text/plain": [
       "Contract            1111.759054\n",
       "OnlineSecurity       550.437364\n",
       "TechSupport          522.164716\n",
       "OnlineBackup         229.441123\n",
       "DeviceProtection     190.688004\n",
       "Dependents           131.271509\n",
       "PaperlessBilling     104.979224\n",
       "Partner               81.857769\n",
       "PaymentMethod         59.240507\n",
       "MultipleLines          9.735960\n",
       "InternetService        9.715269\n",
       "StreamingMovies        8.357624\n",
       "StreamingTV            7.373234\n",
       "gender                 0.254297\n",
       "PhoneService           0.092948\n",
       "dtype: float64"
      ]
     },
     "execution_count": 38,
     "metadata": {},
     "output_type": "execute_result"
    }
   ],
   "source": [
    "chi_cat = pd.Series((fit_cat.scores_))\n",
    "chi_cat.index = df_chiC.columns\n",
    "chi_cat.sort_values(ascending=False)"
   ]
  },
  {
   "cell_type": "markdown",
   "metadata": {},
   "source": [
    "The feature \"Contract\" has the strongest correlation to our target \"Churn.\""
   ]
  },
  {
   "cell_type": "code",
   "execution_count": 39,
   "metadata": {},
   "outputs": [
    {
     "name": "stdout",
     "output_type": "stream",
     "text": [
      "interval columns not set, guessing: ['SeniorCitizen', 'tenure', 'MonthlyCharges', 'TotalCharges']\n"
     ]
    },
    {
     "data": {
      "text/plain": [
       "<AxesSubplot:>"
      ]
     },
     "execution_count": 39,
     "metadata": {},
     "output_type": "execute_result"
    },
    {
     "data": {
      "image/png": "[encoded data removed]",
      "text/plain": [
       "<Figure size 1440x1440 with 2 Axes>"
      ]
     },
     "metadata": {
      "needs_background": "light"
     },
     "output_type": "display_data"
    }
   ],
   "source": [
    "# Spawning of Phik Matrix.\n",
    "plt.figure(figsize=(20, 20)) # Figure size.\n",
    "sns.heatmap(df2.phik_matrix(), vmin = 0, vmax = 1, annot = True) # Our range for the correlation coefficient is 0 to 1 (inputted in vmin and vmax)."
   ]
  },
  {
   "cell_type": "markdown",
   "metadata": {},
   "source": [
    "The Phik Matrix coefficients ranges from 0 - 1, with interpretation shown below:\n",
    "\n",
    "- Correlation coefficients between 0.9 and 1.0 = Very high correlation\n",
    "- Correlation coefficients between 0.7 and 0.9 = High correlation\n",
    "- Correlation coefficients between 0.5 and 0.7 = Moderate correlation\n",
    "- Correlation coefficients between 0.3 and 0.5 = Low correlation\n",
    "- Correlation coefficients below 0.3 = Weak to no correlation\n",
    "\n",
    "Reference: https://bit.ly/3f1UPQh\n",
    "\n",
    "This means, if our feature has a correlation coefficient of 0.3 or above, we will consider them as feature inputs for our model. However, this does not eliminate the fact that features could be selected based on intuition. As a reminder, this type of feature selection is used solely to reduce training time and computer resource.\n",
    "\n",
    "As such, we will be assuming a threshold of 0.1, where features with coefficients below it will be dropped."
   ]
  },
  {
   "cell_type": "code",
   "execution_count": 40,
   "metadata": {},
   "outputs": [],
   "source": [
    "# Dropping the unused features.\n",
    "df3 = df2.drop(['gender', 'PhoneService', 'MultipleLines'], axis=1)"
   ]
  },
  {
   "cell_type": "markdown",
   "metadata": {},
   "source": [
    "#### 2. Multicollinearity"
   ]
  },
  {
   "cell_type": "markdown",
   "metadata": {},
   "source": [
    "Checking for multicollinearity is optional and does not have significant impact to the classification process."
   ]
  },
  {
   "cell_type": "code",
   "execution_count": 41,
   "metadata": {},
   "outputs": [],
   "source": [
    "# Encoding used just for retention of Feature ID / Name.\n",
    "ord = OrdinalEncoder()\n",
    "\n",
    "ord.fit(df_chiC[['gender', 'Partner', 'Dependents', 'PhoneService', 'MultipleLines', 'InternetService', 'OnlineSecurity', 'OnlineBackup', 'DeviceProtection',\n",
    " 'TechSupport', 'StreamingTV', 'StreamingMovies', 'Contract', 'PaperlessBilling', 'PaymentMethod']])\n",
    "\n",
    "df_chiC[['gender', 'Partner', 'Dependents', 'PhoneService', 'MultipleLines', 'InternetService', 'OnlineSecurity', 'OnlineBackup', 'DeviceProtection',\n",
    " 'TechSupport', 'StreamingTV', 'StreamingMovies', 'Contract', 'PaperlessBilling', 'PaymentMethod']] = ord.transform(df_chiC\n",
    " [['gender', 'Partner', 'Dependents', 'PhoneService', 'MultipleLines', 'InternetService', 'OnlineSecurity', 'OnlineBackup', 'DeviceProtection',\n",
    " 'TechSupport', 'StreamingTV', 'StreamingMovies', 'Contract', 'PaperlessBilling', 'PaymentMethod']])"
   ]
  },
  {
   "cell_type": "code",
   "execution_count": 42,
   "metadata": {},
   "outputs": [],
   "source": [
    "# Converting encoded features to dataframe.\n",
    "df_chiC = pd.DataFrame(df_chiC)"
   ]
  },
  {
   "cell_type": "code",
   "execution_count": 43,
   "metadata": {},
   "outputs": [],
   "source": [
    "# Concat numerical and categorical data prior to VIF score test.\n",
    "chi1 = pd.concat([df_chiN.reset_index(drop=True), df_chiC.reset_index(drop=True)], axis=1)"
   ]
  },
  {
   "cell_type": "code",
   "execution_count": 44,
   "metadata": {},
   "outputs": [
    {
     "name": "stdout",
     "output_type": "stream",
     "text": [
      "             Feature        VIF\n",
      "0      SeniorCitizen   1.369954\n",
      "1             tenure  15.084412\n",
      "2     MonthlyCharges  20.503844\n",
      "3       TotalCharges  13.869098\n",
      "4             gender   1.954535\n",
      "5            Partner   2.819229\n",
      "6         Dependents   1.957360\n",
      "7       PhoneService  15.150758\n",
      "8      MultipleLines   2.756988\n",
      "9    InternetService   4.350001\n",
      "10    OnlineSecurity   2.247863\n",
      "11      OnlineBackup   2.455913\n",
      "12  DeviceProtection   2.629892\n",
      "13       TechSupport   2.381046\n",
      "14       StreamingTV   3.237958\n",
      "15   StreamingMovies   3.265595\n",
      "16          Contract   4.194484\n",
      "17  PaperlessBilling   2.875010\n",
      "18     PaymentMethod   3.095143\n"
     ]
    }
   ],
   "source": [
    "# Checking Variance Inflation Factor (VIF)\n",
    "vif_test = chi1\n",
    "vif_data = pd.DataFrame()\n",
    "vif_data[\"Feature\"] = vif_test.columns\n",
    "\n",
    "vif_data[\"VIF\"] = [variance_inflation_factor(vif_test.values, i) \n",
    "                          for i in range(len(vif_test.columns))]\n",
    "  \n",
    "print(vif_data)"
   ]
  },
  {
   "cell_type": "markdown",
   "metadata": {},
   "source": [
    "The VIF score can be interpreted as the following:\n",
    "\n",
    "- Where VIF score of 1 denotes no correlation.\n",
    "- Where VIF score of 1 - 10 denotes moderate correlation.\n",
    "- Where VIF score of 1 - 10 denotes high correlation.\n",
    "\n",
    "Reference: https://bit.ly/3f54fdK\n",
    "\n",
    "In short, we are looking for a VIF score of below 10, which would mean our feature will be considered for use in the model. From the table, we can ascertain that the feature \"MonthlyCharges\" has the highest VIF score that goes beyond 10. Therefore, we will be drop it and reevaluate the VIF score."
   ]
  },
  {
   "cell_type": "code",
   "execution_count": 45,
   "metadata": {},
   "outputs": [],
   "source": [
    "# Dropping \"MonthlyCharges.\"\n",
    "chi2 = chi1.drop(['MonthlyCharges'], axis=1)"
   ]
  },
  {
   "cell_type": "code",
   "execution_count": 46,
   "metadata": {},
   "outputs": [
    {
     "name": "stdout",
     "output_type": "stream",
     "text": [
      "             Feature        VIF\n",
      "0      SeniorCitizen   1.343210\n",
      "1             tenure  13.942277\n",
      "2       TotalCharges   9.995409\n",
      "3             gender   1.936952\n",
      "4            Partner   2.814039\n",
      "5         Dependents   1.957317\n",
      "6       PhoneService   8.202506\n",
      "7      MultipleLines   2.511962\n",
      "8    InternetService   3.646896\n",
      "9     OnlineSecurity   2.247428\n",
      "10      OnlineBackup   2.454485\n",
      "11  DeviceProtection   2.617893\n",
      "12       TechSupport   2.380627\n",
      "13       StreamingTV   3.095955\n",
      "14   StreamingMovies   3.117757\n",
      "15          Contract   4.073047\n",
      "16  PaperlessBilling   2.614613\n",
      "17     PaymentMethod   3.021672\n"
     ]
    }
   ],
   "source": [
    "vif_test = chi2\n",
    "vif_data = pd.DataFrame()\n",
    "vif_data[\"Feature\"] = vif_test.columns\n",
    "\n",
    "vif_data[\"VIF\"] = [variance_inflation_factor(vif_test.values, i) \n",
    "                          for i in range(len(vif_test.columns))]\n",
    "  \n",
    "print(vif_data)"
   ]
  },
  {
   "cell_type": "markdown",
   "metadata": {},
   "source": [
    "After dropping \"MonthlyCharges\" we can still observe that one feature (tenure) has a VIF score of above 10. As such, we will repeat our previous step and drop this feature."
   ]
  },
  {
   "cell_type": "code",
   "execution_count": 47,
   "metadata": {},
   "outputs": [],
   "source": [
    "# Dropping \"Tenure.\"\n",
    "chi3 = chi2.drop(['tenure'], axis=1)"
   ]
  },
  {
   "cell_type": "code",
   "execution_count": 48,
   "metadata": {},
   "outputs": [
    {
     "name": "stdout",
     "output_type": "stream",
     "text": [
      "             Feature       VIF\n",
      "0      SeniorCitizen  1.341260\n",
      "1       TotalCharges  5.316537\n",
      "2             gender  1.919674\n",
      "3            Partner  2.749816\n",
      "4         Dependents  1.955831\n",
      "5       PhoneService  8.200629\n",
      "6      MultipleLines  2.499564\n",
      "7    InternetService  3.491818\n",
      "8     OnlineSecurity  2.228559\n",
      "9       OnlineBackup  2.441964\n",
      "10  DeviceProtection  2.617616\n",
      "11       TechSupport  2.380037\n",
      "12       StreamingTV  3.075287\n",
      "13   StreamingMovies  3.100860\n",
      "14          Contract  3.014782\n",
      "15  PaperlessBilling  2.605425\n",
      "16     PaymentMethod  3.021575\n"
     ]
    }
   ],
   "source": [
    "vif_test = chi3 \n",
    "vif_data = pd.DataFrame()\n",
    "vif_data[\"Feature\"] = vif_test.columns\n",
    "\n",
    "vif_data[\"VIF\"] = [variance_inflation_factor(vif_test.values, i) \n",
    "                          for i in range(len(vif_test.columns))]\n",
    "  \n",
    "print(vif_data)"
   ]
  },
  {
   "cell_type": "markdown",
   "metadata": {},
   "source": [
    "Finally, we can observe that using the features above have a VIF score of below 10. With that, we will be retaining them all."
   ]
  },
  {
   "cell_type": "code",
   "execution_count": 49,
   "metadata": {},
   "outputs": [],
   "source": [
    "# Finalizing the features for our dataset.\n",
    "df4 = df3.drop(['MonthlyCharges', 'tenure'], axis=1)"
   ]
  },
  {
   "cell_type": "markdown",
   "metadata": {},
   "source": [
    "### b. Splitting Dataset"
   ]
  },
  {
   "cell_type": "code",
   "execution_count": 50,
   "metadata": {},
   "outputs": [],
   "source": [
    "# Applying the conversion of Churn output from string to integer in our dataset.\n",
    "df4.loc[df4['Churn']== 'No', 'Churn'] = 0\n",
    "df4.loc[df4['Churn']== 'Yes', 'Churn'] = 1"
   ]
  },
  {
   "cell_type": "code",
   "execution_count": 51,
   "metadata": {},
   "outputs": [],
   "source": [
    "# Finalizing conversion.\n",
    "df4['Churn'] = df4['Churn'].astype(int)\n",
    "df4['Churn'] = df4['Churn'].astype(int)"
   ]
  },
  {
   "cell_type": "code",
   "execution_count": 52,
   "metadata": {},
   "outputs": [
    {
     "name": "stdout",
     "output_type": "stream",
     "text": [
      "X_Train Size :  (4922, 14)\n",
      "X_Test Size  :  (2110, 14)\n",
      "y_Train Size :  (4922,)\n",
      "y_Test Size  :  (2110,)\n"
     ]
    }
   ],
   "source": [
    "# Defining X as our Features and y as our Target \"Churn.\"\n",
    "X = df4.drop(['Churn'], axis=1) \n",
    "y = df4['Churn']\n",
    "\n",
    "# Splitting dataframe between Train Set and Test Set as well as features and target, stratifying the target to make sure the train and test set receives\n",
    "# equal amounts of class output.\n",
    "X_train_full, X_test, y_train_full, y_test = train_test_split(X,y, stratify=y, train_size=0.7)\n",
    "\n",
    "print('X_Train Size : ', X_train_full.shape)\n",
    "print('X_Test Size  : ', X_test.shape)\n",
    "print('y_Train Size : ', y_train_full.shape)\n",
    "print('y_Test Size  : ', y_test.shape)"
   ]
  },
  {
   "cell_type": "code",
   "execution_count": 53,
   "metadata": {},
   "outputs": [
    {
     "name": "stdout",
     "output_type": "stream",
     "text": [
      "X_Train Size :  (4429, 14)\n",
      "X_Validation Size  :  (493, 14)\n",
      "y_Train Size :  (4429,)\n",
      "y_Validation Size  :  (493,)\n"
     ]
    }
   ],
   "source": [
    "# Resplitting our train set to the final train and validation sets.\n",
    "X_train, X_val, y_train, y_val = train_test_split(X_train_full, y_train_full, train_size=0.9)\n",
    "\n",
    "print('X_Train Size : ', X_train.shape)\n",
    "print('X_Validation Size  : ', X_val.shape)\n",
    "print('y_Train Size : ', y_train.shape)\n",
    "print('y_Validation Size  : ', y_val.shape)"
   ]
  },
  {
   "cell_type": "code",
   "execution_count": 73,
   "metadata": {},
   "outputs": [
    {
     "data": {
      "text/plain": [
       "Index(['SeniorCitizen', 'Partner', 'Dependents', 'InternetService',\n",
       "       'OnlineSecurity', 'OnlineBackup', 'DeviceProtection', 'TechSupport',\n",
       "       'StreamingTV', 'StreamingMovies', 'Contract', 'PaperlessBilling',\n",
       "       'PaymentMethod', 'TotalCharges'],\n",
       "      dtype='object')"
      ]
     },
     "execution_count": 73,
     "metadata": {},
     "output_type": "execute_result"
    }
   ],
   "source": [
    "X_train.columns"
   ]
  },
  {
   "cell_type": "markdown",
   "metadata": {},
   "source": [
    "### c. Outlier Handling"
   ]
  },
  {
   "cell_type": "markdown",
   "metadata": {},
   "source": [
    "Outlier handling is necessary for our model to perform better. As such we will be doing so to our numerical values."
   ]
  },
  {
   "cell_type": "code",
   "execution_count": 54,
   "metadata": {},
   "outputs": [],
   "source": [
    "# Seperating numerical from categorical data.\n",
    "X_train_num1 = X_train[['SeniorCitizen', 'TotalCharges']]\n",
    "X_train_cat = X_train.drop(['SeniorCitizen', 'TotalCharges'], axis=1)"
   ]
  },
  {
   "cell_type": "code",
   "execution_count": 59,
   "metadata": {},
   "outputs": [],
   "source": [
    "# Function to create histogram and boxplot.\n",
    "\n",
    "def diagnostic_plots(X_train_num1, variable):\n",
    "    # Defining Figure Size\n",
    "    plt.figure(figsize=(16, 4))\n",
    "\n",
    "    # Histogram\n",
    "    plt.subplot(1, 2, 1)\n",
    "    sns.histplot(X_train_num1[variable], bins=30)\n",
    "    plt.title('Histogram')\n",
    "\n",
    "    # Boxplot\n",
    "    plt.subplot(1, 2, 2)\n",
    "    sns.boxplot(X_train_num1[variable])\n",
    "    plt.title('Boxplot')\n",
    "\n",
    "    plt.show()\n",
    "\n",
    "    # Skewness\n",
    "    print('\\nSkewness Value : ', X_train_num1[variable].skew())"
   ]
  },
  {
   "cell_type": "code",
   "execution_count": 60,
   "metadata": {},
   "outputs": [
    {
     "data": {
      "image/png": "[encoded data removed]",
      "text/plain": [
       "<Figure size 1152x288 with 2 Axes>"
      ]
     },
     "metadata": {
      "needs_background": "light"
     },
     "output_type": "display_data"
    },
    {
     "name": "stdout",
     "output_type": "stream",
     "text": [
      "\n",
      "Skewness Value :  1.8478015336818578\n"
     ]
    },
    {
     "data": {
      "image/png": "[encoded data removed]",
      "text/plain": [
       "<Figure size 1152x288 with 2 Axes>"
      ]
     },
     "metadata": {
      "needs_background": "light"
     },
     "output_type": "display_data"
    },
    {
     "name": "stdout",
     "output_type": "stream",
     "text": [
      "\n",
      "Skewness Value :  0.9500762488418663\n"
     ]
    }
   ],
   "source": [
    "# For loop syntax to apply definition above for our numerical features.\n",
    "for variable in X_train_num1.columns:\n",
    "    diagnostic_plots(X_train_num1,variable)"
   ]
  },
  {
   "cell_type": "markdown",
   "metadata": {},
   "source": [
    "Skewness is interpreted as follows:\n",
    "\n",
    "- 0 to -0.5 or 0 to 0.5  = Normally Distributed\n",
    "- -0.5 to -1 or 0.5 to 1 = Moderately Skewed\n",
    "- Below -1 or above 1  = Highly Skewed\n",
    "\n",
    "With only two numerical features retained, we could undrstand that our feature \"SeniorCitizen\" is binary. Therefore, we will not be considering the values in it as outliers. For the \"TotalCharges\" feature, the skewness denotes that it is moderately skewed to the right. However, the boxplots tells us that there are no outliers to speak of. Nevertheless, we will still be conducting outlier handling just in case."
   ]
  },
  {
   "cell_type": "code",
   "execution_count": 61,
   "metadata": {},
   "outputs": [],
   "source": [
    "# Handling outlier with capping / censoring.\n",
    "windsoriser = Winsorizer(capping_method='iqr', tail='both', fold=1.5, # Using fold 3 since features being capped are all heavily skewed.\n",
    "                          variables=['TotalCharges'])\n",
    "\n",
    "# Fitting our dataset to the capper / windsorizer.\n",
    "windsoriser.fit(X_train_num1)\n",
    "\n",
    "# Transforming dataset and defining into new dataset.\n",
    "X_train_capped = windsoriser.transform(X_train_num1)"
   ]
  },
  {
   "cell_type": "markdown",
   "metadata": {},
   "source": [
    "The capping / censoring method of outlier handling is used to preserve the shape / trend of our data."
   ]
  },
  {
   "cell_type": "code",
   "execution_count": 62,
   "metadata": {},
   "outputs": [
    {
     "data": {
      "text/plain": [
       "SeniorCitizen    1.847802\n",
       "TotalCharges     0.950076\n",
       "dtype: float64"
      ]
     },
     "execution_count": 62,
     "metadata": {},
     "output_type": "execute_result"
    }
   ],
   "source": [
    "# Rechecking the skewness of our features after capping.\n",
    "X_train_capped.skew()"
   ]
  },
  {
   "cell_type": "markdown",
   "metadata": {},
   "source": [
    "From the results above, we could ascertain that the skewness for both features has not changed. As a reminder, the feature \"SeniorCitizen\" skipped the outlier handling step. However, the \"TotalCharges\" has not been skipped. Therefore, we can conclude that \"TotalCharges\" indeed had no outliers to begin with."
   ]
  },
  {
   "cell_type": "markdown",
   "metadata": {},
   "source": [
    "### d. Feature Scaling"
   ]
  },
  {
   "cell_type": "markdown",
   "metadata": {},
   "source": [
    "Scaling of the numerical features is needed for our model to efficiently and accurately work. Here, we are using the Min-Max scaler, which is a Normalizing technique that will convert the ratio of our values from whichever range they are to only a range of 0 - 1. This scaling method is used because our feature is skewed."
   ]
  },
  {
   "cell_type": "code",
   "execution_count": 63,
   "metadata": {},
   "outputs": [],
   "source": [
    "# Defining the features to be scaled.\n",
    "X_train_num = X_train_capped[['TotalCharges']]\n",
    "X_train_omit = X_train_capped[['SeniorCitizen']] \n",
    "\n",
    "X_test_num = X_test[['TotalCharges']]\n",
    "X_test_cat = X_test.drop(['SeniorCitizen', 'TotalCharges'], axis=1)\n",
    "X_test_omit = X_test[['SeniorCitizen']]\n",
    "\n",
    "X_val_num = X_val[['TotalCharges']]\n",
    "X_val_cat = X_val.drop(['SeniorCitizen', 'TotalCharges'], axis=1)\n",
    "X_val_omit = X_val[['SeniorCitizen']]"
   ]
  },
  {
   "cell_type": "markdown",
   "metadata": {},
   "source": [
    "We will not be scaling the feature \"SeniorCitizen.\""
   ]
  },
  {
   "cell_type": "code",
   "execution_count": 64,
   "metadata": {},
   "outputs": [],
   "source": [
    "# Defining scaler.\n",
    "scaler = MinMaxScaler()\n",
    "\n",
    "# Fitting features to be scaled. We are only fitting the train set and will be scaling the validation and test set according to it.\n",
    "scaler.fit(X_train_num)\n",
    "\n",
    "# Scaling features.\n",
    "X_train_scaled = scaler.transform(X_train_num)\n",
    "X_test_scaled = scaler.transform(X_test_num)\n",
    "X_val_scaled = scaler.transform(X_val_num)\n",
    "\n",
    "# Conversion to dataframe.\n",
    "X_train_scaled = pd.DataFrame(X_train_scaled)\n",
    "X_test_scaled = pd.DataFrame(X_test_scaled)\n",
    "X_val_scaled = pd.DataFrame(X_val_scaled)"
   ]
  },
  {
   "cell_type": "markdown",
   "metadata": {},
   "source": [
    "### e. Feature Encoding"
   ]
  },
  {
   "cell_type": "markdown",
   "metadata": {},
   "source": [
    "Feature encoding is an important step to convert our non-numerical values into numerical ones, since our model will not be able to interpret the data in its original string form."
   ]
  },
  {
   "cell_type": "code",
   "execution_count": 65,
   "metadata": {},
   "outputs": [],
   "source": [
    "# Encoder function to tranform data type string (non-numeric) to numerical form in specific columns\n",
    "ohe = OneHotEncoder()\n",
    "\n",
    "# Fitting categorical columns. Again we are only fitting the train set and will be encoding the validation and test set according to it.\n",
    "ohe.fit(X_train_cat)\n",
    "\n",
    "# Transforming categorical columns.\n",
    "X_train_encoded = ohe.transform(X_train_cat).toarray()\n",
    "X_test_encoded = ohe.transform(X_test_cat).toarray()\n",
    "X_val_encoded = ohe.transform(X_val_cat).toarray()\n",
    "\n",
    "# Conversion to dataframe.\n",
    "X_train_encoded = pd.DataFrame(X_train_encoded)\n",
    "X_test_encoded = pd.DataFrame(X_test_encoded)\n",
    "X_val_encoded = pd.DataFrame(X_val_encoded)"
   ]
  },
  {
   "cell_type": "markdown",
   "metadata": {},
   "source": [
    "### f. Concat Numerical and Categorical Sets"
   ]
  },
  {
   "cell_type": "code",
   "execution_count": 66,
   "metadata": {},
   "outputs": [],
   "source": [
    "# The numerical and categorical columns will now be rejoined into one dataframe for train and test set each.\n",
    "X_train_final = pd.concat([X_train_omit.reset_index(drop=True), X_train_scaled.reset_index(drop=True), X_train_encoded.reset_index(drop=True)],axis=1)\n",
    "X_test_final = pd.concat([X_test_omit.reset_index(drop=True), X_test_scaled.reset_index(drop=True), X_test_encoded.reset_index(drop=True)],axis=1)\n",
    "X_val_final = pd.concat([X_val_omit.reset_index(drop=True), X_val_scaled.reset_index(drop=True), X_val_encoded.reset_index(drop=True)],axis=1)"
   ]
  },
  {
   "cell_type": "markdown",
   "metadata": {},
   "source": [
    "The penultimate step in our data preprocessing is to join together the numerical and categorical sets that we have split in step C. The reason for converting our scaled and encoded data into dataframes is apparent here, as that is the required form in which to join (or concat) our data."
   ]
  },
  {
   "cell_type": "markdown",
   "metadata": {},
   "source": [
    "### g. Class Balancing"
   ]
  },
  {
   "cell_type": "markdown",
   "metadata": {},
   "source": [
    "It is required for our dataset class output to be balanced to reduce errors and poor model predictions. As such, we will be oversampling our Minority class (Class 1 / Output \"Yes\") and synthesize new data samples so that it may have the same sample size as our Majority class (Class 0 / Output \"No\").\n",
    "\n",
    "Only the Train Set will be balanced in order to preserve the trend of the validation and test data. This is done so that we will be given genuine predictions from our model that will not impede its performance during deployment."
   ]
  },
  {
   "cell_type": "code",
   "execution_count": 67,
   "metadata": {},
   "outputs": [],
   "source": [
    "# Defining the balancer SMOTENC, which is used to oversample minority classes in datasets containing numerical and categorical\n",
    "smotenc = SMOTENC([2, 3, 4, 5, 6, 7, 8, 9, 10, 11, 12, 13, 14, 15, 16, 17, 18, 19, 20, 21, 22, 23, 24, 25, 26, 27, 28, 29, 30, 31, 32, 33, 34], random_state = 20)"
   ]
  },
  {
   "cell_type": "code",
   "execution_count": 68,
   "metadata": {},
   "outputs": [],
   "source": [
    "# Fitting and resampling dataset.\n",
    "X_train_bal, y_train_bal = smotenc.fit_resample(X_train_final, y_train)"
   ]
  },
  {
   "cell_type": "code",
   "execution_count": 74,
   "metadata": {},
   "outputs": [
    {
     "name": "stdout",
     "output_type": "stream",
     "text": [
      "Class Balance:  0    1549\n",
      "1     561\n",
      "Name: Churn, dtype: int64\n"
     ]
    },
    {
     "data": {
      "image/png": "[encoded data removed]",
      "text/plain": [
       "<Figure size 432x288 with 1 Axes>"
      ]
     },
     "metadata": {
      "needs_background": "light"
     },
     "output_type": "display_data"
    }
   ],
   "source": [
    "# Before balancing.\n",
    "y_test.value_counts().plot(kind='bar')\n",
    "print(\"Class Balance: \", y_test.value_counts())"
   ]
  },
  {
   "cell_type": "code",
   "execution_count": 76,
   "metadata": {},
   "outputs": [
    {
     "name": "stdout",
     "output_type": "stream",
     "text": [
      "26.587677725118485 %\n"
     ]
    }
   ],
   "source": [
    "print(561/(1549+561)*100, '%')"
   ]
  },
  {
   "cell_type": "code",
   "execution_count": 75,
   "metadata": {},
   "outputs": [
    {
     "name": "stdout",
     "output_type": "stream",
     "text": [
      "Class Balance:  0    358\n",
      "1    135\n",
      "Name: Churn, dtype: int64\n"
     ]
    },
    {
     "data": {
      "image/png": "[encoded data removed]",
      "text/plain": [
       "<Figure size 432x288 with 1 Axes>"
      ]
     },
     "metadata": {
      "needs_background": "light"
     },
     "output_type": "display_data"
    }
   ],
   "source": [
    "# Before balancing.\n",
    "y_val.value_counts().plot(kind='bar')\n",
    "print(\"Class Balance: \", y_val.value_counts())"
   ]
  },
  {
   "cell_type": "code",
   "execution_count": 77,
   "metadata": {},
   "outputs": [
    {
     "name": "stdout",
     "output_type": "stream",
     "text": [
      "27.38336713995943 %\n"
     ]
    }
   ],
   "source": [
    "print(135/(358+135)*100, '%')"
   ]
  },
  {
   "cell_type": "code",
   "execution_count": 69,
   "metadata": {},
   "outputs": [
    {
     "name": "stdout",
     "output_type": "stream",
     "text": [
      "Class Balance:  0    3256\n",
      "1    1173\n",
      "Name: Churn, dtype: int64\n"
     ]
    },
    {
     "data": {
      "image/png": "[encoded data removed]",
      "text/plain": [
       "<Figure size 432x288 with 1 Axes>"
      ]
     },
     "metadata": {
      "needs_background": "light"
     },
     "output_type": "display_data"
    }
   ],
   "source": [
    "# Before balancing.\n",
    "y_train.value_counts().plot(kind='bar')\n",
    "print(\"Class Balance: \", y_train.value_counts())"
   ]
  },
  {
   "cell_type": "code",
   "execution_count": 70,
   "metadata": {},
   "outputs": [
    {
     "name": "stdout",
     "output_type": "stream",
     "text": [
      "Class Balance:  0    3256\n",
      "1    3256\n",
      "Name: Churn, dtype: int64\n"
     ]
    },
    {
     "data": {
      "image/png": "[encoded data removed]",
      "text/plain": [
       "<Figure size 432x288 with 1 Axes>"
      ]
     },
     "metadata": {
      "needs_background": "light"
     },
     "output_type": "display_data"
    }
   ],
   "source": [
    "# After balancing.\n",
    "y_train_bal.value_counts().plot(kind='bar')\n",
    "print(\"Class Balance: \", y_train_bal.value_counts())"
   ]
  },
  {
   "cell_type": "markdown",
   "metadata": {},
   "source": [
    "We can confirm that our dataset is now balanced, class wise, with each target output at 3256 entries each."
   ]
  },
  {
   "cell_type": "markdown",
   "metadata": {},
   "source": [
    "### h. TensorFlow Pipeline"
   ]
  },
  {
   "cell_type": "code",
   "execution_count": 1354,
   "metadata": {},
   "outputs": [],
   "source": [
    "# Defining pipeline for train set.\n",
    "train_ann = tf.data.Dataset.from_tensor_slices((X_train_bal, y_train_bal))\n",
    "\n",
    "# Shuffle and batching train set.\n",
    "train_ann = train_ann.shuffle(buffer_size=128).batch(128)\n",
    "\n",
    "# Defining Pipeline for test set.\n",
    "test_ann = tf.data.Dataset.from_tensor_slices((X_test_final, y_test))\n",
    "test_ann = test_ann.batch(32)\n",
    "\n",
    "# Defining Pipeline for validation set.\n",
    "val_ann = tf.data.Dataset.from_tensor_slices((X_val_final, y_val))\n",
    "val_ann = val_ann.batch(32)"
   ]
  },
  {
   "cell_type": "code",
   "execution_count": 1355,
   "metadata": {},
   "outputs": [],
   "source": [
    "# Using autotune to allow pipeline to choose optimal buffer size.\n",
    "AUTOTUNE = tf.data.AUTOTUNE\n",
    "train_ann = train_ann.cache().prefetch(buffer_size=AUTOTUNE)"
   ]
  },
  {
   "cell_type": "markdown",
   "metadata": {},
   "source": [
    "## VI. Model Definition"
   ]
  },
  {
   "cell_type": "code",
   "execution_count": 1536,
   "metadata": {},
   "outputs": [
    {
     "name": "stdout",
     "output_type": "stream",
     "text": [
      "Number of Neurons in Input Layer : 36\n",
      "Number of Neurons in Hidden Layer : 17\n",
      "Number of Neurons in Output Layer : 1\n"
     ]
    }
   ],
   "source": [
    "# Defining number of neurons in the input, hidden, and output layers.\n",
    "alp = 10\n",
    "inp = X_train_bal.shape[1]\n",
    "out = 1\n",
    "hid = int(len(X_train_bal)/(alp*(inp+out)))\n",
    "print(f'Number of Neurons in Input Layer : {inp}')\n",
    "print(f'Number of Neurons in Hidden Layer : {hid}')\n",
    "print(f'Number of Neurons in Output Layer : {out}')"
   ]
  },
  {
   "cell_type": "markdown",
   "metadata": {},
   "source": [
    "### a. Sequential API"
   ]
  },
  {
   "cell_type": "code",
   "execution_count": 1359,
   "metadata": {},
   "outputs": [],
   "source": [
    "# Defining Sequential API model architecture.\n",
    "model_seq = tf.keras.models.Sequential()\n",
    "model_seq.add(tf.keras.layers.Dense(inp, activation='relu', kernel_initializer='HeNormal', kernel_regularizer='l2', input_shape=(X_train_bal.shape[1],))) # Input Layer\n",
    "model_seq.add(tf.keras.layers.Dense(hid, activation='relu')) # Hidden Layer\n",
    "model_seq.add(tf.keras.layers.Dense(out, activation='sigmoid')) # Output Layer"
   ]
  },
  {
   "cell_type": "code",
   "execution_count": 1360,
   "metadata": {},
   "outputs": [
    {
     "name": "stdout",
     "output_type": "stream",
     "text": [
      "Model: \"sequential_74\"\n",
      "_________________________________________________________________\n",
      " Layer (type)                Output Shape              Param #   \n",
      "=================================================================\n",
      " dense_285 (Dense)           (None, 36)                1332      \n",
      "                                                                 \n",
      " dense_286 (Dense)           (None, 17)                629       \n",
      "                                                                 \n",
      " dense_287 (Dense)           (None, 1)                 18        \n",
      "                                                                 \n",
      "=================================================================\n",
      "Total params: 1,979\n",
      "Trainable params: 1,979\n",
      "Non-trainable params: 0\n",
      "_________________________________________________________________\n"
     ]
    }
   ],
   "source": [
    "# Summarizing the Sequential API model.\n",
    "model_seq.summary()"
   ]
  },
  {
   "cell_type": "code",
   "execution_count": 1361,
   "metadata": {},
   "outputs": [],
   "source": [
    "# Compiling Sequential API model before training. This used to configure the training parameters.\n",
    "model_seq.compile(loss='binary_crossentropy', optimizer='adam', metrics='accuracy')"
   ]
  },
  {
   "cell_type": "markdown",
   "metadata": {},
   "source": [
    "### b. Functional API"
   ]
  },
  {
   "cell_type": "code",
   "execution_count": 1362,
   "metadata": {},
   "outputs": [],
   "source": [
    "# Defining Functional API model architecture. \n",
    "def get_uncompiled_model():\n",
    "    input_func = tf.keras.Input(shape=(36,), name='input_func')\n",
    "    input_func = tf.keras.layers.Dense(36, activation='relu', kernel_initializer='HeNormal', kernel_regularizer='l2')(input_func)\n",
    "    hidden_func = tf.keras.layers.Dense(17, activation='relu', name='hidden_layer_func')(input_func)\n",
    "    output_func = tf.keras.layers.Dense(1, activation='sigmoid', name='output_func')(hidden_func)\n",
    "    model_func = tf.keras.Model(inputs=input_func, outputs=output_func)\n",
    "    return model_func\n",
    "\n",
    "# Compiling Functional API model before training.\n",
    "def get_compiled_model():\n",
    "    model_func = get_uncompiled_model()\n",
    "    model_func.compile(optimizer='adam',loss='binary_crossentropy',metrics=['accuracy'],)\n",
    "    return model_func"
   ]
  },
  {
   "cell_type": "markdown",
   "metadata": {},
   "source": [
    "## VII. Model Training"
   ]
  },
  {
   "cell_type": "markdown",
   "metadata": {},
   "source": [
    "### a. Sequential API"
   ]
  },
  {
   "cell_type": "code",
   "execution_count": 1363,
   "metadata": {},
   "outputs": [
    {
     "name": "stdout",
     "output_type": "stream",
     "text": [
      "Epoch 1/50\n",
      "51/51 [==============================] - 1s 8ms/step - loss: 1.3265 - accuracy: 0.5494 - val_loss: 1.2078 - val_accuracy: 0.6085\n",
      "Epoch 2/50\n",
      "51/51 [==============================] - 0s 5ms/step - loss: 1.1429 - accuracy: 0.6628 - val_loss: 1.0240 - val_accuracy: 0.7160\n",
      "Epoch 3/50\n",
      "51/51 [==============================] - 0s 5ms/step - loss: 0.9901 - accuracy: 0.7256 - val_loss: 0.9202 - val_accuracy: 0.7262\n",
      "Epoch 4/50\n",
      "51/51 [==============================] - 0s 4ms/step - loss: 0.8960 - accuracy: 0.7363 - val_loss: 0.8391 - val_accuracy: 0.7343\n",
      "Epoch 5/50\n",
      "51/51 [==============================] - 0s 4ms/step - loss: 0.8221 - accuracy: 0.7459 - val_loss: 0.7842 - val_accuracy: 0.7343\n",
      "Epoch 6/50\n",
      "51/51 [==============================] - 0s 4ms/step - loss: 0.7697 - accuracy: 0.7486 - val_loss: 0.7393 - val_accuracy: 0.7383\n",
      "Epoch 7/50\n",
      "51/51 [==============================] - 0s 4ms/step - loss: 0.7269 - accuracy: 0.7494 - val_loss: 0.7112 - val_accuracy: 0.7404\n",
      "Epoch 8/50\n",
      "51/51 [==============================] - 0s 4ms/step - loss: 0.6973 - accuracy: 0.7505 - val_loss: 0.6819 - val_accuracy: 0.7262\n",
      "Epoch 9/50\n",
      "51/51 [==============================] - 0s 4ms/step - loss: 0.6690 - accuracy: 0.7498 - val_loss: 0.6666 - val_accuracy: 0.7262\n",
      "Epoch 10/50\n",
      "51/51 [==============================] - 0s 5ms/step - loss: 0.6516 - accuracy: 0.7502 - val_loss: 0.6394 - val_accuracy: 0.7343\n",
      "Epoch 11/50\n",
      "51/51 [==============================] - 0s 4ms/step - loss: 0.6292 - accuracy: 0.7529 - val_loss: 0.6281 - val_accuracy: 0.7323\n",
      "Epoch 12/50\n",
      "51/51 [==============================] - 0s 5ms/step - loss: 0.6171 - accuracy: 0.7526 - val_loss: 0.6154 - val_accuracy: 0.7323\n",
      "Epoch 13/50\n",
      "51/51 [==============================] - 0s 5ms/step - loss: 0.6053 - accuracy: 0.7534 - val_loss: 0.6093 - val_accuracy: 0.7323\n",
      "Epoch 14/50\n",
      "51/51 [==============================] - 0s 5ms/step - loss: 0.5975 - accuracy: 0.7517 - val_loss: 0.6009 - val_accuracy: 0.7282\n",
      "Epoch 15/50\n",
      "51/51 [==============================] - 0s 5ms/step - loss: 0.5895 - accuracy: 0.7554 - val_loss: 0.5964 - val_accuracy: 0.7221\n",
      "Epoch 16/50\n",
      "51/51 [==============================] - 0s 4ms/step - loss: 0.5839 - accuracy: 0.7534 - val_loss: 0.5852 - val_accuracy: 0.7302\n",
      "Epoch 17/50\n",
      "51/51 [==============================] - 0s 4ms/step - loss: 0.5744 - accuracy: 0.7548 - val_loss: 0.5850 - val_accuracy: 0.7282\n",
      "Epoch 18/50\n",
      "51/51 [==============================] - 0s 4ms/step - loss: 0.5723 - accuracy: 0.7531 - val_loss: 0.5763 - val_accuracy: 0.7302\n",
      "Epoch 19/50\n",
      "51/51 [==============================] - 0s 5ms/step - loss: 0.5654 - accuracy: 0.7546 - val_loss: 0.5804 - val_accuracy: 0.7221\n",
      "Epoch 20/50\n",
      "51/51 [==============================] - 0s 5ms/step - loss: 0.5666 - accuracy: 0.7508 - val_loss: 0.5743 - val_accuracy: 0.7302\n",
      "Epoch 21/50\n",
      "51/51 [==============================] - 0s 5ms/step - loss: 0.5631 - accuracy: 0.7549 - val_loss: 0.5827 - val_accuracy: 0.7221\n",
      "Epoch 22/50\n",
      "51/51 [==============================] - 0s 5ms/step - loss: 0.5619 - accuracy: 0.7517 - val_loss: 0.5683 - val_accuracy: 0.7262\n",
      "Epoch 23/50\n",
      "51/51 [==============================] - 0s 5ms/step - loss: 0.5530 - accuracy: 0.7552 - val_loss: 0.5679 - val_accuracy: 0.7241\n",
      "Epoch 24/50\n",
      "51/51 [==============================] - 0s 4ms/step - loss: 0.5518 - accuracy: 0.7546 - val_loss: 0.5617 - val_accuracy: 0.7383\n",
      "Epoch 25/50\n",
      "51/51 [==============================] - 0s 4ms/step - loss: 0.5468 - accuracy: 0.7577 - val_loss: 0.5653 - val_accuracy: 0.7262\n",
      "Epoch 26/50\n",
      "51/51 [==============================] - 0s 4ms/step - loss: 0.5478 - accuracy: 0.7545 - val_loss: 0.5584 - val_accuracy: 0.7343\n",
      "Epoch 27/50\n",
      "51/51 [==============================] - 0s 4ms/step - loss: 0.5431 - accuracy: 0.7572 - val_loss: 0.5643 - val_accuracy: 0.7241\n",
      "Epoch 28/50\n",
      "51/51 [==============================] - 0s 4ms/step - loss: 0.5449 - accuracy: 0.7554 - val_loss: 0.5582 - val_accuracy: 0.7343\n",
      "Epoch 29/50\n",
      "51/51 [==============================] - 0s 5ms/step - loss: 0.5408 - accuracy: 0.7572 - val_loss: 0.5581 - val_accuracy: 0.7363\n",
      "Epoch 30/50\n",
      "51/51 [==============================] - 0s 4ms/step - loss: 0.5399 - accuracy: 0.7563 - val_loss: 0.5562 - val_accuracy: 0.7323\n",
      "Epoch 31/50\n",
      "51/51 [==============================] - 0s 4ms/step - loss: 0.5379 - accuracy: 0.7566 - val_loss: 0.5583 - val_accuracy: 0.7323\n",
      "Epoch 32/50\n",
      "51/51 [==============================] - 0s 4ms/step - loss: 0.5385 - accuracy: 0.7566 - val_loss: 0.5526 - val_accuracy: 0.7383\n",
      "Epoch 33/50\n",
      "51/51 [==============================] - 0s 4ms/step - loss: 0.5349 - accuracy: 0.7566 - val_loss: 0.5554 - val_accuracy: 0.7363\n",
      "Epoch 34/50\n",
      "51/51 [==============================] - 0s 4ms/step - loss: 0.5359 - accuracy: 0.7564 - val_loss: 0.5521 - val_accuracy: 0.7383\n",
      "Epoch 35/50\n",
      "51/51 [==============================] - 0s 4ms/step - loss: 0.5327 - accuracy: 0.7572 - val_loss: 0.5542 - val_accuracy: 0.7302\n",
      "Epoch 36/50\n",
      "51/51 [==============================] - 0s 4ms/step - loss: 0.5326 - accuracy: 0.7572 - val_loss: 0.5513 - val_accuracy: 0.7383\n",
      "Epoch 37/50\n",
      "51/51 [==============================] - 0s 4ms/step - loss: 0.5312 - accuracy: 0.7571 - val_loss: 0.5504 - val_accuracy: 0.7363\n",
      "Epoch 38/50\n",
      "51/51 [==============================] - 0s 4ms/step - loss: 0.5299 - accuracy: 0.7577 - val_loss: 0.5514 - val_accuracy: 0.7323\n",
      "Epoch 39/50\n",
      "51/51 [==============================] - 0s 4ms/step - loss: 0.5300 - accuracy: 0.7558 - val_loss: 0.5504 - val_accuracy: 0.7363\n",
      "Epoch 40/50\n",
      "51/51 [==============================] - 0s 3ms/step - loss: 0.5283 - accuracy: 0.7581 - val_loss: 0.5490 - val_accuracy: 0.7302\n",
      "Epoch 41/50\n",
      "51/51 [==============================] - 0s 4ms/step - loss: 0.5274 - accuracy: 0.7574 - val_loss: 0.5484 - val_accuracy: 0.7363\n",
      "Epoch 42/50\n",
      "51/51 [==============================] - 0s 4ms/step - loss: 0.5255 - accuracy: 0.7583 - val_loss: 0.5558 - val_accuracy: 0.7323\n",
      "Epoch 43/50\n",
      "51/51 [==============================] - 0s 4ms/step - loss: 0.5307 - accuracy: 0.7548 - val_loss: 0.5489 - val_accuracy: 0.7343\n",
      "Epoch 44/50\n",
      "51/51 [==============================] - 0s 4ms/step - loss: 0.5251 - accuracy: 0.7584 - val_loss: 0.5508 - val_accuracy: 0.7302\n",
      "Epoch 45/50\n",
      "51/51 [==============================] - 0s 4ms/step - loss: 0.5260 - accuracy: 0.7577 - val_loss: 0.5462 - val_accuracy: 0.7343\n",
      "Epoch 46/50\n",
      "51/51 [==============================] - 0s 4ms/step - loss: 0.5231 - accuracy: 0.7586 - val_loss: 0.5486 - val_accuracy: 0.7343\n",
      "Epoch 47/50\n",
      "51/51 [==============================] - 0s 4ms/step - loss: 0.5245 - accuracy: 0.7572 - val_loss: 0.5451 - val_accuracy: 0.7343\n",
      "Epoch 48/50\n",
      "51/51 [==============================] - 0s 4ms/step - loss: 0.5210 - accuracy: 0.7603 - val_loss: 0.5467 - val_accuracy: 0.7363\n",
      "Epoch 49/50\n",
      "51/51 [==============================] - 0s 4ms/step - loss: 0.5216 - accuracy: 0.7592 - val_loss: 0.5455 - val_accuracy: 0.7343\n",
      "Epoch 50/50\n",
      "51/51 [==============================] - 0s 4ms/step - loss: 0.5204 - accuracy: 0.7583 - val_loss: 0.5475 - val_accuracy: 0.7363\n",
      "\n",
      "Evaluate on test data\n",
      "66/66 [==============================] - 0s 2ms/step - loss: 0.5616 - accuracy: 0.7194\n"
     ]
    }
   ],
   "source": [
    "# Training Sequential API model.\n",
    "history_seq = model_seq.fit(train_ann, epochs=50, batch_size=32, validation_data=(val_ann))\n",
    "\n",
    "# Evaluating model.\n",
    "print(\"\\nEvaluate on test data\")\n",
    "result_seq = model_seq.evaluate(test_ann)"
   ]
  },
  {
   "cell_type": "markdown",
   "metadata": {},
   "source": [
    "### b. Functional API"
   ]
  },
  {
   "cell_type": "code",
   "execution_count": 1364,
   "metadata": {},
   "outputs": [
    {
     "name": "stdout",
     "output_type": "stream",
     "text": [
      "Epoch 1/50\n",
      "51/51 [==============================] - 1s 7ms/step - loss: 0.6402 - accuracy: 0.6215 - val_loss: 0.5527 - val_accuracy: 0.7363\n",
      "Epoch 2/50\n",
      "51/51 [==============================] - 0s 3ms/step - loss: 0.5671 - accuracy: 0.7202 - val_loss: 0.5406 - val_accuracy: 0.7424\n",
      "Epoch 3/50\n",
      "51/51 [==============================] - 0s 3ms/step - loss: 0.5465 - accuracy: 0.7354 - val_loss: 0.5259 - val_accuracy: 0.7566\n",
      "Epoch 4/50\n",
      "51/51 [==============================] - 0s 3ms/step - loss: 0.5326 - accuracy: 0.7465 - val_loss: 0.5201 - val_accuracy: 0.7586\n",
      "Epoch 5/50\n",
      "51/51 [==============================] - 0s 3ms/step - loss: 0.5240 - accuracy: 0.7502 - val_loss: 0.5168 - val_accuracy: 0.7566\n",
      "Epoch 6/50\n",
      "51/51 [==============================] - 0s 4ms/step - loss: 0.5181 - accuracy: 0.7537 - val_loss: 0.5147 - val_accuracy: 0.7525\n",
      "Epoch 7/50\n",
      "51/51 [==============================] - 0s 3ms/step - loss: 0.5136 - accuracy: 0.7554 - val_loss: 0.5136 - val_accuracy: 0.7525\n",
      "Epoch 8/50\n",
      "51/51 [==============================] - 0s 3ms/step - loss: 0.5101 - accuracy: 0.7548 - val_loss: 0.5128 - val_accuracy: 0.7505\n",
      "Epoch 9/50\n",
      "51/51 [==============================] - 0s 3ms/step - loss: 0.5072 - accuracy: 0.7571 - val_loss: 0.5123 - val_accuracy: 0.7363\n",
      "Epoch 10/50\n",
      "51/51 [==============================] - 0s 3ms/step - loss: 0.5046 - accuracy: 0.7575 - val_loss: 0.5120 - val_accuracy: 0.7343\n",
      "Epoch 11/50\n",
      "51/51 [==============================] - 0s 4ms/step - loss: 0.5023 - accuracy: 0.7569 - val_loss: 0.5117 - val_accuracy: 0.7404\n",
      "Epoch 12/50\n",
      "51/51 [==============================] - 0s 4ms/step - loss: 0.5004 - accuracy: 0.7577 - val_loss: 0.5113 - val_accuracy: 0.7444\n",
      "Epoch 13/50\n",
      "51/51 [==============================] - 0s 3ms/step - loss: 0.4984 - accuracy: 0.7592 - val_loss: 0.5113 - val_accuracy: 0.7444\n",
      "Epoch 14/50\n",
      "51/51 [==============================] - 0s 3ms/step - loss: 0.4969 - accuracy: 0.7595 - val_loss: 0.5111 - val_accuracy: 0.7444\n",
      "Epoch 15/50\n",
      "51/51 [==============================] - 0s 4ms/step - loss: 0.4953 - accuracy: 0.7600 - val_loss: 0.5110 - val_accuracy: 0.7444\n",
      "Epoch 16/50\n",
      "51/51 [==============================] - 0s 4ms/step - loss: 0.4939 - accuracy: 0.7601 - val_loss: 0.5110 - val_accuracy: 0.7444\n",
      "Epoch 17/50\n",
      "51/51 [==============================] - 0s 4ms/step - loss: 0.4927 - accuracy: 0.7609 - val_loss: 0.5107 - val_accuracy: 0.7444\n",
      "Epoch 18/50\n",
      "51/51 [==============================] - 0s 4ms/step - loss: 0.4914 - accuracy: 0.7620 - val_loss: 0.5105 - val_accuracy: 0.7424\n",
      "Epoch 19/50\n",
      "51/51 [==============================] - 0s 4ms/step - loss: 0.4902 - accuracy: 0.7635 - val_loss: 0.5104 - val_accuracy: 0.7383\n",
      "Epoch 20/50\n",
      "51/51 [==============================] - 0s 4ms/step - loss: 0.4892 - accuracy: 0.7627 - val_loss: 0.5101 - val_accuracy: 0.7383\n",
      "Epoch 21/50\n",
      "51/51 [==============================] - 0s 3ms/step - loss: 0.4882 - accuracy: 0.7631 - val_loss: 0.5098 - val_accuracy: 0.7383\n",
      "Epoch 22/50\n",
      "51/51 [==============================] - 0s 3ms/step - loss: 0.4873 - accuracy: 0.7631 - val_loss: 0.5093 - val_accuracy: 0.7404\n",
      "Epoch 23/50\n",
      "51/51 [==============================] - 0s 3ms/step - loss: 0.4863 - accuracy: 0.7632 - val_loss: 0.5088 - val_accuracy: 0.7424\n",
      "Epoch 24/50\n",
      "51/51 [==============================] - 0s 3ms/step - loss: 0.4853 - accuracy: 0.7623 - val_loss: 0.5085 - val_accuracy: 0.7424\n",
      "Epoch 25/50\n",
      "51/51 [==============================] - 0s 3ms/step - loss: 0.4845 - accuracy: 0.7620 - val_loss: 0.5081 - val_accuracy: 0.7424\n",
      "Epoch 26/50\n",
      "51/51 [==============================] - 0s 3ms/step - loss: 0.4836 - accuracy: 0.7626 - val_loss: 0.5079 - val_accuracy: 0.7424\n",
      "Epoch 27/50\n",
      "51/51 [==============================] - 0s 3ms/step - loss: 0.4828 - accuracy: 0.7631 - val_loss: 0.5076 - val_accuracy: 0.7424\n",
      "Epoch 28/50\n",
      "51/51 [==============================] - 0s 4ms/step - loss: 0.4819 - accuracy: 0.7634 - val_loss: 0.5075 - val_accuracy: 0.7424\n",
      "Epoch 29/50\n",
      "51/51 [==============================] - 0s 3ms/step - loss: 0.4812 - accuracy: 0.7634 - val_loss: 0.5068 - val_accuracy: 0.7424\n",
      "Epoch 30/50\n",
      "51/51 [==============================] - 0s 3ms/step - loss: 0.4801 - accuracy: 0.7635 - val_loss: 0.5065 - val_accuracy: 0.7424\n",
      "Epoch 31/50\n",
      "51/51 [==============================] - 0s 3ms/step - loss: 0.4792 - accuracy: 0.7640 - val_loss: 0.5062 - val_accuracy: 0.7424\n",
      "Epoch 32/50\n",
      "51/51 [==============================] - 0s 3ms/step - loss: 0.4782 - accuracy: 0.7646 - val_loss: 0.5059 - val_accuracy: 0.7444\n",
      "Epoch 33/50\n",
      "51/51 [==============================] - 0s 3ms/step - loss: 0.4773 - accuracy: 0.7655 - val_loss: 0.5054 - val_accuracy: 0.7465\n",
      "Epoch 34/50\n",
      "51/51 [==============================] - 0s 4ms/step - loss: 0.4764 - accuracy: 0.7661 - val_loss: 0.5052 - val_accuracy: 0.7465\n",
      "Epoch 35/50\n",
      "51/51 [==============================] - 0s 3ms/step - loss: 0.4757 - accuracy: 0.7664 - val_loss: 0.5048 - val_accuracy: 0.7465\n",
      "Epoch 36/50\n",
      "51/51 [==============================] - 0s 3ms/step - loss: 0.4747 - accuracy: 0.7663 - val_loss: 0.5050 - val_accuracy: 0.7465\n",
      "Epoch 37/50\n",
      "51/51 [==============================] - 0s 3ms/step - loss: 0.4742 - accuracy: 0.7664 - val_loss: 0.5043 - val_accuracy: 0.7465\n",
      "Epoch 38/50\n",
      "51/51 [==============================] - 0s 3ms/step - loss: 0.4733 - accuracy: 0.7664 - val_loss: 0.5042 - val_accuracy: 0.7465\n",
      "Epoch 39/50\n",
      "51/51 [==============================] - 0s 3ms/step - loss: 0.4732 - accuracy: 0.7670 - val_loss: 0.5049 - val_accuracy: 0.7485\n",
      "Epoch 40/50\n",
      "51/51 [==============================] - 0s 3ms/step - loss: 0.4724 - accuracy: 0.7670 - val_loss: 0.5040 - val_accuracy: 0.7505\n",
      "Epoch 41/50\n",
      "51/51 [==============================] - 0s 3ms/step - loss: 0.4713 - accuracy: 0.7686 - val_loss: 0.5038 - val_accuracy: 0.7505\n",
      "Epoch 42/50\n",
      "51/51 [==============================] - 0s 4ms/step - loss: 0.4706 - accuracy: 0.7687 - val_loss: 0.5034 - val_accuracy: 0.7505\n",
      "Epoch 43/50\n",
      "51/51 [==============================] - 0s 3ms/step - loss: 0.4699 - accuracy: 0.7690 - val_loss: 0.5030 - val_accuracy: 0.7505\n",
      "Epoch 44/50\n",
      "51/51 [==============================] - 0s 3ms/step - loss: 0.4692 - accuracy: 0.7697 - val_loss: 0.5027 - val_accuracy: 0.7505\n",
      "Epoch 45/50\n",
      "51/51 [==============================] - 0s 3ms/step - loss: 0.4686 - accuracy: 0.7703 - val_loss: 0.5022 - val_accuracy: 0.7485\n",
      "Epoch 46/50\n",
      "51/51 [==============================] - 0s 3ms/step - loss: 0.4678 - accuracy: 0.7710 - val_loss: 0.5019 - val_accuracy: 0.7485\n",
      "Epoch 47/50\n",
      "51/51 [==============================] - 0s 3ms/step - loss: 0.4672 - accuracy: 0.7718 - val_loss: 0.5017 - val_accuracy: 0.7485\n",
      "Epoch 48/50\n",
      "51/51 [==============================] - 0s 3ms/step - loss: 0.4667 - accuracy: 0.7723 - val_loss: 0.5015 - val_accuracy: 0.7485\n",
      "Epoch 49/50\n",
      "51/51 [==============================] - 0s 3ms/step - loss: 0.4661 - accuracy: 0.7732 - val_loss: 0.5014 - val_accuracy: 0.7485\n",
      "Epoch 50/50\n",
      "51/51 [==============================] - 0s 3ms/step - loss: 0.4656 - accuracy: 0.7747 - val_loss: 0.5011 - val_accuracy: 0.7465\n",
      "\n",
      "Evaluate on test data\n",
      "66/66 [==============================] - 0s 2ms/step - loss: 0.5101 - accuracy: 0.7427\n"
     ]
    }
   ],
   "source": [
    "# Defining the compiled Functional API model.\n",
    "model_func = get_compiled_model()\n",
    "\n",
    "# Training the model.\n",
    "history_func = model_func.fit(train_ann, epochs=50, batch_size=32, validation_data=(val_ann))\n",
    "\n",
    "# Evaluating model.\n",
    "print(\"\\nEvaluate on test data\")\n",
    "result_func = model_func.evaluate(test_ann)"
   ]
  },
  {
   "cell_type": "markdown",
   "metadata": {},
   "source": [
    "## VIII. Model Evaluation"
   ]
  },
  {
   "cell_type": "markdown",
   "metadata": {},
   "source": [
    "### a. Sequential API"
   ]
  },
  {
   "cell_type": "code",
   "execution_count": 1365,
   "metadata": {},
   "outputs": [
    {
     "data": {
      "image/png": "[encoded data removed]",
      "text/plain": [
       "<Figure size 1152x360 with 2 Axes>"
      ]
     },
     "metadata": {
      "needs_background": "light"
     },
     "output_type": "display_data"
    }
   ],
   "source": [
    "# Visualizing Model Evaluation for Sequential API.\n",
    "epoch=50\n",
    "\n",
    "# Train and Validation set loss.\n",
    "fig, ax = plt.subplots(ncols=2,figsize=(16,5))\n",
    "ax[0].plot(range(1,epoch+1),history_seq.history['loss'],label='Train Loss')\n",
    "ax[0].plot(range(1,epoch+1),history_seq.history['val_loss'],label='Val. Loss')\n",
    "ax[0].set_title('Loss')\n",
    "ax[0].legend()\n",
    "ax[0].set_xlabel('Epoch')\n",
    "\n",
    "# Train and Validation set accuracy.\n",
    "ax[1].plot(range(1,epoch+1),history_seq.history['accuracy'],label='Train Accucary')\n",
    "ax[1].plot(range(1,epoch+1),history_seq.history['val_accuracy'],label='Val. Accuracy')\n",
    "ax[1].set_title('Accuracy')\n",
    "ax[1].legend()\n",
    "ax[1].set_xlabel('Epoch')\n",
    "\n",
    "plt.show()"
   ]
  },
  {
   "cell_type": "markdown",
   "metadata": {},
   "source": [
    "The model here is deemed to be just-fit, although the validation accuracy is close to having a minor exploding gradient problem."
   ]
  },
  {
   "cell_type": "code",
   "execution_count": 1366,
   "metadata": {},
   "outputs": [
    {
     "name": "stdout",
     "output_type": "stream",
     "text": [
      "66/66 [==============================] - 0s 1ms/step\n",
      "[[1064  485]\n",
      " [ 107  454]]\n"
     ]
    },
    {
     "data": {
      "text/plain": [
       "<AxesSubplot:>"
      ]
     },
     "execution_count": 1366,
     "metadata": {},
     "output_type": "execute_result"
    },
    {
     "data": {
      "image/png": "[encoded data removed]",
      "text/plain": [
       "<Figure size 864x576 with 2 Axes>"
      ]
     },
     "metadata": {
      "needs_background": "light"
     },
     "output_type": "display_data"
    }
   ],
   "source": [
    "# Defining the probability of where our predicted outcome will land on (No or Yes). \n",
    "y_pred_seq = model_seq.predict(X_test_final)\n",
    "# Positive / Yes outcome is defined as value of above 0.5.\n",
    "y_pred_seq = (y_pred_seq > 0.5)\n",
    "\n",
    "# Display Confusion Matrix\n",
    "cmap1 = sns.diverging_palette(260,-10,s=50, l=75, n=5, as_cmap=True)\n",
    "plt.subplots(figsize=(12,8))\n",
    "cf_matrix_seq = confusion_matrix(y_test, y_pred_seq)\n",
    "print(cf_matrix_seq)\n",
    "sns.heatmap(cf_matrix_seq, cmap = cmap1, annot = True, annot_kws = {'size':15}, fmt='g')"
   ]
  },
  {
   "cell_type": "code",
   "execution_count": 1367,
   "metadata": {},
   "outputs": [
    {
     "data": {
      "image/png": "[encoded data removed]",
      "text/plain": [
       "<Figure size 432x288 with 1 Axes>"
      ]
     },
     "metadata": {
      "needs_background": "light"
     },
     "output_type": "display_data"
    },
    {
     "name": "stdout",
     "output_type": "stream",
     "text": [
      "AUC score: 0.7480819665151113\n"
     ]
    }
   ],
   "source": [
    "# ROC-AUC score calculation.\n",
    "fpr, tpr, thresholds = roc_curve(y_test, y_pred_seq)\n",
    "auc = roc_auc_score(y_test,y_pred_seq)\n",
    "\n",
    "# Plotting the ROC-AUC curve.\n",
    "plt.plot([0,1], [0,1], linestyle='--', label='No Skill')\n",
    "plt.plot(fpr, tpr, marker='.', label='ANN')\n",
    "plt.xlabel('False Positive Rate')\n",
    "plt.ylabel('True Positive Rate')\n",
    "plt.legend()\n",
    "plt.show()\n",
    "print(f'AUC score: {auc}')"
   ]
  },
  {
   "cell_type": "markdown",
   "metadata": {},
   "source": [
    "ROC is a probability curve and AUC represents the degree or measure of separability. It tells how much the model is capable of distinguishing between classes. Higher the AUC, the better the model is at predicting 0 classes as 0 and 1 classes as 1.\n",
    "\n",
    "Reference: https://bit.ly/3CcMkKh\n",
    "\n",
    "Here, with an AUC score of 0.748 / 74.8%, our model is capable of accurately distinguishing between classes."
   ]
  },
  {
   "cell_type": "code",
   "execution_count": 1368,
   "metadata": {},
   "outputs": [
    {
     "name": "stdout",
     "output_type": "stream",
     "text": [
      "Validation Loss - Sequential API : 0.5616\n",
      "Validation Accuracy - Sequential API : 0.7194\n",
      "\n",
      "Test Loss - Sequential API :  0.5615819096565247\n",
      "Test Accuracy - Sequential API :  0.7194312810897827\n"
     ]
    }
   ],
   "source": [
    "# Displaying Validation and Test set Loss and Accuracy scores.\n",
    "val_results_seq = model_seq.evaluate(X_test_final, y_test, verbose=0)\n",
    "print(f'Validation Loss - Sequential API : {val_results_seq[0]:.4f}')\n",
    "print(f'Validation Accuracy - Sequential API : {val_results_seq[1]:.4f}')\n",
    "print('')\n",
    "print('Test Loss - Sequential API : ', result_seq[0])\n",
    "print('Test Accuracy - Sequential API : ', result_seq[1])"
   ]
  },
  {
   "cell_type": "code",
   "execution_count": 1369,
   "metadata": {},
   "outputs": [
    {
     "name": "stdout",
     "output_type": "stream",
     "text": [
      "              precision    recall  f1-score   support\n",
      "\n",
      "           0       0.91      0.69      0.78      1549\n",
      "           1       0.48      0.81      0.61       561\n",
      "\n",
      "    accuracy                           0.72      2110\n",
      "   macro avg       0.70      0.75      0.69      2110\n",
      "weighted avg       0.80      0.72      0.74      2110\n",
      "\n"
     ]
    }
   ],
   "source": [
    "# Displaying Classification report for prediction of Sequential API model.\n",
    "print(classification_report(y_test, y_pred_seq))"
   ]
  },
  {
   "cell_type": "markdown",
   "metadata": {},
   "source": [
    "For the classification report, we will be looking at the Recall since we are aiming to avoid the following problems:\n",
    "\n",
    "- Problem 1 = Model predicts customers WILL CHURN when in fact they WILL NOT.\n",
    "- Problem 2 = Model predicts customers WILL NOT CHURN when in fact they WILL.\n",
    "\n",
    "Therefore, the recall scores are defined as the following: \n",
    "\n",
    "- Recall Class 0 = Where False Negative means that model predicts customers will CHURN when in fact they would NOT.\n",
    "- Recall Class 1 = Where False Negative means that model predicts customers will NOT CHURN when in fact they WILL.\n",
    "\n",
    "Additional attribute we will be looking for is:\n",
    "\n",
    "- Accuracy = The ratio of correctly predicted observation to the total observations.\n",
    "\n",
    "*We will only be looking at our Test Set for the evaluation."
   ]
  },
  {
   "cell_type": "markdown",
   "metadata": {},
   "source": [
    "Sequential API ANN Model Overview:\n",
    "\n",
    "- Class 0 Recall is 0.69 / 69%\n",
    "- Class 1 Recall is 0.81 / 81%\n",
    "- Accuracy is 0.72 / 72%\n",
    "\n",
    "Summary:\n",
    "\n",
    "Class 0's recall score indicates to us that the model is 69% accurate at classifying that customers WILL NOT churn. This means that 31% of the time, we may get a situation where we provide more benefits for a customer that will actually not be churning, wasting our resources. However, these consequences are relatively minimal.\n",
    "\n",
    "For Class 1, the recall is at 81%, which would indicate that our model is good at accurately classifying that customers WILL churn. With it, there is a good chance that we can react accordingly and in a timely manner to avoid a customer churning."
   ]
  },
  {
   "cell_type": "markdown",
   "metadata": {},
   "source": [
    "### b. Functional API"
   ]
  },
  {
   "cell_type": "code",
   "execution_count": 1370,
   "metadata": {},
   "outputs": [
    {
     "data": {
      "image/png": "[encoded data removed]",
      "text/plain": [
       "<Figure size 1152x360 with 2 Axes>"
      ]
     },
     "metadata": {
      "needs_background": "light"
     },
     "output_type": "display_data"
    }
   ],
   "source": [
    "# Visualizing Model Evaluation for Functional API.\n",
    "epoch=50\n",
    "\n",
    "fig, ax = plt.subplots(ncols=2,figsize=(16,5))\n",
    "ax[0].plot(range(1,epoch+1),history_func.history['loss'],label='Train Loss')\n",
    "ax[0].plot(range(1,epoch+1),history_func.history['val_loss'],label='Val. Loss')\n",
    "ax[0].set_title('Loss')\n",
    "ax[0].legend()\n",
    "ax[0].set_xlabel('Epoch')\n",
    "\n",
    "ax[1].plot(range(1,epoch+1),history_func.history['accuracy'],label='Train Accuracy')\n",
    "ax[1].plot(range(1,epoch+1),history_func.history['val_accuracy'],label='Val. Accuracy')\n",
    "ax[1].set_title('Accuracy')\n",
    "ax[1].legend()\n",
    "ax[1].set_xlabel('Epoch')\n",
    "\n",
    "plt.show()"
   ]
  },
  {
   "cell_type": "markdown",
   "metadata": {},
   "source": [
    "The model here is overfit due to the divergence in the Train and Validation loss."
   ]
  },
  {
   "cell_type": "code",
   "execution_count": 1371,
   "metadata": {},
   "outputs": [
    {
     "name": "stdout",
     "output_type": "stream",
     "text": [
      "66/66 [==============================] - 0s 1ms/step\n",
      "[[1130  419]\n",
      " [ 124  437]]\n"
     ]
    },
    {
     "data": {
      "text/plain": [
       "<AxesSubplot:>"
      ]
     },
     "execution_count": 1371,
     "metadata": {},
     "output_type": "execute_result"
    },
    {
     "data": {
      "image/png": "[encoded data removed]",
      "text/plain": [
       "<Figure size 864x576 with 2 Axes>"
      ]
     },
     "metadata": {
      "needs_background": "light"
     },
     "output_type": "display_data"
    }
   ],
   "source": [
    "# predict probabilities\n",
    "y_pred_func = model_func.predict(X_test_final)\n",
    "# keep probabilities for the positive outcome only\n",
    "y_pred_func = (y_pred_func > 0.5)\n",
    "\n",
    "# confusion matrix\n",
    "cmap2 = sns.diverging_palette(260,-10,s=50, l=75, n=5, as_cmap=True)\n",
    "plt.subplots(figsize=(12,8))\n",
    "cf_matrix_func = confusion_matrix(y_test, y_pred_func)\n",
    "print(cf_matrix_func)\n",
    "##persentase\n",
    "# sns.heatmap(cf_matrix_func/np.sum(cf_matrix_func), cmap = cmap1, annot = True, annot_kws = {'size':15});\n",
    "sns.heatmap(cf_matrix_func, cmap = cmap2, annot = True, annot_kws = {'size':15}, fmt='g')"
   ]
  },
  {
   "cell_type": "code",
   "execution_count": 1372,
   "metadata": {},
   "outputs": [
    {
     "data": {
      "image/png": "[encoded data removed]",
      "text/plain": [
       "<Figure size 432x288 with 1 Axes>"
      ]
     },
     "metadata": {
      "needs_background": "light"
     },
     "output_type": "display_data"
    },
    {
     "name": "stdout",
     "output_type": "stream",
     "text": [
      "AUC score: 0.7542345185036864\n"
     ]
    }
   ],
   "source": [
    "fpr, tpr, thresholds = roc_curve(y_test, y_pred_func)\n",
    "auc = roc_auc_score(y_test,y_pred_func)\n",
    "\n",
    "plt.plot([0,1], [0,1], linestyle='--', label='No Skill')\n",
    "plt.plot(fpr, tpr, marker='.', label='ANN')\n",
    "plt.xlabel('False Positive Rate')\n",
    "plt.ylabel('True Positive Rate')\n",
    "plt.legend()\n",
    "plt.show()\n",
    "print(f'AUC score: {auc}')"
   ]
  },
  {
   "cell_type": "markdown",
   "metadata": {},
   "source": [
    "Here, with an AUC score of 0.754 / 75.4%, our model is good at accurately distinguishing between classes."
   ]
  },
  {
   "cell_type": "code",
   "execution_count": 1373,
   "metadata": {},
   "outputs": [
    {
     "name": "stdout",
     "output_type": "stream",
     "text": [
      "Validation Loss - Functional API : 0.5101\n",
      "Validation Accuracy - Functional API : 0.7427\n",
      "\n",
      "Test Loss - Functional API :  0.510115385055542\n",
      "Test Accuracy - Functional API :  0.742654025554657\n"
     ]
    }
   ],
   "source": [
    "val_results_func = model_func.evaluate(X_test_final, y_test, verbose=0)\n",
    "print(f'Validation Loss - Functional API : {val_results_func[0]:.4f}')\n",
    "print(f'Validation Accuracy - Functional API : {val_results_func[1]:.4f}')\n",
    "print('')\n",
    "print('Test Loss - Functional API : ', result_func[0])\n",
    "print('Test Accuracy - Functional API : ', result_func[1])"
   ]
  },
  {
   "cell_type": "code",
   "execution_count": 1374,
   "metadata": {},
   "outputs": [
    {
     "name": "stdout",
     "output_type": "stream",
     "text": [
      "              precision    recall  f1-score   support\n",
      "\n",
      "           0       0.90      0.73      0.81      1549\n",
      "           1       0.51      0.78      0.62       561\n",
      "\n",
      "    accuracy                           0.74      2110\n",
      "   macro avg       0.71      0.75      0.71      2110\n",
      "weighted avg       0.80      0.74      0.76      2110\n",
      "\n"
     ]
    }
   ],
   "source": [
    "# Displaying Classification report for prediction of Functional API model.\n",
    "print(classification_report(y_test, y_pred_func))"
   ]
  },
  {
   "cell_type": "markdown",
   "metadata": {},
   "source": [
    "Functional API ANN Model Overview:\n",
    "\n",
    "- Class 0 Recall is 0.73 / 73%\n",
    "- Class 1 Recall is 0.78 / 78%\n",
    "- Accuracy is 0.74 / 74%\n",
    "\n",
    "Summary:\n",
    "\n",
    "Class 0's recall score indicates to us that the model is 73% accurate at classifying that customers WILL NOT churn. This means that 27% of the time, we may get a situation where we provide more benefits for a customer that will actually not be churning, wasting our resources. However, these consequences are relatively minimal.\n",
    "\n",
    "For Class 1, the recall is at 78%, which would indicate that our model is decent at accurately classifying that customers WILL churn. With it, there is a good chance that we can react accordingly and in a timely manner to avoid a customer churning."
   ]
  },
  {
   "cell_type": "markdown",
   "metadata": {},
   "source": [
    "## IX. Model Improvement"
   ]
  },
  {
   "cell_type": "code",
   "execution_count": 1486,
   "metadata": {},
   "outputs": [
    {
     "name": "stdout",
     "output_type": "stream",
     "text": [
      "Jumlah Neuron pada Hidden Layer: 17\n"
     ]
    }
   ],
   "source": [
    "# Defining number of neurons in the input, hidden, and output layers for improved Sequential API model.\n",
    "alp = 10\n",
    "inp = X_train_bal.shape[1]\n",
    "out = 1\n",
    "hid = int(len(X_train_bal)/(alp*(inp+out)))\n",
    "print(f'Jumlah Neuron pada Hidden Layer: {hid}')"
   ]
  },
  {
   "cell_type": "markdown",
   "metadata": {},
   "source": [
    "### a. Sequential API"
   ]
  },
  {
   "cell_type": "markdown",
   "metadata": {},
   "source": [
    "#### 1. Model Definition"
   ]
  },
  {
   "cell_type": "code",
   "execution_count": 1523,
   "metadata": {},
   "outputs": [],
   "source": [
    "# Defining improved Sequential API model architecture.\n",
    "model_seq2 = tf.keras.models.Sequential()\n",
    "model_seq2.add(tf.keras.layers.Dense(inp, activation='relu', kernel_initializer='HeNormal', kernel_regularizer='l2', input_shape=(X_train_bal.shape[1],))) # Input Layer\n",
    "model_seq2.add(tf.keras.layers.Dense(hid, activation='relu')) # Hidden Layer\n",
    "model_seq2.add(tf.keras.layers.Dense(out, activation='sigmoid')) # Output Layer"
   ]
  },
  {
   "cell_type": "code",
   "execution_count": 1524,
   "metadata": {},
   "outputs": [
    {
     "name": "stdout",
     "output_type": "stream",
     "text": [
      "Model: \"sequential_85\"\n",
      "_________________________________________________________________\n",
      " Layer (type)                Output Shape              Param #   \n",
      "=================================================================\n",
      " dense_324 (Dense)           (None, 36)                1332      \n",
      "                                                                 \n",
      " dense_325 (Dense)           (None, 17)                629       \n",
      "                                                                 \n",
      " dense_326 (Dense)           (None, 1)                 18        \n",
      "                                                                 \n",
      "=================================================================\n",
      "Total params: 1,979\n",
      "Trainable params: 1,979\n",
      "Non-trainable params: 0\n",
      "_________________________________________________________________\n"
     ]
    }
   ],
   "source": [
    "model_seq2.summary()"
   ]
  },
  {
   "cell_type": "code",
   "execution_count": 1525,
   "metadata": {},
   "outputs": [],
   "source": [
    "# Compiling / setting training parameters for improved Sequential API model.\n",
    "model_seq2.compile(loss='binary_crossentropy', optimizer=tf.keras.optimizers.Adamax(clipvalue=0.1, learning_rate=0.001), metrics='accuracy')"
   ]
  },
  {
   "cell_type": "markdown",
   "metadata": {},
   "source": [
    "#### 2. Model Training"
   ]
  },
  {
   "cell_type": "code",
   "execution_count": 1526,
   "metadata": {},
   "outputs": [
    {
     "name": "stdout",
     "output_type": "stream",
     "text": [
      "Epoch 1/20\n",
      "51/51 [==============================] - 1s 5ms/step - loss: 1.3675 - accuracy: 0.5275 - val_loss: 1.1750 - val_accuracy: 0.7383\n",
      "Epoch 2/20\n",
      "51/51 [==============================] - 0s 3ms/step - loss: 1.1902 - accuracy: 0.6766 - val_loss: 1.1048 - val_accuracy: 0.7302\n",
      "Epoch 3/20\n",
      "51/51 [==============================] - 0s 3ms/step - loss: 1.0997 - accuracy: 0.7016 - val_loss: 1.0352 - val_accuracy: 0.7120\n",
      "Epoch 4/20\n",
      "51/51 [==============================] - 0s 2ms/step - loss: 1.0275 - accuracy: 0.7176 - val_loss: 0.9733 - val_accuracy: 0.7160\n",
      "Epoch 5/20\n",
      "51/51 [==============================] - 0s 3ms/step - loss: 0.9680 - accuracy: 0.7259 - val_loss: 0.9210 - val_accuracy: 0.7160\n",
      "Epoch 6/20\n",
      "51/51 [==============================] - 0s 2ms/step - loss: 0.9187 - accuracy: 0.7359 - val_loss: 0.8772 - val_accuracy: 0.7160\n",
      "Epoch 7/20\n",
      "51/51 [==============================] - 0s 2ms/step - loss: 0.8776 - accuracy: 0.7419 - val_loss: 0.8398 - val_accuracy: 0.7140\n",
      "Epoch 8/20\n",
      "51/51 [==============================] - 0s 2ms/step - loss: 0.8427 - accuracy: 0.7462 - val_loss: 0.8076 - val_accuracy: 0.7160\n",
      "Epoch 9/20\n",
      "51/51 [==============================] - 0s 3ms/step - loss: 0.8124 - accuracy: 0.7494 - val_loss: 0.7803 - val_accuracy: 0.7241\n",
      "Epoch 10/20\n",
      "51/51 [==============================] - 0s 3ms/step - loss: 0.7867 - accuracy: 0.7511 - val_loss: 0.7558 - val_accuracy: 0.7282\n",
      "Epoch 11/20\n",
      "51/51 [==============================] - 0s 2ms/step - loss: 0.7640 - accuracy: 0.7540 - val_loss: 0.7340 - val_accuracy: 0.7383\n",
      "Epoch 12/20\n",
      "51/51 [==============================] - 0s 2ms/step - loss: 0.7439 - accuracy: 0.7555 - val_loss: 0.7146 - val_accuracy: 0.7404\n",
      "Epoch 13/20\n",
      "51/51 [==============================] - 0s 2ms/step - loss: 0.7263 - accuracy: 0.7574 - val_loss: 0.6977 - val_accuracy: 0.7383\n",
      "Epoch 14/20\n",
      "51/51 [==============================] - 0s 2ms/step - loss: 0.7109 - accuracy: 0.7588 - val_loss: 0.6823 - val_accuracy: 0.7424\n",
      "Epoch 15/20\n",
      "51/51 [==============================] - 0s 3ms/step - loss: 0.6970 - accuracy: 0.7614 - val_loss: 0.6687 - val_accuracy: 0.7424\n",
      "Epoch 16/20\n",
      "51/51 [==============================] - 0s 2ms/step - loss: 0.6851 - accuracy: 0.7623 - val_loss: 0.6555 - val_accuracy: 0.7424\n",
      "Epoch 17/20\n",
      "51/51 [==============================] - 0s 2ms/step - loss: 0.6740 - accuracy: 0.7627 - val_loss: 0.6439 - val_accuracy: 0.7444\n",
      "Epoch 18/20\n",
      "51/51 [==============================] - 0s 3ms/step - loss: 0.6645 - accuracy: 0.7618 - val_loss: 0.6329 - val_accuracy: 0.7465\n",
      "Epoch 19/20\n",
      "51/51 [==============================] - 0s 2ms/step - loss: 0.6560 - accuracy: 0.7627 - val_loss: 0.6229 - val_accuracy: 0.7465\n",
      "Epoch 20/20\n",
      "51/51 [==============================] - 0s 2ms/step - loss: 0.6480 - accuracy: 0.7641 - val_loss: 0.6143 - val_accuracy: 0.7465\n",
      "\n",
      "Evaluate on test data\n",
      "66/66 [==============================] - 0s 1ms/step - loss: 0.6276 - accuracy: 0.7275\n"
     ]
    }
   ],
   "source": [
    "# Training improved Sequential API model.\n",
    "history_seq2 = model_seq2.fit(train_seq, epochs=20, batch_size=32, validation_data=(val_seq))\n",
    "\n",
    "print(\"\\nEvaluate on test data\")\n",
    "result_seq2 = model_seq2.evaluate(test_seq)"
   ]
  },
  {
   "cell_type": "code",
   "execution_count": 1527,
   "metadata": {},
   "outputs": [],
   "source": [
    "# Freezing improved Sequential API model to prevent further training beyond this point.\n",
    "model_seq2.trainable = False"
   ]
  },
  {
   "cell_type": "markdown",
   "metadata": {},
   "source": [
    "#### 3. Model Evaluation"
   ]
  },
  {
   "cell_type": "code",
   "execution_count": 1528,
   "metadata": {},
   "outputs": [
    {
     "data": {
      "image/png": "[encoded data removed]",
      "text/plain": [
       "<Figure size 1152x360 with 2 Axes>"
      ]
     },
     "metadata": {
      "needs_background": "light"
     },
     "output_type": "display_data"
    }
   ],
   "source": [
    "# Visualizing Model Evaluation for improved Sequential API model.\n",
    "epoch=20\n",
    "\n",
    "fig, ax = plt.subplots(ncols=2,figsize=(16,5))\n",
    "ax[0].plot(range(1,epoch+1),history_seq2.history['loss'],label='Train Loss')\n",
    "ax[0].plot(range(1,epoch+1),history_seq2.history['val_loss'],label='Val. Loss')\n",
    "ax[0].set_title('Loss')\n",
    "ax[0].legend()\n",
    "ax[0].set_xlabel('Epoch')\n",
    "\n",
    "ax[1].plot(range(1,epoch+1),history_seq2.history['accuracy'],label='Train Accucary')\n",
    "ax[1].plot(range(1,epoch+1),history_seq2.history['val_accuracy'],label='Val. Accuracy')\n",
    "ax[1].set_title('Accuracy')\n",
    "ax[1].legend()\n",
    "ax[1].set_xlabel('Epoch')\n",
    "\n",
    "plt.show()"
   ]
  },
  {
   "cell_type": "markdown",
   "metadata": {},
   "source": [
    "The model remains just-fit."
   ]
  },
  {
   "cell_type": "code",
   "execution_count": 1529,
   "metadata": {},
   "outputs": [
    {
     "name": "stdout",
     "output_type": "stream",
     "text": [
      "66/66 [==============================] - 0s 1ms/step\n",
      "[[1086  463]\n",
      " [ 112  449]]\n"
     ]
    },
    {
     "data": {
      "text/plain": [
       "<AxesSubplot:>"
      ]
     },
     "execution_count": 1529,
     "metadata": {},
     "output_type": "execute_result"
    },
    {
     "data": {
      "image/png": "[encoded data removed]",
      "text/plain": [
       "<Figure size 864x576 with 2 Axes>"
      ]
     },
     "metadata": {
      "needs_background": "light"
     },
     "output_type": "display_data"
    }
   ],
   "source": [
    "y_pred_seq2 = model_seq2.predict(X_test_final)\n",
    "y_pred_seq2 = (y_pred_seq2 > 0.5)\n",
    "\n",
    "cmap3 = sns.diverging_palette(260,-10,s=50, l=75, n=5, as_cmap=True)\n",
    "plt.subplots(figsize=(12,8))\n",
    "cf_matrix_seq2 = confusion_matrix(y_test, y_pred_seq2)\n",
    "print(cf_matrix_seq2)\n",
    "sns.heatmap(cf_matrix_seq2, cmap = cmap3, annot = True, annot_kws = {'size':15}, fmt='g')"
   ]
  },
  {
   "cell_type": "code",
   "execution_count": 1530,
   "metadata": {},
   "outputs": [
    {
     "data": {
      "image/png": "[encoded data removed]",
      "text/plain": [
       "<Figure size 432x288 with 1 Axes>"
      ]
     },
     "metadata": {
      "needs_background": "light"
     },
     "output_type": "display_data"
    },
    {
     "name": "stdout",
     "output_type": "stream",
     "text": [
      "AUC score: 0.7507269942427349\n"
     ]
    }
   ],
   "source": [
    "fpr, tpr, thresholds = roc_curve(y_test, y_pred_seq2)\n",
    "auc = roc_auc_score(y_test,y_pred_seq2)\n",
    "\n",
    "plt.plot([0,1], [0,1], linestyle='--', label='No Skill')\n",
    "plt.plot(fpr, tpr, marker='.', label='ANN')\n",
    "plt.xlabel('False Positive Rate')\n",
    "plt.ylabel('True Positive Rate')\n",
    "plt.legend()\n",
    "plt.show()\n",
    "print(f'AUC score: {auc}')"
   ]
  },
  {
   "cell_type": "markdown",
   "metadata": {},
   "source": [
    "The AUC score of the improved Sequential API ANN model is 0.75 / 75%. This means our model is good at accurately distinguishing between classes."
   ]
  },
  {
   "cell_type": "code",
   "execution_count": 1531,
   "metadata": {},
   "outputs": [
    {
     "name": "stdout",
     "output_type": "stream",
     "text": [
      "Validation Loss - Sequential API (Improved) : 0.6276\n",
      "Validation Accuracy - Sequential API (Improved) : 0.7275\n",
      "\n",
      "Test Loss - Sequential API (Improved) :  0.6276043653488159\n",
      "Test Accuracy - Sequential API (Improved) :  0.7274881601333618\n"
     ]
    }
   ],
   "source": [
    "val_results_seq2 = model_seq2.evaluate(X_test_final, y_test, verbose=0)\n",
    "print(f'Validation Loss - Sequential API (Improved) : {val_results_seq2[0]:.4f}')\n",
    "print(f'Validation Accuracy - Sequential API (Improved) : {val_results_seq2[1]:.4f}')\n",
    "print('')\n",
    "print('Test Loss - Sequential API (Improved) : ', result_seq2[0])\n",
    "print('Test Accuracy - Sequential API (Improved) : ', result_seq2[1])"
   ]
  },
  {
   "cell_type": "code",
   "execution_count": 1532,
   "metadata": {},
   "outputs": [
    {
     "name": "stdout",
     "output_type": "stream",
     "text": [
      "              precision    recall  f1-score   support\n",
      "\n",
      "           0       0.91      0.70      0.79      1549\n",
      "           1       0.49      0.80      0.61       561\n",
      "\n",
      "    accuracy                           0.73      2110\n",
      "   macro avg       0.70      0.75      0.70      2110\n",
      "weighted avg       0.80      0.73      0.74      2110\n",
      "\n"
     ]
    }
   ],
   "source": [
    "# Displaying Classification report for prediction of improved Sequential API model.\n",
    "print(classification_report(y_test, y_pred_seq2))"
   ]
  },
  {
   "cell_type": "markdown",
   "metadata": {},
   "source": [
    "Improved Sequential API ANN Model Overview:\n",
    "\n",
    "- Class 0 Recall is 0.70 / 70%\n",
    "- Class 1 Recall is 0.80 / 80%\n",
    "- Accuracy is 0.73 / 73%\n",
    "\n",
    "Summary:\n",
    "\n",
    "Class 0's recall score indicates to us that the model is 70% accurate at classifying that customers WILL NOT churn. This means that 30% of the time, we may get a situation where we provide more benefits for a customer that will actually not be churning, wasting our resources. However, these consequences are relatively minimal.\n",
    "\n",
    "For Class 1, the recall is at 80%, which would indicate that our model is good at accurately classifying that customers WILL churn. With it, there is a good chance that we can react accordingly and in a timely manner to avoid a customer churning."
   ]
  },
  {
   "cell_type": "markdown",
   "metadata": {},
   "source": [
    "### b. Functional API"
   ]
  },
  {
   "cell_type": "markdown",
   "metadata": {},
   "source": [
    "#### 1. Model Definition"
   ]
  },
  {
   "cell_type": "code",
   "execution_count": 1500,
   "metadata": {},
   "outputs": [],
   "source": [
    "# Defining improved Functional API model architecture. \n",
    "def get_uncompiled_model():\n",
    "    input_func2 = tf.keras.Input(shape=(36,), name='input_func2')\n",
    "    input_func2 = tf.keras.layers.Dense(36, activation='relu', kernel_initializer='HeNormal', kernel_regularizer='l2')(input_func2)\n",
    "    hidden_func2 = tf.keras.layers.Dense(17, activation='relu', name='hidden_layer_func')(input_func2)\n",
    "    output_func2 = tf.keras.layers.Dense(1, activation='sigmoid', name='output_func')(hidden_func2)\n",
    "    model_func2 = tf.keras.Model(inputs=input_func2, outputs=output_func2)\n",
    "    return model_func2\n",
    "\n",
    "# Compiling improved Functional API model before training.\n",
    "def get_compiled_model():\n",
    "    model_func2 = get_uncompiled_model()\n",
    "    model_func2.compile(optimizer=tf.keras.optimizers.Adamax(clipvalue=0.1, learning_rate=0.001),loss='binary_crossentropy',metrics=['accuracy'],)\n",
    "    return model_func2"
   ]
  },
  {
   "cell_type": "markdown",
   "metadata": {},
   "source": [
    "#### 2. Model Training"
   ]
  },
  {
   "cell_type": "code",
   "execution_count": 1502,
   "metadata": {},
   "outputs": [
    {
     "name": "stdout",
     "output_type": "stream",
     "text": [
      "Epoch 1/20\n",
      "51/51 [==============================] - 1s 9ms/step - loss: 0.7575 - accuracy: 0.4559 - val_loss: 0.6220 - val_accuracy: 0.6673\n",
      "Epoch 2/20\n",
      "51/51 [==============================] - 0s 4ms/step - loss: 0.6561 - accuracy: 0.6090 - val_loss: 0.5933 - val_accuracy: 0.6978\n",
      "Epoch 3/20\n",
      "51/51 [==============================] - 0s 3ms/step - loss: 0.6125 - accuracy: 0.6754 - val_loss: 0.5719 - val_accuracy: 0.7241\n",
      "Epoch 4/20\n",
      "51/51 [==============================] - 0s 3ms/step - loss: 0.5857 - accuracy: 0.6984 - val_loss: 0.5538 - val_accuracy: 0.7282\n",
      "Epoch 5/20\n",
      "51/51 [==============================] - 0s 3ms/step - loss: 0.5671 - accuracy: 0.7156 - val_loss: 0.5381 - val_accuracy: 0.7485\n",
      "Epoch 6/20\n",
      "51/51 [==============================] - 0s 4ms/step - loss: 0.5530 - accuracy: 0.7288 - val_loss: 0.5255 - val_accuracy: 0.7546\n",
      "Epoch 7/20\n",
      "51/51 [==============================] - 0s 3ms/step - loss: 0.5422 - accuracy: 0.7402 - val_loss: 0.5153 - val_accuracy: 0.7546\n",
      "Epoch 8/20\n",
      "51/51 [==============================] - 0s 3ms/step - loss: 0.5334 - accuracy: 0.7468 - val_loss: 0.5077 - val_accuracy: 0.7546\n",
      "Epoch 9/20\n",
      "51/51 [==============================] - 0s 4ms/step - loss: 0.5267 - accuracy: 0.7520 - val_loss: 0.5017 - val_accuracy: 0.7525\n",
      "Epoch 10/20\n",
      "51/51 [==============================] - 0s 4ms/step - loss: 0.5214 - accuracy: 0.7555 - val_loss: 0.4968 - val_accuracy: 0.7465\n",
      "Epoch 11/20\n",
      "51/51 [==============================] - 0s 3ms/step - loss: 0.5172 - accuracy: 0.7575 - val_loss: 0.4929 - val_accuracy: 0.7444\n",
      "Epoch 12/20\n",
      "51/51 [==============================] - 0s 3ms/step - loss: 0.5141 - accuracy: 0.7595 - val_loss: 0.4893 - val_accuracy: 0.7424\n",
      "Epoch 13/20\n",
      "51/51 [==============================] - 0s 4ms/step - loss: 0.5119 - accuracy: 0.7614 - val_loss: 0.4861 - val_accuracy: 0.7485\n",
      "Epoch 14/20\n",
      "51/51 [==============================] - 0s 4ms/step - loss: 0.5104 - accuracy: 0.7629 - val_loss: 0.4833 - val_accuracy: 0.7505\n",
      "Epoch 15/20\n",
      "51/51 [==============================] - 0s 3ms/step - loss: 0.5093 - accuracy: 0.7638 - val_loss: 0.4809 - val_accuracy: 0.7505\n",
      "Epoch 16/20\n",
      "51/51 [==============================] - 0s 3ms/step - loss: 0.5088 - accuracy: 0.7638 - val_loss: 0.4788 - val_accuracy: 0.7485\n",
      "Epoch 17/20\n",
      "51/51 [==============================] - 0s 3ms/step - loss: 0.5088 - accuracy: 0.7638 - val_loss: 0.4768 - val_accuracy: 0.7525\n",
      "Epoch 18/20\n",
      "51/51 [==============================] - 0s 4ms/step - loss: 0.5090 - accuracy: 0.7644 - val_loss: 0.4752 - val_accuracy: 0.7546\n",
      "Epoch 19/20\n",
      "51/51 [==============================] - 0s 3ms/step - loss: 0.5098 - accuracy: 0.7650 - val_loss: 0.4738 - val_accuracy: 0.7586\n",
      "Epoch 20/20\n",
      "51/51 [==============================] - 0s 4ms/step - loss: 0.5110 - accuracy: 0.7661 - val_loss: 0.4724 - val_accuracy: 0.7627\n",
      "\n",
      "Evaluate on test data\n",
      "66/66 [==============================] - 1s 2ms/step - loss: 0.4817 - accuracy: 0.7527\n"
     ]
    }
   ],
   "source": [
    "# Defining the compiled Functional API model.\n",
    "model_func2 = get_compiled_model()\n",
    "\n",
    "# Training the model.\n",
    "history_func2 = model_func2.fit(train_func, epochs=20, batch_size=32, validation_data=(X_val_final, y_val))\n",
    "\n",
    "# Evaluating model.\n",
    "print(\"\\nEvaluate on test data\")\n",
    "result_func2 = model_func2.evaluate(test_func)"
   ]
  },
  {
   "cell_type": "code",
   "execution_count": 1503,
   "metadata": {},
   "outputs": [],
   "source": [
    "model_func2.trainable = False"
   ]
  },
  {
   "cell_type": "markdown",
   "metadata": {},
   "source": [
    "#### 3. Model Evaluation"
   ]
  },
  {
   "cell_type": "code",
   "execution_count": 1504,
   "metadata": {},
   "outputs": [
    {
     "data": {
      "image/png": "[encoded data removed]",
      "text/plain": [
       "<Figure size 1152x360 with 2 Axes>"
      ]
     },
     "metadata": {
      "needs_background": "light"
     },
     "output_type": "display_data"
    }
   ],
   "source": [
    "# Visualizing Model Evaluation for improved Functional API model.\n",
    "epoch=20\n",
    "\n",
    "fig, ax = plt.subplots(ncols=2,figsize=(16,5))\n",
    "ax[0].plot(range(1,epoch+1),history_func2.history['loss'],label='Train Loss')\n",
    "ax[0].plot(range(1,epoch+1),history_func2.history['val_loss'],label='Val. Loss')\n",
    "ax[0].set_title('Loss')\n",
    "ax[0].legend()\n",
    "ax[0].set_xlabel('Epoch')\n",
    "\n",
    "ax[1].plot(range(1,epoch+1),history_func2.history['accuracy'],label='Train Accuracy')\n",
    "ax[1].plot(range(1,epoch+1),history_func2.history['val_accuracy'],label='Val. Accuracy')\n",
    "ax[1].set_title('Accuracy')\n",
    "ax[1].legend()\n",
    "ax[1].set_xlabel('Epoch')\n",
    "\n",
    "plt.show()"
   ]
  },
  {
   "cell_type": "markdown",
   "metadata": {},
   "source": [
    "After tuning the parameters, we now obtain a model that is just-fit."
   ]
  },
  {
   "cell_type": "code",
   "execution_count": 1505,
   "metadata": {},
   "outputs": [
    {
     "name": "stdout",
     "output_type": "stream",
     "text": [
      "66/66 [==============================] - 0s 2ms/step\n",
      "[[1130  419]\n",
      " [ 124  437]]\n"
     ]
    },
    {
     "data": {
      "text/plain": [
       "<AxesSubplot:>"
      ]
     },
     "execution_count": 1505,
     "metadata": {},
     "output_type": "execute_result"
    },
    {
     "data": {
      "image/png": "[encoded data removed]",
      "text/plain": [
       "<Figure size 864x576 with 2 Axes>"
      ]
     },
     "metadata": {
      "needs_background": "light"
     },
     "output_type": "display_data"
    }
   ],
   "source": [
    "y_pred_func2 = model_func2.predict(X_test_final)\n",
    "y_pred_func2 = (y_pred_func2 > 0.5)\n",
    "\n",
    "cmap4 = sns.diverging_palette(260,-10,s=50, l=75, n=5, as_cmap=True)\n",
    "plt.subplots(figsize=(12,8))\n",
    "cf_matrix_func2 = confusion_matrix(y_test, y_pred_func)\n",
    "print(cf_matrix_func2)\n",
    "sns.heatmap(cf_matrix_func, cmap = cmap4, annot = True, annot_kws = {'size':15}, fmt='g')"
   ]
  },
  {
   "cell_type": "code",
   "execution_count": 1506,
   "metadata": {},
   "outputs": [
    {
     "data": {
      "image/png": "[encoded data removed]",
      "text/plain": [
       "<Figure size 432x288 with 1 Axes>"
      ]
     },
     "metadata": {
      "needs_background": "light"
     },
     "output_type": "display_data"
    },
    {
     "name": "stdout",
     "output_type": "stream",
     "text": [
      "AUC score: 0.7530544115057842\n"
     ]
    }
   ],
   "source": [
    "fpr, tpr, thresholds = roc_curve(y_test, y_pred_func2)\n",
    "auc = roc_auc_score(y_test,y_pred_func2)\n",
    "\n",
    "plt.plot([0,1], [0,1], linestyle='--', label='No Skill')\n",
    "plt.plot(fpr, tpr, marker='.', label='ANN')\n",
    "plt.xlabel('False Positive Rate')\n",
    "plt.ylabel('True Positive Rate')\n",
    "plt.legend()\n",
    "plt.show()\n",
    "print(f'AUC score: {auc}')"
   ]
  },
  {
   "cell_type": "markdown",
   "metadata": {},
   "source": [
    "The AUC score of the improved Functional API ANN model is 0.753 / 75.3%. This means our model is good at accurately distinguishing between classes."
   ]
  },
  {
   "cell_type": "code",
   "execution_count": 1507,
   "metadata": {},
   "outputs": [
    {
     "name": "stdout",
     "output_type": "stream",
     "text": [
      "Validation Loss - Functional API (Function) : 0.4817\n",
      "Validation Accuracy - Functional API (Function) : 0.7526\n",
      "\n",
      "Test Loss - Functional API (Function) :  0.48166272044181824\n",
      "Test Accuracy - Functional API (Function) :  0.7527146339416504\n"
     ]
    }
   ],
   "source": [
    "val_results_func2 = model_func2.evaluate(X_test_final, y_test, verbose=0)\n",
    "print(f'Validation Loss - Functional API (Function) : {val_results_func2[0]:.4f}')\n",
    "print(f'Validation Accuracy - Functional API (Function) : {val_results_func2[1]:.4f}')\n",
    "print('')\n",
    "print('Test Loss - Functional API (Function) : ', result_func2[0])\n",
    "print('Test Accuracy - Functional API (Function) : ', result_func2[1])"
   ]
  },
  {
   "cell_type": "code",
   "execution_count": 1508,
   "metadata": {},
   "outputs": [
    {
     "name": "stdout",
     "output_type": "stream",
     "text": [
      "              precision    recall  f1-score   support\n",
      "\n",
      "           0       0.89      0.75      0.82      1549\n",
      "           1       0.52      0.75      0.62       561\n",
      "\n",
      "    accuracy                           0.75      2110\n",
      "   macro avg       0.71      0.75      0.72      2110\n",
      "weighted avg       0.80      0.75      0.76      2110\n",
      "\n"
     ]
    }
   ],
   "source": [
    "# Displaying Classification report for prediction of improved Functional API model.\n",
    "print(classification_report(y_test, y_pred_func2))"
   ]
  },
  {
   "cell_type": "markdown",
   "metadata": {},
   "source": [
    "Improved Sequential API ANN Model Overview:\n",
    "\n",
    "- Class 0 Recall is 0.75 / 75%\n",
    "- Class 1 Recall is 0.75 / 75%\n",
    "- Accuracy is 0.75 / 75%\n",
    "\n",
    "Summary:\n",
    "\n",
    "Class 0's recall score indicates to us that the model is 75% accurate at classifying that customers WILL NOT churn. This means that 25% of the time, we may get a situation where we provide more benefits for a customer that will actually not be churning, wasting our resources. However, these consequences are relatively minimal.\n",
    "\n",
    "For Class 1, the recall is at 75%, which would indicate that our model is decent at accurately classifying that customers WILL churn. With it, there is a good chance that we can react accordingly and in a timely manner to avoid a customer churning."
   ]
  },
  {
   "cell_type": "markdown",
   "metadata": {},
   "source": [
    "## X. Model Inference"
   ]
  },
  {
   "cell_type": "code",
   "execution_count": 1535,
   "metadata": {},
   "outputs": [
    {
     "data": {
      "text/html": [
       "<div>\n",
       "<style scoped>\n",
       "    .dataframe tbody tr th:only-of-type {\n",
       "        vertical-align: middle;\n",
       "    }\n",
       "\n",
       "    .dataframe tbody tr th {\n",
       "        vertical-align: top;\n",
       "    }\n",
       "\n",
       "    .dataframe thead th {\n",
       "        text-align: right;\n",
       "    }\n",
       "</style>\n",
       "<table border=\"1\" class=\"dataframe\">\n",
       "  <thead>\n",
       "    <tr style=\"text-align: right;\">\n",
       "      <th></th>\n",
       "      <th>SeniorCitizen</th>\n",
       "      <th>Partner</th>\n",
       "      <th>Dependents</th>\n",
       "      <th>InternetService</th>\n",
       "      <th>OnlineSecurity</th>\n",
       "      <th>OnlineBackup</th>\n",
       "      <th>DeviceProtection</th>\n",
       "      <th>TechSupport</th>\n",
       "      <th>StreamingTV</th>\n",
       "      <th>StreamingMovies</th>\n",
       "      <th>Contract</th>\n",
       "      <th>PaperlessBilling</th>\n",
       "      <th>PaymentMethod</th>\n",
       "      <th>TotalCharges</th>\n",
       "    </tr>\n",
       "  </thead>\n",
       "  <tbody>\n",
       "    <tr>\n",
       "      <th>0</th>\n",
       "      <td>0</td>\n",
       "      <td>No</td>\n",
       "      <td>No</td>\n",
       "      <td>DSL</td>\n",
       "      <td>Yes</td>\n",
       "      <td>No</td>\n",
       "      <td>Yes</td>\n",
       "      <td>No</td>\n",
       "      <td>No</td>\n",
       "      <td>No</td>\n",
       "      <td>One year</td>\n",
       "      <td>No</td>\n",
       "      <td>Mailed check</td>\n",
       "      <td>2280</td>\n",
       "    </tr>\n",
       "    <tr>\n",
       "      <th>1</th>\n",
       "      <td>1</td>\n",
       "      <td>No</td>\n",
       "      <td>Yes</td>\n",
       "      <td>Fiber optic</td>\n",
       "      <td>Yes</td>\n",
       "      <td>No</td>\n",
       "      <td>Yes</td>\n",
       "      <td>Yes</td>\n",
       "      <td>Yes</td>\n",
       "      <td>No</td>\n",
       "      <td>Two year</td>\n",
       "      <td>Yes</td>\n",
       "      <td>Credit card (automatic)</td>\n",
       "      <td>3900</td>\n",
       "    </tr>\n",
       "    <tr>\n",
       "      <th>2</th>\n",
       "      <td>1</td>\n",
       "      <td>Yes</td>\n",
       "      <td>No</td>\n",
       "      <td>No</td>\n",
       "      <td>No internet service</td>\n",
       "      <td>No internet service</td>\n",
       "      <td>No internet service</td>\n",
       "      <td>No internet service</td>\n",
       "      <td>No internet service</td>\n",
       "      <td>No internet service</td>\n",
       "      <td>Month-to-month</td>\n",
       "      <td>No</td>\n",
       "      <td>Bank transfer (automatic)</td>\n",
       "      <td>60</td>\n",
       "    </tr>\n",
       "    <tr>\n",
       "      <th>3</th>\n",
       "      <td>0</td>\n",
       "      <td>Yes</td>\n",
       "      <td>Yes</td>\n",
       "      <td>Fiber optic</td>\n",
       "      <td>No</td>\n",
       "      <td>Yes</td>\n",
       "      <td>No</td>\n",
       "      <td>Yes</td>\n",
       "      <td>Yes</td>\n",
       "      <td>Yes</td>\n",
       "      <td>Month-to-month</td>\n",
       "      <td>Yes</td>\n",
       "      <td>Electronic check</td>\n",
       "      <td>8000</td>\n",
       "    </tr>\n",
       "    <tr>\n",
       "      <th>4</th>\n",
       "      <td>0</td>\n",
       "      <td>No</td>\n",
       "      <td>No</td>\n",
       "      <td>Fiber optic</td>\n",
       "      <td>Yes</td>\n",
       "      <td>Yes</td>\n",
       "      <td>Yes</td>\n",
       "      <td>No</td>\n",
       "      <td>No</td>\n",
       "      <td>Yes</td>\n",
       "      <td>Two year</td>\n",
       "      <td>Yes</td>\n",
       "      <td>Credit card (automatic)</td>\n",
       "      <td>5500</td>\n",
       "    </tr>\n",
       "  </tbody>\n",
       "</table>\n",
       "</div>"
      ],
      "text/plain": [
       "   SeniorCitizen Partner Dependents InternetService       OnlineSecurity  \\\n",
       "0              0      No         No             DSL                  Yes   \n",
       "1              1      No        Yes     Fiber optic                  Yes   \n",
       "2              1     Yes         No              No  No internet service   \n",
       "3              0     Yes        Yes     Fiber optic                   No   \n",
       "4              0      No         No     Fiber optic                  Yes   \n",
       "\n",
       "          OnlineBackup     DeviceProtection          TechSupport  \\\n",
       "0                   No                  Yes                   No   \n",
       "1                   No                  Yes                  Yes   \n",
       "2  No internet service  No internet service  No internet service   \n",
       "3                  Yes                   No                  Yes   \n",
       "4                  Yes                  Yes                   No   \n",
       "\n",
       "           StreamingTV      StreamingMovies        Contract PaperlessBilling  \\\n",
       "0                   No                   No        One year               No   \n",
       "1                  Yes                   No        Two year              Yes   \n",
       "2  No internet service  No internet service  Month-to-month               No   \n",
       "3                  Yes                  Yes  Month-to-month              Yes   \n",
       "4                   No                  Yes        Two year              Yes   \n",
       "\n",
       "               PaymentMethod  TotalCharges  \n",
       "0               Mailed check          2280  \n",
       "1    Credit card (automatic)          3900  \n",
       "2  Bank transfer (automatic)            60  \n",
       "3           Electronic check          8000  \n",
       "4    Credit card (automatic)          5500  "
      ]
     },
     "execution_count": 1535,
     "metadata": {},
     "output_type": "execute_result"
    }
   ],
   "source": [
    "# Create Inference Data\n",
    "df_inf = pd.DataFrame([[0, 'No', 'No', 'DSL', 'Yes', 'No', 'Yes', 'No', 'No', 'No', 'One year', 'No', 'Mailed check', 2280],\n",
    "[1, 'No', 'Yes', 'Fiber optic', 'Yes', 'No', 'Yes', 'Yes', 'Yes', 'No', 'Two year', 'Yes', 'Credit card (automatic)', 3900],\n",
    "[1, 'Yes', 'No', 'No', 'No internet service', 'No internet service', 'No internet service', 'No internet service', 'No internet service',\n",
    "'No internet service', 'Month-to-month', 'No', 'Bank transfer (automatic)', 60],\n",
    "[0, 'Yes', 'Yes', 'Fiber optic', 'No', 'Yes', 'No', 'Yes', 'Yes', 'Yes', 'Month-to-month', 'Yes', 'Electronic check', 8000],\n",
    "[0, 'No', 'No', 'Fiber optic', 'Yes', 'Yes', 'Yes', 'No', 'No', 'Yes', 'Two year', 'Yes', 'Credit card (automatic)', 5500]],\n",
    "     \n",
    "     columns=['SeniorCitizen', 'Partner', 'Dependents', 'InternetService', 'OnlineSecurity', 'OnlineBackup', 'DeviceProtection', 'TechSupport',\n",
    "       'StreamingTV', 'StreamingMovies', 'Contract', 'PaperlessBilling', 'PaymentMethod', 'TotalCharges'])\n",
    "\n",
    "df_inf"
   ]
  },
  {
   "cell_type": "code",
   "execution_count": 1540,
   "metadata": {},
   "outputs": [
    {
     "data": {
      "text/html": [
       "<style>#sk-container-id-1 {color: black;background-color: white;}#sk-container-id-1 pre{padding: 0;}#sk-container-id-1 div.sk-toggleable {background-color: white;}#sk-container-id-1 label.sk-toggleable__label {cursor: pointer;display: block;width: 100%;margin-bottom: 0;padding: 0.3em;box-sizing: border-box;text-align: center;}#sk-container-id-1 label.sk-toggleable__label-arrow:before {content: \"▸\";float: left;margin-right: 0.25em;color: #696969;}#sk-container-id-1 label.sk-toggleable__label-arrow:hover:before {color: black;}#sk-container-id-1 div.sk-estimator:hover label.sk-toggleable__label-arrow:before {color: black;}#sk-container-id-1 div.sk-toggleable__content {max-height: 0;max-width: 0;overflow: hidden;text-align: left;background-color: #f0f8ff;}#sk-container-id-1 div.sk-toggleable__content pre {margin: 0.2em;color: black;border-radius: 0.25em;background-color: #f0f8ff;}#sk-container-id-1 input.sk-toggleable__control:checked~div.sk-toggleable__content {max-height: 200px;max-width: 100%;overflow: auto;}#sk-container-id-1 input.sk-toggleable__control:checked~label.sk-toggleable__label-arrow:before {content: \"▾\";}#sk-container-id-1 div.sk-estimator input.sk-toggleable__control:checked~label.sk-toggleable__label {background-color: #d4ebff;}#sk-container-id-1 div.sk-label input.sk-toggleable__control:checked~label.sk-toggleable__label {background-color: #d4ebff;}#sk-container-id-1 input.sk-hidden--visually {border: 0;clip: rect(1px 1px 1px 1px);clip: rect(1px, 1px, 1px, 1px);height: 1px;margin: -1px;overflow: hidden;padding: 0;position: absolute;width: 1px;}#sk-container-id-1 div.sk-estimator {font-family: monospace;background-color: #f0f8ff;border: 1px dotted black;border-radius: 0.25em;box-sizing: border-box;margin-bottom: 0.5em;}#sk-container-id-1 div.sk-estimator:hover {background-color: #d4ebff;}#sk-container-id-1 div.sk-parallel-item::after {content: \"\";width: 100%;border-bottom: 1px solid gray;flex-grow: 1;}#sk-container-id-1 div.sk-label:hover label.sk-toggleable__label {background-color: #d4ebff;}#sk-container-id-1 div.sk-serial::before {content: \"\";position: absolute;border-left: 1px solid gray;box-sizing: border-box;top: 0;bottom: 0;left: 50%;z-index: 0;}#sk-container-id-1 div.sk-serial {display: flex;flex-direction: column;align-items: center;background-color: white;padding-right: 0.2em;padding-left: 0.2em;position: relative;}#sk-container-id-1 div.sk-item {position: relative;z-index: 1;}#sk-container-id-1 div.sk-parallel {display: flex;align-items: stretch;justify-content: center;background-color: white;position: relative;}#sk-container-id-1 div.sk-item::before, #sk-container-id-1 div.sk-parallel-item::before {content: \"\";position: absolute;border-left: 1px solid gray;box-sizing: border-box;top: 0;bottom: 0;left: 50%;z-index: -1;}#sk-container-id-1 div.sk-parallel-item {display: flex;flex-direction: column;z-index: 1;position: relative;background-color: white;}#sk-container-id-1 div.sk-parallel-item:first-child::after {align-self: flex-end;width: 50%;}#sk-container-id-1 div.sk-parallel-item:last-child::after {align-self: flex-start;width: 50%;}#sk-container-id-1 div.sk-parallel-item:only-child::after {width: 0;}#sk-container-id-1 div.sk-dashed-wrapped {border: 1px dashed gray;margin: 0 0.4em 0.5em 0.4em;box-sizing: border-box;padding-bottom: 0.4em;background-color: white;}#sk-container-id-1 div.sk-label label {font-family: monospace;font-weight: bold;display: inline-block;line-height: 1.2em;}#sk-container-id-1 div.sk-label-container {text-align: center;}#sk-container-id-1 div.sk-container {/* jupyter's `normalize.less` sets `[hidden] { display: none; }` but bootstrap.min.css set `[hidden] { display: none !important; }` so we also need the `!important` here to be able to override the default hidden behavior on the sphinx rendered scikit-learn.org. See: https://github.com/scikit-learn/scikit-learn/issues/21755 */display: inline-block !important;position: relative;}#sk-container-id-1 div.sk-text-repr-fallback {display: none;}</style><div id=\"sk-container-id-1\" class=\"sk-top-container\"><div class=\"sk-text-repr-fallback\"><pre>ColumnTransformer(transformers=[(&#x27;Numerical&#x27;,\n",
       "                                 Pipeline(steps=[(&#x27;Scaled&#x27;, MinMaxScaler())]),\n",
       "                                 array([&#x27;SeniorCitizen&#x27;, &#x27;TotalCharges&#x27;], dtype=object)),\n",
       "                                (&#x27;Categorical&#x27;,\n",
       "                                 Pipeline(steps=[(&#x27;Encoded&#x27;, OneHotEncoder())]),\n",
       "                                 array([&#x27;Partner&#x27;, &#x27;Dependents&#x27;, &#x27;InternetService&#x27;, &#x27;OnlineSecurity&#x27;,\n",
       "       &#x27;OnlineBackup&#x27;, &#x27;DeviceProtection&#x27;, &#x27;TechSupport&#x27;, &#x27;StreamingTV&#x27;,\n",
       "       &#x27;StreamingMovies&#x27;, &#x27;Contract&#x27;, &#x27;PaperlessBilling&#x27;, &#x27;PaymentMethod&#x27;],\n",
       "      dtype=object))])</pre><b>In a Jupyter environment, please rerun this cell to show the HTML representation or trust the notebook. <br />On GitHub, the HTML representation is unable to render, please try loading this page with nbviewer.org.</b></div><div class=\"sk-container\" hidden><div class=\"sk-item sk-dashed-wrapped\"><div class=\"sk-label-container\"><div class=\"sk-label sk-toggleable\"><input class=\"sk-toggleable__control sk-hidden--visually\" id=\"sk-estimator-id-1\" type=\"checkbox\" ><label for=\"sk-estimator-id-1\" class=\"sk-toggleable__label sk-toggleable__label-arrow\">ColumnTransformer</label><div class=\"sk-toggleable__content\"><pre>ColumnTransformer(transformers=[(&#x27;Numerical&#x27;,\n",
       "                                 Pipeline(steps=[(&#x27;Scaled&#x27;, MinMaxScaler())]),\n",
       "                                 array([&#x27;SeniorCitizen&#x27;, &#x27;TotalCharges&#x27;], dtype=object)),\n",
       "                                (&#x27;Categorical&#x27;,\n",
       "                                 Pipeline(steps=[(&#x27;Encoded&#x27;, OneHotEncoder())]),\n",
       "                                 array([&#x27;Partner&#x27;, &#x27;Dependents&#x27;, &#x27;InternetService&#x27;, &#x27;OnlineSecurity&#x27;,\n",
       "       &#x27;OnlineBackup&#x27;, &#x27;DeviceProtection&#x27;, &#x27;TechSupport&#x27;, &#x27;StreamingTV&#x27;,\n",
       "       &#x27;StreamingMovies&#x27;, &#x27;Contract&#x27;, &#x27;PaperlessBilling&#x27;, &#x27;PaymentMethod&#x27;],\n",
       "      dtype=object))])</pre></div></div></div><div class=\"sk-parallel\"><div class=\"sk-parallel-item\"><div class=\"sk-item\"><div class=\"sk-label-container\"><div class=\"sk-label sk-toggleable\"><input class=\"sk-toggleable__control sk-hidden--visually\" id=\"sk-estimator-id-2\" type=\"checkbox\" ><label for=\"sk-estimator-id-2\" class=\"sk-toggleable__label sk-toggleable__label-arrow\">Numerical</label><div class=\"sk-toggleable__content\"><pre>[&#x27;SeniorCitizen&#x27; &#x27;TotalCharges&#x27;]</pre></div></div></div><div class=\"sk-serial\"><div class=\"sk-item\"><div class=\"sk-serial\"><div class=\"sk-item\"><div class=\"sk-estimator sk-toggleable\"><input class=\"sk-toggleable__control sk-hidden--visually\" id=\"sk-estimator-id-3\" type=\"checkbox\" ><label for=\"sk-estimator-id-3\" class=\"sk-toggleable__label sk-toggleable__label-arrow\">MinMaxScaler</label><div class=\"sk-toggleable__content\"><pre>MinMaxScaler()</pre></div></div></div></div></div></div></div></div><div class=\"sk-parallel-item\"><div class=\"sk-item\"><div class=\"sk-label-container\"><div class=\"sk-label sk-toggleable\"><input class=\"sk-toggleable__control sk-hidden--visually\" id=\"sk-estimator-id-4\" type=\"checkbox\" ><label for=\"sk-estimator-id-4\" class=\"sk-toggleable__label sk-toggleable__label-arrow\">Categorical</label><div class=\"sk-toggleable__content\"><pre>[&#x27;Partner&#x27; &#x27;Dependents&#x27; &#x27;InternetService&#x27; &#x27;OnlineSecurity&#x27; &#x27;OnlineBackup&#x27;\n",
       " &#x27;DeviceProtection&#x27; &#x27;TechSupport&#x27; &#x27;StreamingTV&#x27; &#x27;StreamingMovies&#x27;\n",
       " &#x27;Contract&#x27; &#x27;PaperlessBilling&#x27; &#x27;PaymentMethod&#x27;]</pre></div></div></div><div class=\"sk-serial\"><div class=\"sk-item\"><div class=\"sk-serial\"><div class=\"sk-item\"><div class=\"sk-estimator sk-toggleable\"><input class=\"sk-toggleable__control sk-hidden--visually\" id=\"sk-estimator-id-5\" type=\"checkbox\" ><label for=\"sk-estimator-id-5\" class=\"sk-toggleable__label sk-toggleable__label-arrow\">OneHotEncoder</label><div class=\"sk-toggleable__content\"><pre>OneHotEncoder()</pre></div></div></div></div></div></div></div></div></div></div></div></div>"
      ],
      "text/plain": [
       "ColumnTransformer(transformers=[('Numerical',\n",
       "                                 Pipeline(steps=[('Scaled', MinMaxScaler())]),\n",
       "                                 array(['SeniorCitizen', 'TotalCharges'], dtype=object)),\n",
       "                                ('Categorical',\n",
       "                                 Pipeline(steps=[('Encoded', OneHotEncoder())]),\n",
       "                                 array(['Partner', 'Dependents', 'InternetService', 'OnlineSecurity',\n",
       "       'OnlineBackup', 'DeviceProtection', 'TechSupport', 'StreamingTV',\n",
       "       'StreamingMovies', 'Contract', 'PaperlessBilling', 'PaymentMethod'],\n",
       "      dtype=object))])"
      ]
     },
     "execution_count": 1540,
     "metadata": {},
     "output_type": "execute_result"
    }
   ],
   "source": [
    "# Pipeline for Data Preprocessing for deployment app.\n",
    "inf_num = X_train_num1.columns.values\n",
    "inf_cat = X_train_cat.columns.values\n",
    "scaler_pipe = Pipeline([('Scaled', scaler)])\n",
    "encoder_pipe = Pipeline([('Encoded', ohe)])\n",
    "\n",
    "preproc_pipe = ColumnTransformer(transformers=[('Numerical', scaler_pipe, inf_num), ('Categorical', encoder_pipe, inf_cat)])\n",
    "\n",
    "preproc_pipe.fit(X_train)"
   ]
  },
  {
   "cell_type": "code",
   "execution_count": 1541,
   "metadata": {},
   "outputs": [],
   "source": [
    "# Transform inference dataset.\n",
    "df_inf_final = preproc_pipe.transform(df_inf)"
   ]
  },
  {
   "cell_type": "code",
   "execution_count": 1542,
   "metadata": {},
   "outputs": [
    {
     "name": "stdout",
     "output_type": "stream",
     "text": [
      "1/1 [==============================] - 0s 69ms/step\n"
     ]
    },
    {
     "data": {
      "text/html": [
       "<div>\n",
       "<style scoped>\n",
       "    .dataframe tbody tr th:only-of-type {\n",
       "        vertical-align: middle;\n",
       "    }\n",
       "\n",
       "    .dataframe tbody tr th {\n",
       "        vertical-align: top;\n",
       "    }\n",
       "\n",
       "    .dataframe thead th {\n",
       "        text-align: right;\n",
       "    }\n",
       "</style>\n",
       "<table border=\"1\" class=\"dataframe\">\n",
       "  <thead>\n",
       "    <tr style=\"text-align: right;\">\n",
       "      <th></th>\n",
       "      <th>Churn</th>\n",
       "    </tr>\n",
       "  </thead>\n",
       "  <tbody>\n",
       "    <tr>\n",
       "      <th>0</th>\n",
       "      <td>0.0</td>\n",
       "    </tr>\n",
       "    <tr>\n",
       "      <th>1</th>\n",
       "      <td>0.0</td>\n",
       "    </tr>\n",
       "    <tr>\n",
       "      <th>2</th>\n",
       "      <td>0.0</td>\n",
       "    </tr>\n",
       "    <tr>\n",
       "      <th>3</th>\n",
       "      <td>1.0</td>\n",
       "    </tr>\n",
       "    <tr>\n",
       "      <th>4</th>\n",
       "      <td>0.0</td>\n",
       "    </tr>\n",
       "  </tbody>\n",
       "</table>\n",
       "</div>"
      ],
      "text/plain": [
       "   Churn\n",
       "0    0.0\n",
       "1    0.0\n",
       "2    0.0\n",
       "3    1.0\n",
       "4    0.0"
      ]
     },
     "execution_count": 1542,
     "metadata": {},
     "output_type": "execute_result"
    }
   ],
   "source": [
    "# Predicting inference dataset outcome for target \"Churn.\"\n",
    "pred_inf = model_func2.predict(df_inf_final)\n",
    "pred_inf = pd.DataFrame(np.round_(pred_inf), columns=['Churn'])\n",
    "pred_inf"
   ]
  },
  {
   "cell_type": "code",
   "execution_count": 1543,
   "metadata": {},
   "outputs": [
    {
     "data": {
      "text/html": [
       "<div>\n",
       "<style scoped>\n",
       "    .dataframe tbody tr th:only-of-type {\n",
       "        vertical-align: middle;\n",
       "    }\n",
       "\n",
       "    .dataframe tbody tr th {\n",
       "        vertical-align: top;\n",
       "    }\n",
       "\n",
       "    .dataframe thead th {\n",
       "        text-align: right;\n",
       "    }\n",
       "</style>\n",
       "<table border=\"1\" class=\"dataframe\">\n",
       "  <thead>\n",
       "    <tr style=\"text-align: right;\">\n",
       "      <th></th>\n",
       "      <th>SeniorCitizen</th>\n",
       "      <th>Partner</th>\n",
       "      <th>Dependents</th>\n",
       "      <th>InternetService</th>\n",
       "      <th>OnlineSecurity</th>\n",
       "      <th>OnlineBackup</th>\n",
       "      <th>DeviceProtection</th>\n",
       "      <th>TechSupport</th>\n",
       "      <th>StreamingTV</th>\n",
       "      <th>StreamingMovies</th>\n",
       "      <th>Contract</th>\n",
       "      <th>PaperlessBilling</th>\n",
       "      <th>PaymentMethod</th>\n",
       "      <th>TotalCharges</th>\n",
       "      <th>Churn</th>\n",
       "    </tr>\n",
       "  </thead>\n",
       "  <tbody>\n",
       "    <tr>\n",
       "      <th>0</th>\n",
       "      <td>0</td>\n",
       "      <td>No</td>\n",
       "      <td>No</td>\n",
       "      <td>DSL</td>\n",
       "      <td>Yes</td>\n",
       "      <td>No</td>\n",
       "      <td>Yes</td>\n",
       "      <td>No</td>\n",
       "      <td>No</td>\n",
       "      <td>No</td>\n",
       "      <td>One year</td>\n",
       "      <td>No</td>\n",
       "      <td>Mailed check</td>\n",
       "      <td>2280</td>\n",
       "      <td>0.0</td>\n",
       "    </tr>\n",
       "    <tr>\n",
       "      <th>1</th>\n",
       "      <td>1</td>\n",
       "      <td>No</td>\n",
       "      <td>Yes</td>\n",
       "      <td>Fiber optic</td>\n",
       "      <td>Yes</td>\n",
       "      <td>No</td>\n",
       "      <td>Yes</td>\n",
       "      <td>Yes</td>\n",
       "      <td>Yes</td>\n",
       "      <td>No</td>\n",
       "      <td>Two year</td>\n",
       "      <td>Yes</td>\n",
       "      <td>Credit card (automatic)</td>\n",
       "      <td>3900</td>\n",
       "      <td>0.0</td>\n",
       "    </tr>\n",
       "    <tr>\n",
       "      <th>2</th>\n",
       "      <td>1</td>\n",
       "      <td>Yes</td>\n",
       "      <td>No</td>\n",
       "      <td>No</td>\n",
       "      <td>No internet service</td>\n",
       "      <td>No internet service</td>\n",
       "      <td>No internet service</td>\n",
       "      <td>No internet service</td>\n",
       "      <td>No internet service</td>\n",
       "      <td>No internet service</td>\n",
       "      <td>Month-to-month</td>\n",
       "      <td>No</td>\n",
       "      <td>Bank transfer (automatic)</td>\n",
       "      <td>60</td>\n",
       "      <td>0.0</td>\n",
       "    </tr>\n",
       "    <tr>\n",
       "      <th>3</th>\n",
       "      <td>0</td>\n",
       "      <td>Yes</td>\n",
       "      <td>Yes</td>\n",
       "      <td>Fiber optic</td>\n",
       "      <td>No</td>\n",
       "      <td>Yes</td>\n",
       "      <td>No</td>\n",
       "      <td>Yes</td>\n",
       "      <td>Yes</td>\n",
       "      <td>Yes</td>\n",
       "      <td>Month-to-month</td>\n",
       "      <td>Yes</td>\n",
       "      <td>Electronic check</td>\n",
       "      <td>8000</td>\n",
       "      <td>1.0</td>\n",
       "    </tr>\n",
       "    <tr>\n",
       "      <th>4</th>\n",
       "      <td>0</td>\n",
       "      <td>No</td>\n",
       "      <td>No</td>\n",
       "      <td>Fiber optic</td>\n",
       "      <td>Yes</td>\n",
       "      <td>Yes</td>\n",
       "      <td>Yes</td>\n",
       "      <td>No</td>\n",
       "      <td>No</td>\n",
       "      <td>Yes</td>\n",
       "      <td>Two year</td>\n",
       "      <td>Yes</td>\n",
       "      <td>Credit card (automatic)</td>\n",
       "      <td>5500</td>\n",
       "      <td>0.0</td>\n",
       "    </tr>\n",
       "  </tbody>\n",
       "</table>\n",
       "</div>"
      ],
      "text/plain": [
       "   SeniorCitizen Partner Dependents InternetService       OnlineSecurity  \\\n",
       "0              0      No         No             DSL                  Yes   \n",
       "1              1      No        Yes     Fiber optic                  Yes   \n",
       "2              1     Yes         No              No  No internet service   \n",
       "3              0     Yes        Yes     Fiber optic                   No   \n",
       "4              0      No         No     Fiber optic                  Yes   \n",
       "\n",
       "          OnlineBackup     DeviceProtection          TechSupport  \\\n",
       "0                   No                  Yes                   No   \n",
       "1                   No                  Yes                  Yes   \n",
       "2  No internet service  No internet service  No internet service   \n",
       "3                  Yes                   No                  Yes   \n",
       "4                  Yes                  Yes                   No   \n",
       "\n",
       "           StreamingTV      StreamingMovies        Contract PaperlessBilling  \\\n",
       "0                   No                   No        One year               No   \n",
       "1                  Yes                   No        Two year              Yes   \n",
       "2  No internet service  No internet service  Month-to-month               No   \n",
       "3                  Yes                  Yes  Month-to-month              Yes   \n",
       "4                   No                  Yes        Two year              Yes   \n",
       "\n",
       "               PaymentMethod  TotalCharges  Churn  \n",
       "0               Mailed check          2280    0.0  \n",
       "1    Credit card (automatic)          3900    0.0  \n",
       "2  Bank transfer (automatic)            60    0.0  \n",
       "3           Electronic check          8000    1.0  \n",
       "4    Credit card (automatic)          5500    0.0  "
      ]
     },
     "execution_count": 1543,
     "metadata": {},
     "output_type": "execute_result"
    }
   ],
   "source": [
    "# Concat to display final table of features with predicted target outcome.\n",
    "pd.concat([df_inf, pred_inf], axis=1)"
   ]
  },
  {
   "cell_type": "markdown",
   "metadata": {},
   "source": [
    "## XI. Model Saving"
   ]
  },
  {
   "cell_type": "code",
   "execution_count": 1544,
   "metadata": {},
   "outputs": [],
   "source": [
    "# Saving Data Preprocessing Pipeline\n",
    "pickle.dump(preproc_pipe, open('proc_pipe_ml1_p2.pkl', 'wb'))"
   ]
  },
  {
   "cell_type": "code",
   "execution_count": 1545,
   "metadata": {},
   "outputs": [],
   "source": [
    "# Saving ANN model\n",
    "model_func2.save('ml1_p2_model.h5')"
   ]
  },
  {
   "cell_type": "markdown",
   "metadata": {},
   "source": [
    "## XII. Conclusion"
   ]
  },
  {
   "cell_type": "markdown",
   "metadata": {},
   "source": [
    "To recall, the objective of this notebook is to create a Artificial Neural Network (ANN) model in which the model could predict whether or not a customer will churn from the Telco services.\n",
    "\n",
    "To summarize, Class 0 (No) means customers will not churn, whilst Class 1 (Yes) means customers will churn. As such, we are looking to avoid two error types:\n",
    "\n",
    "- Type 1: Class 0 Recall = The higher this percentage is, the less likely the model will incorrectly predict customers WILL CHURN when in fact they WILL NOT.\n",
    "- Type 2: Class 1 Recall = The higher this percentage is, the less likely the model will incorrectly predict customers WILL NOT CHURN when in fact they WILL.\n",
    "\n",
    "Only Test Sets are used for the evaluation. \n",
    "\n",
    "The second type of error has more severe consequences than the first type. In a condition where Recall for Class 1 is poor, we may be more susceptible to letting customers churn without prior notice, reducing our customer number and therefore potentially reducing income. On the other hand, in a condition where Recall for Class 0 is poor, we may be more to accidentally giving more benefits to customers that will actually not churn. This may, although minimal, burden our resource and create a potential environment in which we focus at the wrong customers, causing further problems down the line. As such, we would want these two recall values to be as close to 100% as possible.\n",
    "\n",
    "To conclude, this is the results we can gather from our model evaluation:\n",
    "\n",
    "Sequential API ANN Model -\n",
    "\n",
    "- Class 0 Recall is 0.69 / 69%\n",
    "- Class 1 Recall is 0.81 / 81%\n",
    "- AUC Score is 0.748 / 74.8%\n",
    "- Accuracy is 0.72 / 72%\n",
    "- Model is just-fit\n",
    "\n",
    "Functional API ANN Model -\n",
    "\n",
    "- Class 0 Recall is 0.73 / 73%\n",
    "- Class 1 Recall is 0.78 / 78%\n",
    "- AUC Score is 0.754 / 75.4%\n",
    "- Accuracy is 0.74 / 74%\n",
    "- Model is just-fit\n",
    "\n",
    "Tuning our models using the following steps:\n",
    "\n",
    "For Sequential API - Changing optimizer to Adamax, adding clipvalue=0.1, learning_rate=0.001, and changing epoch from 50 to 20.\n",
    "\n",
    "For Functional API - Changing optimizer to Adamax, adding clipvalue=0.1, learning_rate=0.001, and changing epoch from 50 to 20.\n",
    "\n",
    "We obtain results of:\n",
    "\n",
    "Sequential API ANN Model (Improved) -\n",
    "\n",
    "- Class 0 Recall is 0.70 / 70%\n",
    "- Class 1 Recall is 0.80 / 80%\n",
    "- AUC Score is 0.75 / 75%\n",
    "- Accuracy is 0.73 / 73%\n",
    "- Model is just-fit\n",
    "\n",
    "Functional API ANN Model (Improved) -\n",
    "\n",
    "- Class 0 Recall is 0.75 / 75%\n",
    "- Class 1 Recall is 0.75 / 75%\n",
    "- AUC Score is 0.753 / 75.3%\n",
    "- Accuracy is 0.75 / 75%\n",
    "- Model is just-fit\n",
    "\n",
    "The improved Functinal API ANN model is best model in terms of Class 1 Recall."
   ]
  }
 ],
 "metadata": {
  "kernelspec": {
   "display_name": "Python 3.9.12 ('base')",
   "language": "python",
   "name": "python3"
  },
  "language_info": {
   "codemirror_mode": {
    "name": "ipython",
    "version": 3
   },
   "file_extension": ".py",
   "mimetype": "text/x-python",
   "name": "python",
   "nbconvert_exporter": "python",
   "pygments_lexer": "ipython3",
   "version": "3.9.12"
  },
  "orig_nbformat": 4,
  "vscode": {
   "interpreter": {
    "hash": "fb26c2799632769ff949349bdf197b904ff929545fca6b113524e62029cfec5d"
   }
  }
 },
 "nbformat": 4,
 "nbformat_minor": 2
}
